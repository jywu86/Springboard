{
 "cells": [
  {
   "cell_type": "code",
   "execution_count": 1,
   "metadata": {
    "collapsed": true
   },
   "outputs": [],
   "source": [
    "import pickle \n",
    "import matplotlib.pyplot as plt \n",
    "import seaborn as sns\n",
    "import pandas as pd"
   ]
  },
  {
   "cell_type": "code",
   "execution_count": 2,
   "metadata": {
    "collapsed": true
   },
   "outputs": [],
   "source": [
    "pickle_in = open('cleaned_df.pickle','rb')\n",
    "df = pickle.load(pickle_in) #loading cleaned dataframe"
   ]
  },
  {
   "cell_type": "code",
   "execution_count": 3,
   "metadata": {},
   "outputs": [
    {
     "data": {
      "text/html": [
       "<div>\n",
       "<style>\n",
       "    .dataframe thead tr:only-child th {\n",
       "        text-align: right;\n",
       "    }\n",
       "\n",
       "    .dataframe thead th {\n",
       "        text-align: left;\n",
       "    }\n",
       "\n",
       "    .dataframe tbody tr th {\n",
       "        vertical-align: top;\n",
       "    }\n",
       "</style>\n",
       "<table border=\"1\" class=\"dataframe\">\n",
       "  <thead>\n",
       "    <tr style=\"text-align: right;\">\n",
       "      <th></th>\n",
       "      <th>Product.Name</th>\n",
       "      <th>Category</th>\n",
       "      <th>Brand</th>\n",
       "      <th>Seller</th>\n",
       "      <th>Price</th>\n",
       "      <th>Fees</th>\n",
       "      <th>Net</th>\n",
       "      <th>Weight</th>\n",
       "      <th>Rating</th>\n",
       "      <th>Rank</th>\n",
       "      <th>Sellers</th>\n",
       "      <th>LQS</th>\n",
       "      <th>Sales</th>\n",
       "      <th>Revenue</th>\n",
       "      <th>Date</th>\n",
       "      <th>Rated</th>\n",
       "      <th>X of Rating</th>\n",
       "    </tr>\n",
       "    <tr>\n",
       "      <th>ASIN</th>\n",
       "      <th></th>\n",
       "      <th></th>\n",
       "      <th></th>\n",
       "      <th></th>\n",
       "      <th></th>\n",
       "      <th></th>\n",
       "      <th></th>\n",
       "      <th></th>\n",
       "      <th></th>\n",
       "      <th></th>\n",
       "      <th></th>\n",
       "      <th></th>\n",
       "      <th></th>\n",
       "      <th></th>\n",
       "      <th></th>\n",
       "      <th></th>\n",
       "      <th></th>\n",
       "    </tr>\n",
       "  </thead>\n",
       "  <tbody>\n",
       "    <tr>\n",
       "      <th>B06XFMZX5W</th>\n",
       "      <td>\"Beauty and the Beast\" Rose Kit, Red Silk Rose...</td>\n",
       "      <td>Arts, Crafts &amp; Sewing</td>\n",
       "      <td>Louis Garden</td>\n",
       "      <td>Louis Garden</td>\n",
       "      <td>25.99</td>\n",
       "      <td>8.65</td>\n",
       "      <td>17.34</td>\n",
       "      <td>2.1 lbs</td>\n",
       "      <td>4.1 (290)</td>\n",
       "      <td>1942.0</td>\n",
       "      <td>3.0</td>\n",
       "      <td>47.0</td>\n",
       "      <td>457.0</td>\n",
       "      <td>11877.43</td>\n",
       "      <td>2018-10-07 00:00:00</td>\n",
       "      <td>4.1</td>\n",
       "      <td>290.0</td>\n",
       "    </tr>\n",
       "    <tr>\n",
       "      <th>B0756PZL6G</th>\n",
       "      <td>#11 Hobby Blades - Precision Cut SK5 Carbon St...</td>\n",
       "      <td>Arts, Crafts &amp; Sewing</td>\n",
       "      <td>Unknown</td>\n",
       "      <td>Selective 21</td>\n",
       "      <td>10.89</td>\n",
       "      <td>4.04</td>\n",
       "      <td>6.85</td>\n",
       "      <td>0.2 lbs</td>\n",
       "      <td>4.4 (20)</td>\n",
       "      <td>2106.0</td>\n",
       "      <td>1.0</td>\n",
       "      <td>41.0</td>\n",
       "      <td>564.0</td>\n",
       "      <td>6141.96</td>\n",
       "      <td>2018-10-07 00:00:00</td>\n",
       "      <td>4.4</td>\n",
       "      <td>20.0</td>\n",
       "    </tr>\n",
       "    <tr>\n",
       "      <th>B00FBFUB3U</th>\n",
       "      <td>#3 4KG Foundry Clay Graphite Crucibles Cup Fur...</td>\n",
       "      <td>Arts, Crafts &amp; Sewing</td>\n",
       "      <td>Rosenthal Collection</td>\n",
       "      <td>Five Star Savings</td>\n",
       "      <td>19.95</td>\n",
       "      <td>7.84</td>\n",
       "      <td>12.11</td>\n",
       "      <td>2.35 lbs</td>\n",
       "      <td>4.2 (172)</td>\n",
       "      <td>8115.0</td>\n",
       "      <td>1.0</td>\n",
       "      <td>35.0</td>\n",
       "      <td>295.0</td>\n",
       "      <td>5885.25</td>\n",
       "      <td>2018-10-07 00:00:00</td>\n",
       "      <td>4.2</td>\n",
       "      <td>172.0</td>\n",
       "    </tr>\n",
       "    <tr>\n",
       "      <th>B01M6XQIXE</th>\n",
       "      <td>(10) 12\" x 12\" Sheets - Oracal 651 Black Adhes...</td>\n",
       "      <td>Arts, Crafts &amp; Sewing</td>\n",
       "      <td>ORACAL</td>\n",
       "      <td>Vinyl One</td>\n",
       "      <td>12.99</td>\n",
       "      <td>5.14</td>\n",
       "      <td>7.85</td>\n",
       "      <td>0.4 lbs</td>\n",
       "      <td>4.3 (38)</td>\n",
       "      <td>2352.0</td>\n",
       "      <td>2.0</td>\n",
       "      <td>65.0</td>\n",
       "      <td>383.0</td>\n",
       "      <td>4975.17</td>\n",
       "      <td>2018-10-07 00:00:00</td>\n",
       "      <td>4.3</td>\n",
       "      <td>38.0</td>\n",
       "    </tr>\n",
       "    <tr>\n",
       "      <th>B01MAXJ4KI</th>\n",
       "      <td>(10) 12\" x 12\" Sheets - Oracal 651 Black Adhes...</td>\n",
       "      <td>Arts, Crafts &amp; Sewing</td>\n",
       "      <td>ORACAL</td>\n",
       "      <td>Vinyl One</td>\n",
       "      <td>12.99</td>\n",
       "      <td>5.14</td>\n",
       "      <td>7.85</td>\n",
       "      <td>0.6 lbs</td>\n",
       "      <td>4.3 (38)</td>\n",
       "      <td>2344.0</td>\n",
       "      <td>2.0</td>\n",
       "      <td>45.0</td>\n",
       "      <td>377.0</td>\n",
       "      <td>4897.23</td>\n",
       "      <td>2018-10-07 00:00:00</td>\n",
       "      <td>4.3</td>\n",
       "      <td>38.0</td>\n",
       "    </tr>\n",
       "  </tbody>\n",
       "</table>\n",
       "</div>"
      ],
      "text/plain": [
       "                                                 Product.Name  \\\n",
       "ASIN                                                            \n",
       "B06XFMZX5W  \"Beauty and the Beast\" Rose Kit, Red Silk Rose...   \n",
       "B0756PZL6G  #11 Hobby Blades - Precision Cut SK5 Carbon St...   \n",
       "B00FBFUB3U  #3 4KG Foundry Clay Graphite Crucibles Cup Fur...   \n",
       "B01M6XQIXE  (10) 12\" x 12\" Sheets - Oracal 651 Black Adhes...   \n",
       "B01MAXJ4KI  (10) 12\" x 12\" Sheets - Oracal 651 Black Adhes...   \n",
       "\n",
       "                         Category                 Brand             Seller  \\\n",
       "ASIN                                                                         \n",
       "B06XFMZX5W  Arts, Crafts & Sewing          Louis Garden       Louis Garden   \n",
       "B0756PZL6G  Arts, Crafts & Sewing               Unknown       Selective 21   \n",
       "B00FBFUB3U  Arts, Crafts & Sewing  Rosenthal Collection  Five Star Savings   \n",
       "B01M6XQIXE  Arts, Crafts & Sewing                ORACAL          Vinyl One   \n",
       "B01MAXJ4KI  Arts, Crafts & Sewing                ORACAL          Vinyl One   \n",
       "\n",
       "            Price  Fees    Net    Weight     Rating    Rank  Sellers   LQS  \\\n",
       "ASIN                                                                         \n",
       "B06XFMZX5W  25.99  8.65  17.34   2.1 lbs  4.1 (290)  1942.0      3.0  47.0   \n",
       "B0756PZL6G  10.89  4.04   6.85   0.2 lbs   4.4 (20)  2106.0      1.0  41.0   \n",
       "B00FBFUB3U  19.95  7.84  12.11  2.35 lbs  4.2 (172)  8115.0      1.0  35.0   \n",
       "B01M6XQIXE  12.99  5.14   7.85   0.4 lbs   4.3 (38)  2352.0      2.0  65.0   \n",
       "B01MAXJ4KI  12.99  5.14   7.85   0.6 lbs   4.3 (38)  2344.0      2.0  45.0   \n",
       "\n",
       "            Sales   Revenue                 Date  Rated  X of Rating  \n",
       "ASIN                                                                  \n",
       "B06XFMZX5W  457.0  11877.43  2018-10-07 00:00:00    4.1        290.0  \n",
       "B0756PZL6G  564.0   6141.96  2018-10-07 00:00:00    4.4         20.0  \n",
       "B00FBFUB3U  295.0   5885.25  2018-10-07 00:00:00    4.2        172.0  \n",
       "B01M6XQIXE  383.0   4975.17  2018-10-07 00:00:00    4.3         38.0  \n",
       "B01MAXJ4KI  377.0   4897.23  2018-10-07 00:00:00    4.3         38.0  "
      ]
     },
     "execution_count": 3,
     "metadata": {},
     "output_type": "execute_result"
    }
   ],
   "source": [
    "df.head()"
   ]
  },
  {
   "cell_type": "code",
   "execution_count": 4,
   "metadata": {
    "collapsed": true
   },
   "outputs": [],
   "source": [
    "df_description = df['Product.Name']"
   ]
  },
  {
   "cell_type": "code",
   "execution_count": 35,
   "metadata": {},
   "outputs": [],
   "source": [
    "from sklearn.feature_extraction.text import TfidfVectorizer\n",
    "from sklearn.cluster import KMeans\n",
    "import numpy as np\n",
    "\n",
    "vectorizer = TfidfVectorizer() #instantiating Text Vectorizer\n",
    "ks = np.arange(2,15)  #range of k-values\n",
    "df_matrix = vectorizer.fit_transform(df_description)  #creating spares matrix from product descriptions\n",
    "inertia = []\n",
    "\n",
    "for k in ks:\n",
    "    model = KMeans(n_clusters=k)\n",
    "    model.fit(df_matrix)\n",
    "    inertia.append(model.inertia_)"
   ]
  },
  {
   "cell_type": "code",
   "execution_count": 49,
   "metadata": {},
   "outputs": [
    {
     "data": {
      "image/png": "[encoded data removed]",
      "text/plain": [
       "<matplotlib.figure.Figure at 0x1180acdd8>"
      ]
     },
     "metadata": {},
     "output_type": "display_data"
    }
   ],
   "source": [
    "#ploting a chart showing SS for each K\n",
    "plt.plot(ks,inertia)\n",
    "plt.xlabel('k value')\n",
    "plt.ylabel('SSE')\n",
    "plt.title('SSE vs K-values')\n",
    "plt.show()"
   ]
  },
  {
   "cell_type": "code",
   "execution_count": 46,
   "metadata": {},
   "outputs": [
    {
     "data": {
      "image/png": "[encoded data removed]",
      "text/plain": [
       "<matplotlib.figure.Figure at 0x1171d3940>"
      ]
     },
     "metadata": {},
     "output_type": "display_data"
    }
   ],
   "source": [
    "#find the number of points per cluster under cluster=7\n",
    "model = KMeans(n_clusters=6).fit(df_matrix)\n",
    "\n",
    "Npercluster = np.bincount(model.labels_)\n",
    "nindex = np.arange(1,7)\n",
    "clusterCount = pd.DataFrame(Npercluster,index=nindex)\n",
    "\n",
    "clusterCount.plot(kind='bar')\n",
    "plt.xlabel('Clusters')\n",
    "plt.ylabel('Count of ASINs')\n",
    "plt.title('Number of ASINs per Cluster')\n",
    "plt.show()"
   ]
  },
  {
   "cell_type": "markdown",
   "metadata": {},
   "source": [
    "## Need to find features that characterize the products vs sales numbers.  "
   ]
  },
  {
   "cell_type": "code",
   "execution_count": 28,
   "metadata": {},
   "outputs": [
    {
     "ename": "TypeError",
     "evalue": "fit_transform() missing 1 required positional argument: 'raw_documents'",
     "output_type": "error",
     "traceback": [
      "\u001b[0;31m---------------------------------------------------------------------------\u001b[0m",
      "\u001b[0;31mTypeError\u001b[0m                                 Traceback (most recent call last)",
      "\u001b[0;32m<ipython-input-28-e9ee13b0dea7>\u001b[0m in \u001b[0;36m<module>\u001b[0;34m()\u001b[0m\n\u001b[0;32m----> 1\u001b[0;31m \u001b[0mvectorizer\u001b[0m\u001b[0;34m.\u001b[0m\u001b[0mfit_transform\u001b[0m\u001b[0;34m(\u001b[0m\u001b[0mdf_description\u001b[0m\u001b[0;34m.\u001b[0m\u001b[0miloc\u001b[0m\u001b[0;34m[\u001b[0m\u001b[0;36m0\u001b[0m\u001b[0;34m]\u001b[0m\u001b[0;34m)\u001b[0m\u001b[0;34m\u001b[0m\u001b[0m\n\u001b[0m",
      "\u001b[0;31mTypeError\u001b[0m: fit_transform() missing 1 required positional argument: 'raw_documents'"
     ]
    }
   ],
   "source": [
    "vectorizer.fit_transform(df_description.iloc[0])"
   ]
  },
  {
   "cell_type": "code",
   "execution_count": null,
   "metadata": {
    "collapsed": true
   },
   "outputs": [],
   "source": [
    "#importing KMeans\n",
    "from sklearn.cluster import KMeans\n",
    "import numpy as np\n",
    "\n"
   ]
  }
 ],
 "metadata": {
  "kernelspec": {
   "display_name": "Python 3",
   "language": "python",
   "name": "python3"
  },
  "language_info": {
   "codemirror_mode": {
    "name": "ipython",
    "version": 3
   },
   "file_extension": ".py",
   "mimetype": "text/x-python",
   "name": "python",
   "nbconvert_exporter": "python",
   "pygments_lexer": "ipython3",
   "version": "3.6.1"
  }
 },
 "nbformat": 4,
 "nbformat_minor": 2
}
