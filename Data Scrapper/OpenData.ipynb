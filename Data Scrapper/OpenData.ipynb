{
 "cells": [
  {
   "cell_type": "code",
   "execution_count": 97,
   "metadata": {
    "collapsed": true
   },
   "outputs": [],
   "source": [
    "import time\n",
    "from selenium import webdriver"
   ]
  },
  {
   "cell_type": "code",
   "execution_count": 98,
   "metadata": {},
   "outputs": [],
   "source": [
    "driver = webdriver.Firefox()  # Optional argument, if not specified will search path."
   ]
  },
  {
   "cell_type": "code",
   "execution_count": 99,
   "metadata": {
    "collapsed": true
   },
   "outputs": [],
   "source": [
    "driver.get('https://members.junglescout.com/#/login')"
   ]
  },
  {
   "cell_type": "code",
   "execution_count": 100,
   "metadata": {},
   "outputs": [
    {
     "data": {
      "text/plain": [
       "'<html lang=\"en\"><head><meta charset=\"utf-8\"><meta name=\"viewport\" content=\"width=device-width,initial-scale=1,shrink-to-fit=no\"><meta name=\"theme-color\" content=\"#000000\"><meta name=\"stripe-key\" content=\"#000000\"><meta name=\"google-site-verification\" content=\"mTGF6TC5Ia5CJuGeRDXcMg2v_R3x-lw-RX9dR5kw9Zk\"><title>Jungle Scout Web App</title><script charset=\"utf-8\" src=\"https://tag.baidu.com/vcard/v.js?siteid=12132610&amp;url=https%3A%2F%2Fmembers.junglescout.com%2F%23%2Flogin&amp;source=junglescout.com%2Fweb-app&amp;rnd=114862636&amp;hm=1\"></script><script src=\"https://hm.baidu.com/hm.js?b9a2226b0d50ff5a979a9492ccd80e44\"></script><script async=\"\" src=\"https://s.pinimg.com/ct/core.js\"></script><script async=\"\" src=\"https://a.quora.com/qevents.js\"></script><script src=\"//bat.bing.com/bat.js\" async=\"\"></script><script src=\"https://connect.facebook.net/signals/config/327254374150717?v=2.8.25&amp;r=stable\" async=\"\"></script><script async=\"\" src=\"https://connect.facebook.net/en_US/fbevents.js\"></script><script type=\"text/javascript\" async=\"\" src=\"//static.ads-twitter.com/uwt.js\"></script><script type=\"text/javascript\" async=\"\" src=\"//static.hotjar.com/c/hotjar-286568.js?sv=5\"></script><script type=\"text/javascript\" async=\"\" src=\"https://www.google-analytics.com/analytics.js\"></script><script async=\"\" src=\"https://cdn.pendo.io/agent/static/3d06d0e7-d8ce-4ab4-62b5-eeefc22644c6/pendo.js\"></script><script async=\"\" src=\"https://dna8twue3dlxq.cloudfront.net/js/profitwell.js\"></script><script type=\"text/javascript\" async=\"\" src=\"//cdn.mxpnl.com/libs/mixpanel-2-latest.min.js\"></script><script async=\"\" src=\"//www.googletagmanager.com/gtm.js?id=GTM-TJXJ6N\"></script><script src=\"https://js.stripe.com/v2/\"></script><script src=\"https://js.stripe.com/v3/\"></script><script src=\"https://checkout.stripe.com/checkout.js\"></script><link rel=\"stylesheet\" href=\"https://cdnjs.cloudflare.com/ajax/libs/normalize/6.0.0/normalize.min.css\"><link rel=\"stylesheet\" href=\"https://maxcdn.bootstrapcdn.com/font-awesome/4.7.0/css/font-awesome.min.css\"><link href=\"https://fonts.googleapis.com/css?family=Montserrat|Work+Sans\" rel=\"stylesheet\"><script type=\"text/javascript\">dataLayer=[]</script><link rel=\"chrome-webstore-item\" href=\"https://chrome.google.com/webstore/detail/bckjlihkmgolmgkchbpiponapgjenaoa\"><link rel=\"chrome-webstore-item\" href=\"https://chrome.google.com/webstore/detail/lfgpfhoadcpndoogjiogflmgegfbekec\"><script>!function(e,t,a,n,g){e[n]=e[n]||[],e[n].push({\"gtm.start\":(new Date).getTime(),event:\"gtm.js\"});var m=t.getElementsByTagName(a)[0],r=t.createElement(a);r.async=!0,r.src=\"//www.googletagmanager.com/gtm.js?id=GTM-TJXJ6N\",m.parentNode.insertBefore(r,m)}(window,document,\"script\",\"dataLayer\")</script><script type=\"text/javascript\">var _vwo_code=function(){var t=!1,n=document;return{use_existing_jquery:function(){return!1},library_tolerance:function(){return 2500},finish:function(){if(!t){t=!0;var e=n.getElementById(\"_vis_opt_path_hides\");e&&e.parentNode.removeChild(e)}},finished:function(){return t},load:function(e){var t=n.createElement(\"script\");t.src=e,t.type=\"text/javascript\",t.innerText,t.onerror=function(){_vwo_code.finish()},n.getElementsByTagName(\"head\")[0].appendChild(t)},init:function(){settings_timer=setTimeout(\"_vwo_code.finish()\",2e3);var e=n.createElement(\"style\"),t=\"body{opacity:0 !important;filter:alpha(opacity=0) !important;background:none !important;}\",i=n.getElementsByTagName(\"head\")[0];return e.setAttribute(\"id\",\"_vis_opt_path_hides\"),e.setAttribute(\"type\",\"text/css\"),e.styleSheet?e.styleSheet.cssText=t:e.appendChild(n.createTextNode(t)),i.appendChild(e),this.load(\"//dev.visualwebsiteoptimizer.com/j.php?a=215937&u=\"+encodeURIComponent(n.URL)+\"&r=\"+Math.random()),settings_timer}}}();_vwo_settings_timer=_vwo_code.init()</script><script src=\"//dev.visualwebsiteoptimizer.com/j.php?a=215937&amp;u=https%3A%2F%2Fmembers.junglescout.com%2F%23%2Flogin&amp;r=0.8335784963737818\" type=\"text/javascript\"></script><script type=\"text/javascript\">window._vis_opt_queue=window._vis_opt_queue||[]</script><script type=\"text/javascript\">!function(e,o){var t,n,l,a;o.__SV||((window.mixpanel=o)._i=[],o.init=function(e,t,n){function i(e,t){var n=t.split(\".\");2==n.length&&(e=e[n[0]],t=n[1]),e[t]=function(){e.push([t].concat(Array.prototype.slice.call(arguments,0)))}}var p=o;for(void 0!==n?p=o[n]=[]:n=\"mixpanel\",p.people=p.people||[],p.toString=function(e){var t=\"mixpanel\";return\"mixpanel\"!==n&&(t+=\".\"+n),e||(t+=\" (stub)\"),t},p.people.toString=function(){return p.toString(1)+\".people (stub)\"},l=\"disable time_event track track_pageview track_links track_forms register register_once alias unregister identify name_tag set_config people.set people.set_once people.increment people.append people.union people.track_charge people.clear_charges people.delete_user\".split(\" \"),a=0;a<l.length;a++)i(p,l[a]);o._i.push([e,t,n])},o.__SV=1.2,(t=e.createElement(\"script\")).type=\"text/javascript\",t.async=!0,t.src=\"undefined\"!=typeof MIXPANEL_CUSTOM_LIB_URL?MIXPANEL_CUSTOM_LIB_URL:\"file:\"===e.location.protocol&&\"//cdn.mxpnl.com/libs/mixpanel-2-latest.min.js\".match(/^\\\\/\\\\//)?\"https://cdn.mxpnl.com/libs/mixpanel-2-latest.min.js\":\"//cdn.mxpnl.com/libs/mixpanel-2-latest.min.js\",(n=e.getElementsByTagName(\"script\")[0]).parentNode.insertBefore(t,n))}(document,window.mixpanel||[]),mixpanel.init(\"c74f4284138a8d26cd2c3b5ebba43d0f\",{cross_domain_cookie:!0})</script><link href=\"/static/css/main.6c5ab343.css\" rel=\"stylesheet\"><style type=\"text/css\" data-styled-components=\"hBwDeJ eCAttW ibwhYF dmOLOV bbFkQL gfqtc\" data-styled-components-is-local=\"true\">\\n/* sc-component-id: sc-keyframes-hBwDeJ */\\n@-webkit-keyframes hBwDeJ{100%{stroke-dashoffset:0;}}@keyframes hBwDeJ{100%{stroke-dashoffset:0;}}\\n/* sc-component-id: sc-keyframes-eCAttW */\\n@-webkit-keyframes eCAttW{0 %,100 %{-webkit-transform:none;-ms-transform:none;transform:none;}50 %{-webkit-transform:scale3d(1.1,1.1,1);-ms-transform:scale3d(1.1,1.1,1);transform:scale3d(1.1,1.1,1);}}@keyframes eCAttW{0 %,100 %{-webkit-transform:none;-ms-transform:none;transform:none;}50 %{-webkit-transform:scale3d(1.1,1.1,1);-ms-transform:scale3d(1.1,1.1,1);transform:scale3d(1.1,1.1,1);}}\\n/* sc-component-id: sc-keyframes-ibwhYF */\\n@-webkit-keyframes ibwhYF{to{-webkit-transform:rotate(360deg);-ms-transform:rotate(360deg);transform:rotate(360deg);}}@keyframes ibwhYF{to{-webkit-transform:rotate(360deg);-ms-transform:rotate(360deg);transform:rotate(360deg);}}\\n/* sc-component-id: sc-kGXeez */\\n\\n.bbFkQL{display:-webkit-box;display:-webkit-flex;display:-ms-flexbox;display:flex;-webkit-box-pack:center;-webkit-justify-content:center;-ms-flex-pack:center;justify-content:center;-webkit-align-items:center;-webkit-box-align:center;-ms-flex-align:center;align-items:center;object-fit:contain;outline:none;border-radius:4px;padding:5px 20px;margin:0;min-height:40px;width:100%;min-width:100px;pointer-events:auto;cursor:pointer;background:#ff9c00;border:1.5px solid #ff9c00;-webkit-transition:100ms background ease-in-out,100ms -webkit-transform ease-in-out;-webkit-transition:100ms background ease-in-out,100ms transform ease-in-out;transition:100ms background ease-in-out,100ms transform ease-in-out;}.bbFkQL.upsell{padding:5px;}\\n/* sc-component-id: sc-kpOJdX */\\n\\n.gfqtc{display:-webkit-box;display:-webkit-flex;display:-ms-flexbox;display:flex;-webkit-box-pack:center;-webkit-justify-content:center;-ms-flex-pack:center;justify-content:center;-webkit-align-items:center;-webkit-box-align:center;-ms-flex-align:center;align-items:center;font-family:\\'Work Sans\\',sans-serif;font-size:15px;font-weight:600;font-style:normal;font-stretch:normal;line-height:1.33;-webkit-letter-spacing:-0.2px;-moz-letter-spacing:-0.2px;-ms-letter-spacing:-0.2px;letter-spacing:-0.2px;text-align:center;color:#ffffff;}\\n/* sc-component-id: sc-dxgOiQ */\\n\\n.dmOLOV{-webkit-flex:1;-ms-flex:1;flex:1;margin:5px 0;height:40px;min-height:40px;outline-style:none;padding-left:20px;font-family:\\'Work Sans\\',sans-serif;font-size:15px;line-height:normal;-webkit-letter-spacing:-0.2px;-moz-letter-spacing:-0.2px;-ms-letter-spacing:-0.2px;letter-spacing:-0.2px;text-align:left;color:#516670;border-radius:4px;border:solid 1.3px #cfd8dc;background-color:#ffffff;pointer-events:auto;}.dmOLOV::-webkit-input-placeholder{color:#90a4ae;}.dmOLOV::-moz-placeholder{color:#90a4ae;}.dmOLOV:-ms-input-placeholder{color:#90a4ae;}.dmOLOV::placeholder{color:#90a4ae;}.dmOLOV.error{border:solid 1.3px #ed455a;}.dmOLOV.white{background-color:#ffffff;}.dmOLOV.error{border-color:#ed455a;}.dmOLOV.slider-input{padding-left:0;border:none;background:transparent;max-width:40px;text-align:center;border-bottom:2px solid #ff9c00;border-radius:0;font-size:14px;}</style><style type=\"text/css\" data-styled-components=\"\" data-styled-components-is-local=\"true\"></style><style type=\"text/css\" data-styled-components=\"\" data-styled-components-is-local=\"true\"></style><script src=\"//dev.visualwebsiteoptimizer.com/2.0/va-f9fec82f76292c2cf4149e81b20ec159.js\" type=\"text/javascript\"></script><iframe border=\"0\" class=\"vwo_iframe\" name=\"vwo_0.11075176451417368\" style=\"position: absolute; left: -2000px; display: none\" width=\"1px\" height=\"1px\"></iframe><script async=\"\" src=\"https://script.hotjar.com/modules-e0e01d4a39e36fe2268b153668b598c1.js\"></script><style type=\"text/css\">iframe#_hjRemoteVarsFrame {display: none !important; width: 1px !important; height: 1px !important; opacity: 0 !important; pointer-events: none !important;}</style><script type=\"text/javascript\" async=\"\" src=\"https://app.pendo.io/data/guide.js/3d06d0e7-d8ce-4ab4-62b5-eeefc22644c6?jzb=eJwVyqEOAjEMANB_KfZyDQLBNAQwgMCAWWAsx0jXkrU9Q_j3O_z7wli0mLTDEwLE8_a4OcVLvPFq3NN1vUtL6OCekjjbn7ATdeCNZv0y-2hArLk-ctP-7TxQ1tlan6TiAkmGwvCbAM1wItE&amp;v=2.14.13_prod&amp;ct=1534488581344\"></script></head><body><noscript><iframe src=\"//www.googletagmanager.com/ns.html?id=GTM-TJXJ6N\" height=\"0\" width=\"0\" style=\"display:none;visibility:hidden\"></iframe></noscript><noscript>You need to enable JavaScript to run this app.</noscript><div id=\"root\"><div><div class=\"app\"><div><div class=\"login\"><div class=\"login__content\"><div class=\"login__header\"><img src=\"https://dh2wkbcb9yv3l.cloudfront.net/images/logos/js-logo-full.svg\" alt=\"Jungle Scout\" class=\"login__logo\"><div class=\"login__title\">Please Sign In</div></div><div class=\"login__form\"><input class=\"sc-dxgOiQ dmOLOV\" label=\"email\" placeholder=\"your@email.com\" value=\"\" type=\"email\"><input class=\"sc-dxgOiQ dmOLOV\" label=\"password\" placeholder=\"password\" value=\"\" type=\"password\"><a class=\"login__forgot-password\" href=\"#/reset-password\">Forgot your password?</a><div class=\"login__form__button login__form__button--spaced\"><button class=\"sc-kGXeez bbFkQL\" width=\"100%\"><div class=\"sc-kpOJdX gfqtc\" width=\"100%\">Login to Jungle Scout</div></button></div></div><div class=\"login__redirect\"><a href=\"https://www.junglescout.com#webapp\">Not a member yet? Sign up</a></div></div></div></div></div><div class=\"notifications-wrapper\"></div></div></div><script>!function(e,t,l,n,o,r,d){e.ProfitWellObject=o,e[o]=e[o]||function(){(e[o].q=e[o].q||[]).push(arguments)},e[o].l=1*new Date,r=t.createElement(l),d=t.getElementsByTagName(l)[0],r.async=1,r.src=\"https://dna8twue3dlxq.cloudfront.net/js/profitwell.js\",d.parentNode.insertBefore(r,d)}(window,document,\"script\",0,\"profitwell\"),profitwell(\"auth_token\",\"e2875d361dd8d419d00cf85264939b7e\"),profitwell(\"user_email\",\"\")</script><script src=\"//fast.wistia.com/assets/external/E-v1.js\" async=\"\"></script><script src=\"//fast.wistia.com/embed/medias/4byz6idsgl.jsonp\" async=\"\"></script><script src=\"//fast.wistia.com/embed/medias/j5jo4xmoay.jsonp\" async=\"\"></script><script src=\"//fast.wistia.com/embed/medias/v5jf86prk0.jsonp\" async=\"\"></script><script src=\"//fast.wistia.com/embed/medias/w67hxmqaet.jsonp\" async=\"\"></script><script src=\"//fast.wistia.com/embed/medias/avxqw9h6et.jsonp\" async=\"\"></script><script src=\"//fast.wistia.com/embed/medias/lqjal78chu.jsonp\" async=\"\"></script><script src=\"//fast.wistia.com/embed/medias/6cbxxsswcw.jsonp\" async=\"\"></script><script type=\"text/javascript\" src=\"/static/js/main.2dcbfc7d.js\"></script><iframe allowtransparency=\"true\" scrolling=\"no\" name=\"__privateStripeController0\" allowpaymentrequest=\"true\" src=\"https://js.stripe.com/v3/controller-ef7657bf4e2d8a4fb5cf226fd98e33c8.html#apiKey=pk_live_pAbRKFMui8vwel2PDX9QAD5X&amp;stripeJsId=34af71ac-e6fe-4ec0-8e5e-148e3730cf90&amp;origin=https%3A%2F%2Fmembers.junglescout.com&amp;referrer=https%3A%2F%2Fmembers.junglescout.com%2F%23%2Flogin&amp;controllerId=__privateStripeController0\" aria-hidden=\"true\" tabindex=\"-1\" style=\"border: medium none !important; margin: 0px !important; padding: 0px !important; width: 1px !important; min-width: 100% !important; overflow: hidden !important; display: block !important; visibility: hidden !important; position: fixed !important; height: 1px !important; pointer-events: none !important;\" frameborder=\"0\"></iframe><iframe name=\"stripeXDM_default881499_provider\" id=\"stripeXDM_default881499_provider\" aria-hidden=\"true\" style=\"position: absolute; top: -2000px; left: 0px;\" src=\"https://js.stripe.com/v2/channel.html?stripe_xdm_e=https%3A%2F%2Fmembers.junglescout.com&amp;stripe_xdm_c=default881499&amp;stripe_xdm_p=1#__stripe_transport__\" frameborder=\"0\"></iframe><style id=\"wistia_19_style\" type=\"text/css\" class=\"wistia_injected_style\">\\n@font-face {\\nfont-family: \\'WistiaPlayerOverpassNumbers\\';\\nsrc: url(data:application/x-font-ttf;charset=utf-8;base64,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);\\n}\\n</style>\\n<script type=\"text/javascript\" id=\"\">!function(b,e,f,g,a,c,d){b.fbq||(a=b.fbq=function(){a.callMethod?a.callMethod.apply(a,arguments):a.queue.push(arguments)},b._fbq||(b._fbq=a),a.push=a,a.loaded=!0,a.version=\"2.0\",a.queue=[],c=e.createElement(f),c.async=!0,c.src=g,d=e.getElementsByTagName(f)[0],d.parentNode.insertBefore(c,d))}(window,document,\"script\",\"https://connect.facebook.net/en_US/fbevents.js\");fbq(\"init\",\"327254374150717\");fbq(\"track\",\"PageView\");</script>\\n<noscript><img height=\"1\" width=\"1\" style=\"display:none\" src=\"https://www.facebook.com/tr?id=327254374150717&amp;ev=PageView&amp;noscript=1\"></noscript>\\n\\n\\n<script type=\"text/javascript\" id=\"\">(function(b,c,e,f,d){b[d]=b[d]||[];var g=function(){var a={ti:\"5037608\"};a.q=b[d];b[d]=new UET(a);b[d].push(\"pageLoad\")};var a=c.createElement(e);a.src=f;a.async=1;a.onload=a.onreadystatechange=function(){var b=this.readyState;b&&\"loaded\"!==b&&\"complete\"!==b||(g(),a.onload=a.onreadystatechange=null)};c=c.getElementsByTagName(e)[0];c.parentNode.insertBefore(a,c)})(window,document,\"script\",\"//bat.bing.com/bat.js\",\"uetq\");</script><noscript><img src=\"//bat.bing.com/action/0?ti=5037608&amp;Ver=2\" height=\"0\" width=\"0\" style=\"display:none; visibility: hidden;\"></noscript>\\n\\n<script type=\"text/javascript\" id=\"\">!function(d,e,f,a,b,c){d.qp||(a=d.qp=function(){a.qp?a.qp.apply(a,arguments):a.queue.push(arguments)},a.queue=[],b=document.createElement(e),b.async=!0,b.src=f,c=document.getElementsByTagName(e)[0],c.parentNode.insertBefore(b,c))}(window,\"script\",\"https://a.quora.com/qevents.js\");qp(\"init\",\"160b7b81fa8a4aa9ba92a997539452ca\");qp(\"track\",\"ViewContent\");</script>\\n<noscript><img height=\"1\" width=\"1\" style=\"display:none\" src=\"https://q.quora.com/_/ad/160b7b81fa8a4aa9ba92a997539452ca/pixel?tag=ViewContent&amp;noscript=1\"></noscript>\\n\\n<script type=\"text/javascript\" id=\"\">!function(b){if(!window.pintrk){window.pintrk=function(){window.pintrk.queue.push(Array.prototype.slice.call(arguments))};var a=window.pintrk;a.queue=[];a.version=\"3.0\";a=document.createElement(\"script\");a.async=!0;a.src=b;b=document.getElementsByTagName(\"script\")[0];b.parentNode.insertBefore(a,b)}}(\"https://s.pinimg.com/ct/core.js\");pintrk(\"load\",\"2612873824512\",{em:\"\\\\x3cuser_email_address\\\\x3e\"});pintrk(\"page\");</script>\\n<noscript>\\n<img height=\"1\" width=\"1\" style=\"display:none;\" alt=\"\" src=\"https://ct.pinterest.com/v3/?tid=2612873824512&amp;pd[em]=&lt;hashed_email_address&gt;&amp;noscript=1\">\\n</noscript>\\n<script type=\"text/javascript\" id=\"\">var _hmt=_hmt||[];(function(){var a=document.createElement(\"script\");a.src=\"https://hm.baidu.com/hm.js?b9a2226b0d50ff5a979a9492ccd80e44\";var b=document.getElementsByTagName(\"script\")[0];b.parentNode.insertBefore(a,b)})();</script>\\n<div style=\"width:0px; height:0px; display:none; visibility:hidden;\" id=\"batBeacon0.975145134612357\"><img style=\"width:0px; height:0px; display:none; visibility:hidden;\" id=\"batBeacon0.7430589899625832\" alt=\"\" src=\"https://bat.bing.com/action/0?ti=5037608&amp;Ver=2&amp;mid=3ff314ed-2edc-c152-e6e4-db4668c988e8&amp;pi=0&amp;lg=en-US&amp;sw=2560&amp;sh=1440&amp;sc=24&amp;tl=Jungle%20Scout%20Web%20App&amp;r=junglescout.com%2Fweb-app&amp;p=https%3A%2F%2Fmembers.junglescout.com%2F%23%2Flogin&amp;lt=1270&amp;evt=pageLoad&amp;msclkid=N&amp;rn=931223\" width=\"0\" height=\"0\"></div><iframe style=\"display: none !important; width: 1px !important; height: 1px !important; opacity: 0 !important; pointer-events: none !important;\" name=\"_hjRemoteVarsFrame\" title=\"_hjRemoteVarsFrame\" id=\"_hjRemoteVarsFrame\" src=\"https://vars.hotjar.com/rcj-99d43ead6bdf30da8ed5ffcb4f17100c.html\"></iframe><div id=\"ads\"></div><script src=\"https://cdn.siftscience.com/s.js\"></script><iframe allowtransparency=\"true\" scrolling=\"no\" name=\"__privateStripeMetricsController6\" allowpaymentrequest=\"true\" src=\"https://js.stripe.com/v2/m/outer.html#url=https%3A%2F%2Fmembers.junglescout.com%2F%23%2Flogin&amp;title=Jungle%20Scout%20Web%20App&amp;referrer=junglescout.com%2Fweb-app&amp;muid=1624b04c-b2a5-4c18-a15b-c63e7b4685c3&amp;sid=6fe47b36-5e23-4bb7-96b2-f306ad7e7c78&amp;preview=false\" aria-hidden=\"true\" tabindex=\"-1\" style=\"border: medium none !important; margin: 0px !important; padding: 0px !important; width: 1px !important; min-width: 100% !important; overflow: hidden !important; display: block !important; visibility: hidden !important; position: fixed !important; height: 1px !important; pointer-events: none !important;\" frameborder=\"0\"></iframe><script src=\"https://analytics.twitter.com/i/adsct?p_id=Twitter&amp;p_user_id=0&amp;txn_id=nupt4&amp;events=%5B%5B%22pageview%22%2Cnull%5D%5D&amp;tw_sale_amount=0&amp;tw_order_quantity=0&amp;tw_iframe_status=0&amp;tpx_cb=twttr.conversion.loadPixels&amp;tw_document_href=https%3A%2F%2Fmembers.junglescout.com%2F%23%2Flogin\" type=\"text/javascript\"></script></body></html>'"
      ]
     },
     "execution_count": 100,
     "metadata": {},
     "output_type": "execute_result"
    }
   ],
   "source": [
    "driver.page_source"
   ]
  },
  {
   "cell_type": "code",
   "execution_count": 101,
   "metadata": {
    "collapsed": true
   },
   "outputs": [],
   "source": [
    "user_element, password_element = driver.find_elements_by_class_name(\"sc-dxgOiQ\")"
   ]
  },
  {
   "cell_type": "code",
   "execution_count": 102,
   "metadata": {},
   "outputs": [
    {
     "data": {
      "text/plain": [
       "<selenium.webdriver.firefox.webelement.FirefoxWebElement (session=\"d1bc8208-826e-464d-9698-5ac481985790\", element=\"2fb95cd4-7ed2-3e4b-8cab-be34f51e0871\")>"
      ]
     },
     "execution_count": 102,
     "metadata": {},
     "output_type": "execute_result"
    }
   ],
   "source": [
    "user_element"
   ]
  },
  {
   "cell_type": "code",
   "execution_count": 103,
   "metadata": {
    "collapsed": true
   },
   "outputs": [],
   "source": [
    "from selenium.webdriver.common.action_chains import ActionChains\n",
    "from selenium.webdriver.common.keys import Keys"
   ]
  },
  {
   "cell_type": "code",
   "execution_count": 104,
   "metadata": {
    "collapsed": true
   },
   "outputs": [],
   "source": [
    "ActionChains(driver) \\\n",
    "    .send_keys(\"rudimentalrx@gmail.com\") \\\n",
    "    .send_keys(Keys.TAB) \\\n",
    "    .send_keys(\"Yujun123\") \\\n",
    "    .send_keys(Keys.ENTER) \\\n",
    "    .perform()"
   ]
  },
  {
   "cell_type": "code",
   "execution_count": 105,
   "metadata": {
    "collapsed": true
   },
   "outputs": [],
   "source": [
    "driver.get('https://members.junglescout.com/#/database')"
   ]
  },
  {
   "cell_type": "code",
   "execution_count": 106,
   "metadata": {},
   "outputs": [],
   "source": [
    "word_search = driver.find_elements_by_class_name(\"word-search__input\")"
   ]
  },
  {
   "cell_type": "code",
   "execution_count": 107,
   "metadata": {},
   "outputs": [],
   "source": [
    "#checking category filter\n",
    "checkbox = driver.find_elements_by_class_name(\"checkbox-group\")\n",
    "#0 = Select All\n",
    "checkbox[2].click()\n",
    "checkbox[3].click()\n",
    "checkbox[4].click()\n",
    "checkbox[5].click()\n",
    "checkbox[8].click()\n",
    "checkbox[9].click()\n",
    "checkbox[10].click()\n",
    "checkbox[11].click()\n",
    "checkbox[13].click()\n",
    "checkbox[14].click()\n",
    "checkbox[15].click()\n",
    "checkbox[16].click()\n",
    "checkbox[18].click()\n",
    "checkbox[22].click()\n",
    "checkbox[23].click()\n",
    "checkbox[24].click()\n",
    "checkbox[26].click()\n",
    "checkbox[27].click()\n",
    "checkbox[28].click()\n",
    "checkbox[30].click()\n",
    "#31 = Standard\n",
    "checkbox[31].click()\n",
    "#33 = FBA \n",
    "checkbox[33].click()"
   ]
  },
  {
   "cell_type": "code",
   "execution_count": 64,
   "metadata": {},
   "outputs": [
    {
     "ename": "IndexError",
     "evalue": "list index out of range",
     "output_type": "error",
     "traceback": [
      "\u001b[0;31m---------------------------------------------------------------------------\u001b[0m",
      "\u001b[0;31mIndexError\u001b[0m                                Traceback (most recent call last)",
      "\u001b[0;32m<ipython-input-64-effddb495765>\u001b[0m in \u001b[0;36m<module>\u001b[0;34m()\u001b[0m\n\u001b[0;32m----> 1\u001b[0;31m \u001b[0mword_search\u001b[0m\u001b[0;34m[\u001b[0m\u001b[0;36m3\u001b[0m\u001b[0;34m]\u001b[0m\u001b[0;34m.\u001b[0m\u001b[0mclick\u001b[0m\u001b[0;34m(\u001b[0m\u001b[0;34m)\u001b[0m\u001b[0;34m\u001b[0m\u001b[0m\n\u001b[0m\u001b[1;32m      2\u001b[0m \u001b[0mActionChains\u001b[0m\u001b[0;34m(\u001b[0m\u001b[0mdriver\u001b[0m\u001b[0;34m)\u001b[0m     \u001b[0;34m.\u001b[0m\u001b[0msend_keys\u001b[0m\u001b[0;34m(\u001b[0m\u001b[0;34m\"container\"\u001b[0m\u001b[0;34m)\u001b[0m      \u001b[0;34m.\u001b[0m\u001b[0mperform\u001b[0m\u001b[0;34m(\u001b[0m\u001b[0;34m)\u001b[0m\u001b[0;34m\u001b[0m\u001b[0m\n",
      "\u001b[0;31mIndexError\u001b[0m: list index out of range"
     ]
    }
   ],
   "source": [
    "'''word_search[3].click()\n",
    "ActionChains(driver) \\\n",
    "    .send_keys(\"container\")  \\\n",
    "    .perform()'''"
   ]
  },
  {
   "cell_type": "code",
   "execution_count": 55,
   "metadata": {
    "collapsed": true
   },
   "outputs": [],
   "source": [
    "search_boxes = driver.find_elements_by_tag_name(\"button\")"
   ]
  },
  {
   "cell_type": "code",
   "execution_count": 56,
   "metadata": {},
   "outputs": [
    {
     "data": {
      "text/plain": [
       "18"
      ]
     },
     "execution_count": 56,
     "metadata": {},
     "output_type": "execute_result"
    }
   ],
   "source": [
    "len(search_boxes)"
   ]
  },
  {
   "cell_type": "code",
   "execution_count": 92,
   "metadata": {
    "collapsed": true,
    "scrolled": true
   },
   "outputs": [],
   "source": [
    "search_boxes[4].click()"
   ]
  },
  {
   "cell_type": "code",
   "execution_count": null,
   "metadata": {
    "collapsed": true
   },
   "outputs": [],
   "source": [
    "#button for csv 5"
   ]
  },
  {
   "cell_type": "code",
   "execution_count": 108,
   "metadata": {},
   "outputs": [],
   "source": [
    "#adding criteria for search filters\n",
    "min_max = driver.find_elements_by_class_name(\"filters__min-max__input\")"
   ]
  },
  {
   "cell_type": "code",
   "execution_count": 109,
   "metadata": {},
   "outputs": [],
   "source": [
    "#adding min and max features filter\n",
    "min_max[0].click()\n",
    "ActionChains(driver) \\\n",
    "    .send_keys(\"15\")  \\\n",
    "    .perform()\n",
    "min_max[3].click()\n",
    "ActionChains(driver) \\\n",
    "    .send_keys(\"200\")  \\\n",
    "    .perform()\n",
    "min_max[7].click()\n",
    "ActionChains(driver) \\\n",
    "    .send_keys(\"3.7\")  \\\n",
    "    .perform()\n",
    "min_max[12].click()\n",
    "ActionChains(driver) \\\n",
    "    .send_keys(\"250\")  \\\n",
    "    .perform()"
   ]
  },
  {
   "cell_type": "code",
   "execution_count": 110,
   "metadata": {
    "collapsed": true
   },
   "outputs": [],
   "source": [
    "display = driver.find_elements_by_class_name(\"per-page-option\")"
   ]
  },
  {
   "cell_type": "code",
   "execution_count": 111,
   "metadata": {},
   "outputs": [],
   "source": [
    "#clicking on 200 per page\n",
    "display[3].click()"
   ]
  },
  {
   "cell_type": "code",
   "execution_count": 116,
   "metadata": {},
   "outputs": [],
   "source": [
    "#clicking search button\n",
    "search_button = driver.find_elements_by_class_name(\"sc-kGXeez\")\n",
    "search_button[4].click()"
   ]
  },
  {
   "cell_type": "code",
   "execution_count": 52,
   "metadata": {
    "collapsed": true
   },
   "outputs": [],
   "source": [
    "table_rows = driver.find_elements_by_class_name(\"table__row\")"
   ]
  },
  {
   "cell_type": "code",
   "execution_count": 54,
   "metadata": {},
   "outputs": [
    {
     "data": {
      "text/plain": [
       "26"
      ]
     },
     "execution_count": 54,
     "metadata": {},
     "output_type": "execute_result"
    }
   ],
   "source": [
    "len(table_rows)"
   ]
  },
  {
   "cell_type": "code",
   "execution_count": 102,
   "metadata": {
    "collapsed": true
   },
   "outputs": [],
   "source": [
    "row = table_rows[1]"
   ]
  },
  {
   "cell_type": "code",
   "execution_count": 112,
   "metadata": {
    "collapsed": true
   },
   "outputs": [],
   "source": [
    "def row_cleaner(row):\n",
    "    return [element.text for element in row.find_elements_by_class_name(\"table__cell__section--full\")]"
   ]
  },
  {
   "cell_type": "code",
   "execution_count": 114,
   "metadata": {},
   "outputs": [
    {
     "data": {
      "text/plain": [
       "['\" Chocolate Bite\" LIP GLOSS INTENSE - 0.27 Fluid Oz. (Container w/ Applicator) by \\'RED NEW YORK\\' || Made in USA.|| Ultra Smooth, rich colored | Protection, Long lasting, Soft - NIB',\n",
       " 'ASIN:\\nB077CJDM3J ',\n",
       " 'Category:\\nHealth & Household',\n",
       " 'Brand:\\nRED New York',\n",
       " 'Seller:\\nSelect Bargains',\n",
       " 'Price:\\n$8.95',\n",
       " 'Fees:\\n$4.33',\n",
       " 'Net:\\n$4.62',\n",
       " '0.06 lbs',\n",
       " '',\n",
       " '(0)',\n",
       " '1,246,399',\n",
       " '1',\n",
       " '65',\n",
       " '< 5',\n",
       " '< $44.75']"
      ]
     },
     "execution_count": 114,
     "metadata": {},
     "output_type": "execute_result"
    }
   ],
   "source": [
    "row_cleaner(table_rows[1])"
   ]
  },
  {
   "cell_type": "code",
   "execution_count": null,
   "metadata": {
    "collapsed": true
   },
   "outputs": [],
   "source": []
  }
 ],
 "metadata": {
  "kernelspec": {
   "display_name": "Python 3",
   "language": "python",
   "name": "python3"
  },
  "language_info": {
   "codemirror_mode": {
    "name": "ipython",
    "version": 3
   },
   "file_extension": ".py",
   "mimetype": "text/x-python",
   "name": "python",
   "nbconvert_exporter": "python",
   "pygments_lexer": "ipython3",
   "version": "3.6.1"
  }
 },
 "nbformat": 4,
 "nbformat_minor": 2
}
