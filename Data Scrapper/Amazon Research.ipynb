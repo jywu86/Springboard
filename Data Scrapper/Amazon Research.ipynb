{
 "cells": [
  {
   "cell_type": "code",
   "execution_count": 1,
   "metadata": {
    "collapsed": true
   },
   "outputs": [],
   "source": [
    "import time\n",
    "from selenium import webdriver"
   ]
  },
  {
   "cell_type": "code",
   "execution_count": 2,
   "metadata": {
    "collapsed": true
   },
   "outputs": [],
   "source": [
    "driver = webdriver.Firefox()  # Optional argument, if not specified will search path."
   ]
  },
  {
   "cell_type": "code",
   "execution_count": 4,
   "metadata": {
    "collapsed": true
   },
   "outputs": [],
   "source": [
    "driver.get('https://members.junglescout.com/#/login')"
   ]
  },
  {
   "cell_type": "code",
   "execution_count": 3,
   "metadata": {
    "collapsed": true
   },
   "outputs": [],
   "source": [
    "from selenium.webdriver.common.action_chains import ActionChains\n",
    "from selenium.webdriver.common.keys import Keys"
   ]
  },
  {
   "cell_type": "code",
   "execution_count": 5,
   "metadata": {
    "collapsed": true
   },
   "outputs": [],
   "source": [
    "ActionChains(driver) \\\n",
    "    .send_keys(\"rudimentalrx@gmail.com\") \\\n",
    "    .send_keys(Keys.TAB) \\\n",
    "    .send_keys(\"Yujun123\") \\\n",
    "    .send_keys(Keys.ENTER) \\\n",
    "    .perform()"
   ]
  },
  {
   "cell_type": "code",
   "execution_count": 6,
   "metadata": {
    "collapsed": true
   },
   "outputs": [],
   "source": [
    "driver.get('https://members.junglescout.com/#/database')"
   ]
  },
  {
   "cell_type": "code",
   "execution_count": 7,
   "metadata": {
    "collapsed": true
   },
   "outputs": [],
   "source": [
    "#creating dictionary for checkbox indices\n",
    "checkbox_dict = {'Select.All':0,'Appliances':1,'Arts':2,'Automotive':3,'Baby':4,'Beauty':5,'Books':6,'CDs':7,'Camera':8,'Cell.Phones':9,'Clothing':10,'Computers':11,'Electronics':12,'Grocery':13,'Health':14,'Home':15,'Industrial':16,'Kindle':17,'Kitchen':18,'Movies':19,'Music':20,'Musical':21,'Office':22,'Patio':23,'Pet':24,'Software':25,'Sports':26,'Tools':27,'Toys':28,'Video.Games':29,'Watches':30,'Standard':31,'Oversize':32,'FBA':33,'FBM':34,'Amazon':35}"
   ]
  },
  {
   "cell_type": "code",
   "execution_count": 13,
   "metadata": {
    "collapsed": true
   },
   "outputs": [],
   "source": [
    "def check_category_box(cat_filter,prod_filter):\n",
    "    filters = cat_filter + prod_filter\n",
    "    values = [checkbox_dict.get(keys) for keys in filters]\n",
    "    for box in values:\n",
    "        checkbox[box].click()\n",
    "    return"
   ]
  },
  {
   "cell_type": "code",
   "execution_count": 8,
   "metadata": {
    "collapsed": true
   },
   "outputs": [],
   "source": [
    "#making filters for checkboxes\n",
    "filter1 = ['Arts','Automotive','Baby','Beauty','Camera','Cell.Phones','Computers','Grocery','Health','Home','Industrial','Kitchen','Office','Patio','Pet','Sports','Tools','Toys','Watches']\n",
    "filter2 = ['Standard','FBA']"
   ]
  },
  {
   "cell_type": "code",
   "execution_count": 20,
   "metadata": {
    "collapsed": true
   },
   "outputs": [],
   "source": [
    "#checking filter boxes\n",
    "checkbox = driver.find_elements_by_class_name(\"checkbox-group\")\n",
    "check_category_box(filter1,filter2)"
   ]
  },
  {
   "cell_type": "code",
   "execution_count": 9,
   "metadata": {
    "collapsed": true
   },
   "outputs": [],
   "source": [
    "#adding criteria for search filters\n",
    "min_max = driver.find_elements_by_class_name(\"filters__min-max__input\")"
   ]
  },
  {
   "cell_type": "code",
   "execution_count": 10,
   "metadata": {
    "collapsed": true
   },
   "outputs": [],
   "source": [
    "#adding min and max features filter\n",
    "min_max[0].click()\n",
    "ActionChains(driver) \\\n",
    "    .send_keys(\"15\")  \\\n",
    "    .perform()\n",
    "min_max[3].click()\n",
    "ActionChains(driver) \\\n",
    "    .send_keys(\"200\")  \\\n",
    "    .perform()\n",
    "min_max[7].click()\n",
    "ActionChains(driver) \\\n",
    "    .send_keys(\"3.7\")  \\\n",
    "    .perform()\n",
    "min_max[12].click()\n",
    "ActionChains(driver) \\\n",
    "    .send_keys(\"250\")  \\\n",
    "    .perform()"
   ]
  },
  {
   "cell_type": "code",
   "execution_count": 11,
   "metadata": {
    "collapsed": true
   },
   "outputs": [],
   "source": [
    "display = driver.find_elements_by_class_name(\"per-page-option\")"
   ]
  },
  {
   "cell_type": "code",
   "execution_count": 12,
   "metadata": {
    "collapsed": true
   },
   "outputs": [],
   "source": [
    "#clicking on 200 per page\n",
    "display[3].click()"
   ]
  },
  {
   "cell_type": "code",
   "execution_count": 19,
   "metadata": {
    "collapsed": true
   },
   "outputs": [],
   "source": [
    "#clicking search button\n",
    "search_button = driver.find_elements_by_class_name(\"sc-kGXeez\")\n",
    "search_button[4].click()"
   ]
  },
  {
   "cell_type": "code",
   "execution_count": 15,
   "metadata": {
    "collapsed": true
   },
   "outputs": [],
   "source": [
    "def row_cleaner(row):\n",
    "    return [element.text for element in row.find_elements_by_class_name(\"table__cell__section--full\")]"
   ]
  },
  {
   "cell_type": "code",
   "execution_count": 16,
   "metadata": {},
   "outputs": [
    {
     "ename": "NameError",
     "evalue": "name 'table_rows' is not defined",
     "output_type": "error",
     "traceback": [
      "\u001b[0;31m---------------------------------------------------------------------------\u001b[0m",
      "\u001b[0;31mNameError\u001b[0m                                 Traceback (most recent call last)",
      "\u001b[0;32m<ipython-input-16-2f9c2585e222>\u001b[0m in \u001b[0;36m<module>\u001b[0;34m()\u001b[0m\n\u001b[0;32m----> 1\u001b[0;31m \u001b[0mdata\u001b[0m \u001b[0;34m=\u001b[0m \u001b[0;34m[\u001b[0m\u001b[0mrow_cleaner\u001b[0m\u001b[0;34m(\u001b[0m\u001b[0mrows\u001b[0m\u001b[0;34m)\u001b[0m \u001b[0;32mfor\u001b[0m \u001b[0mrows\u001b[0m \u001b[0;32min\u001b[0m \u001b[0mtable_rows\u001b[0m\u001b[0;34m]\u001b[0m\u001b[0;34m\u001b[0m\u001b[0m\n\u001b[0m",
      "\u001b[0;31mNameError\u001b[0m: name 'table_rows' is not defined"
     ]
    }
   ],
   "source": [
    "data = [row_cleaner(rows) for rows in table_rows]"
   ]
  },
  {
   "cell_type": "code",
   "execution_count": 17,
   "metadata": {
    "collapsed": true
   },
   "outputs": [],
   "source": [
    "#scrapping tables and converts to dataframe\n",
    "import pandas as pd\n",
    "import numpy as np\n",
    "def page_scrapper(rows):\n",
    "    names = ['Product.Name','ASIN','Category','Brand','Seller','Price','Fees','Net','Weight','Blank1','Rating','Blank2','Rank','Sellers','LQS','Sales','Revenue']\n",
    "    page = [row_cleaner(rows) for rows in table_rows]\n",
    "    page.pop(0)\n",
    "    pagedf = pd.DataFrame(page, columns = names)\n",
    "    return pagedf"
   ]
  },
  {
   "cell_type": "code",
   "execution_count": 18,
   "metadata": {
    "collapsed": true
   },
   "outputs": [],
   "source": [
    "#creating empty dataframe to store all pages\n",
    "names = ['Product.Name','ASIN','Category','Brand','Seller','Price','Fees','Net','Weight','Blank1','Rating','Blank2','Rank','Sellers','LQS','Sales','Revenue']\n",
    "all_products = pd.DataFrame(columns=names)"
   ]
  },
  {
   "cell_type": "code",
   "execution_count": null,
   "metadata": {
    "collapsed": true
   },
   "outputs": [],
   "source": [
    "#how to automate this process for 25 pages?  \n",
    "#time.sleep()<- read doc. \n",
    "import time\n",
    "from selenium.webdriver.support.ui import WebDriverWait\n",
    "from selenium.webdriver.common.by import By\n",
    "from selenium.webdriver.support import expected_conditions as EC\n",
    "from selenium.common.exceptions import TimeoutException\n",
    "\n",
    "\n",
    "for page in range(24):\n",
    "    table_rows = driver.find_elements_by_class_name(\"table__row\")\n",
    "    all_products = all_products.append(page_scrapper(table_rows))\n",
    "    nextpage = driver.find_elements_by_class_name('rc-pagination-next')\n",
    "    nextpage[0].click()\n",
    "    time.sleep(5)\n",
    "    #element = WebDriverWait(driver,10).until(EC.presence_of_element_located(driver.find_elements_by_class_name('rc-pagination-next')))\n",
    "    #element.click()\n",
    "    "
   ]
  },
  {
   "cell_type": "code",
   "execution_count": null,
   "metadata": {
    "collapsed": true
   },
   "outputs": [],
   "source": []
  }
 ],
 "metadata": {
  "kernelspec": {
   "display_name": "Python 3",
   "language": "python",
   "name": "python3"
  },
  "language_info": {
   "codemirror_mode": {
    "name": "ipython",
    "version": 3
   },
   "file_extension": ".py",
   "mimetype": "text/x-python",
   "name": "python",
   "nbconvert_exporter": "python",
   "pygments_lexer": "ipython3",
   "version": "3.6.1"
  }
 },
 "nbformat": 4,
 "nbformat_minor": 2
}
