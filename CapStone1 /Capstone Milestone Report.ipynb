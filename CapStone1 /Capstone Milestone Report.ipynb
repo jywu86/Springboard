{
 "cells": [
  {
   "cell_type": "markdown",
   "metadata": {},
   "source": [
    "## Patterns in Oregon Wildfires Milestone Report\n",
    "\n",
    "### John Wu jywu86@gmail.com\n",
    "\n",
    "Summary: \n",
    "\n",
    "Wildfires are a frequent occurrence all over Western United States cost millions and affect hundreds of thousands of lives each year.  The effects of such fires is hard to predict which creates an even bigger challenge for the firefighters that are trying to control it.  Factoring in weather patterns and historical fire data, we hope to find patterns and model predictions on the size and effects of these fires based on these factors.    \n",
    "\n",
    "In this Capstone project, we explore the fire patterns based on the Wildfire ODF dataset from the Oregon Department of Forestry.  The dataset involves over 12,000 documented cases of fires that occurred in the state of Oregon from 2005 to 2017.  We are able to see the size of the fires as well as the cause of the fire (man or nature).    \n"
   ]
  },
  {
   "cell_type": "markdown",
   "metadata": {},
   "source": [
    "### Task\n",
    "\n",
    "Work with oregon fire data to predict the magnitude of wildfires in the Oregon area based on oregon fire data.  "
   ]
  },
  {
   "cell_type": "markdown",
   "metadata": {},
   "source": [
    "### Preprocessing\n",
    "\n",
    "First I cleaned and analyzed the data by performing the following steps: \n",
    "\n",
    "1. Filter for blank values in the dataframe.  Some columns will not be used and are redundent, so I removed these columns.  \n",
    "2. Fill in blank values for ignition times to concatenate weather data from Dark Sky API.  I approximated the blank ignition times as reported times using the assumption that the time a fire is reported is not significantly far from the time the fire ignitied.\n",
    "3. Called for historical weather data using Dark Sky API on the latitude, longitude, and ignition time to create a dataframe with Humidity, Weather, Precipitation, Wind, Dewpoint, etc."
   ]
  },
  {
   "cell_type": "markdown",
   "metadata": {},
   "source": [
    "### Exploratory Data Analysis\n",
    "\n",
    "Next to prepare the data for processing, I looked at the different features and outliers that could potentially affect the predictions significantly. \n",
    "\n",
    "1. Outliers: looking for outliers that may affect the numbers, I ran a pairplot on all the features to graphically see where are potential outliers. From the first few graphs, it looked like most of the data resided in  between 0 and 100 total acres.  \n",
    "\n",
    "![title](img/pairplot1.png)\n",
    "\n",
    "2. Correlation and features: Running a correlation plot shows a slight correlation with temperature and a correlation with the number of days.  Surprisingly, wind does not seem to be a factor with the size of a fire.  \n",
    "![title](img/corr1.png)\n",
    "\n",
    "1. The pairplot was ran again by removing extreme values.  (Removing acres above 100 total acres)  From looking at these pairplots, it looks like the regression lines are much more similar.  \n",
    "![title](img/Pplot2.png)\n",
    "\n",
    "2. With the correlation plot for these smaller fires, it appears that temperature has less correlation than wind.  \n",
    "![title](img/corr2.png)\n"
   ]
  },
  {
   "cell_type": "markdown",
   "metadata": {},
   "source": [
    "## Intial Findings:\n",
    "### Time period (2005 to 2011 and 2011 to 2017)\n",
    "1. First looking at a signficance test of the total fire acres.  Based on the test, I reached a p-value of 0.057 which was not significant to the 95% interval but significant to 90%.  \n",
    "2. Looking at the temperature differences between the two time periods, I got a p-value of 0.324 which was not significant.  Based on these findings, it appears that the temperature may not be as big of a factor as another factor. \n",
    "\n",
    "### Area comparisons (EOA vs SOA vs NOA)\n",
    "\n",
    "1.Looking at differences of acres burned between the different areas. \n",
    "    a. Looking at the difference between EOA and NOA, there was signficance in the amount of acres burned.  (p-value of 3.1609e-08)\n",
    "    b. Looking at differences between SOA and NOA, there was no signficance with the same test.  (p-value of 0.637)\n",
    "    c. Looking at differences between EOA and SOA, there was signficance with the same test.  (p-value of 3.476e-19)\n",
    "\n",
    "2. Looking at the pairplot it appears that outliers affect the EOA area a lot more.  After removing the extreme values; all areas seem to be more well correlated.  Separating the dataset into larger fires and smaller fires would be my approach to modeling the dataset.  \n",
    "2. Based on the correlation of factors, it appears that Dew Point temperature and Humidity, may have a larger contributing factor to the size of fires.  Whether this is coincidence or an actual factor should be explored.  \n",
    "3. Another factor should be separating the data into seasons and seeing if seasonality really plays a large part in the size and amount of fires. "
   ]
  },
  {
   "cell_type": "code",
   "execution_count": null,
   "metadata": {
    "collapsed": true
   },
   "outputs": [],
   "source": []
  }
 ],
 "metadata": {
  "kernelspec": {
   "display_name": "Python 3",
   "language": "python",
   "name": "python3"
  },
  "language_info": {
   "codemirror_mode": {
    "name": "ipython",
    "version": 3
   },
   "file_extension": ".py",
   "mimetype": "text/x-python",
   "name": "python",
   "nbconvert_exporter": "python",
   "pygments_lexer": "ipython3",
   "version": "3.6.1"
  }
 },
 "nbformat": 4,
 "nbformat_minor": 2
}
