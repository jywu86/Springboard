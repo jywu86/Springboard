{
 "cells": [
  {
   "cell_type": "code",
   "execution_count": 1,
   "metadata": {
    "collapsed": true
   },
   "outputs": [],
   "source": [
    "#importing packages\n",
    "import pandas as pd\n",
    "import numpy as np\n",
    "import matplotlib.pyplot as plt\n",
    "import seaborn as sns"
   ]
  },
  {
   "cell_type": "code",
   "execution_count": 2,
   "metadata": {},
   "outputs": [
    {
     "name": "stderr",
     "output_type": "stream",
     "text": [
      "/Users/johnwu/anaconda/lib/python3.6/site-packages/IPython/core/interactiveshell.py:2717: DtypeWarning: Columns (0,4,11,14,18,19,21,24) have mixed types. Specify dtype option on import or set low_memory=False.\n",
      "  interactivity=interactivity, compiler=compiler, result=result)\n"
     ]
    }
   ],
   "source": [
    "oregon = pd.read_csv('2005_-_2014_Fire_Data.csv')"
   ]
  },
  {
   "cell_type": "code",
   "execution_count": 3,
   "metadata": {},
   "outputs": [
    {
     "name": "stdout",
     "output_type": "stream",
     "text": [
      "<class 'pandas.core.frame.DataFrame'>\n",
      "RangeIndex: 74224 entries, 0 to 74223\n",
      "Data columns (total 32 columns):\n",
      "FireYear                  28490 non-null object\n",
      "Current_District          28489 non-null float64\n",
      "Current_Unit              28489 non-null float64\n",
      "FireNumber                28489 non-null float64\n",
      "FiscalYear                28490 non-null object\n",
      "FireName                  28474 non-null object\n",
      "Twn                       25903 non-null object\n",
      "Rng                       25901 non-null object\n",
      "Sec                       25861 non-null float64\n",
      "Subdiv                    22398 non-null object\n",
      "County                    28465 non-null float64\n",
      "CauseByDesc               10987 non-null object\n",
      "GeneralDesc               28030 non-null object\n",
      "SpecificDesc              24867 non-null object\n",
      "Cause_Comments            10276 non-null object\n",
      "General_Restriction       11061 non-null float64\n",
      "Industrial_Restriction    11060 non-null float64\n",
      "Burn_Index                2883 non-null float64\n",
      "RegulatedUseZone          11585 non-null object\n",
      "Ign_DateTime              11065 non-null object\n",
      "ReportDateAndTime         28489 non-null object\n",
      "Control_DateTime          11058 non-null object\n",
      "Flame_length              2337 non-null float64\n",
      "Behavior                  11049 non-null float64\n",
      "Fuel                      11104 non-null object\n",
      "Topography                3233 non-null float64\n",
      "Aspect                    3233 non-null float64\n",
      "Slope                     3233 non-null float64\n",
      "Elevation                 3848 non-null float64\n",
      "Size_acres                14719 non-null float64\n",
      "Size_prot                 25718 non-null float64\n",
      "Location                  23941 non-null object\n",
      "dtypes: float64(16), object(16)\n",
      "memory usage: 18.1+ MB\n"
     ]
    }
   ],
   "source": [
    "oregon.info()"
   ]
  },
  {
   "cell_type": "markdown",
   "metadata": {},
   "source": [
    "# Initial inspection of dataframe: \n",
    "\n",
    "1. Total of 74224 entries with approximately 28000 entries as the maximum amount of non-null objects.  This means that there must be a lot of rows and entries that have null values.  First step is to remove all rows with complete null values.  \n",
    "\n",
    "2. A lot of these columns are float objects.  Corresponding these columns to the readme file that came with the dataset, many of these are codes.  It may be useful to convert some of these codes into the actual descriptions seeing that the dataframe itself is not extremely large. \n",
    "\n",
    "3. There are a lot of features, however the Burn_Index which is my target feature is rather small (2883 entries).  May need to look elsewhere to gather additional data."
   ]
  },
  {
   "cell_type": "code",
   "execution_count": 4,
   "metadata": {},
   "outputs": [
    {
     "data": {
      "text/plain": [
       "['FireYear',\n",
       " 'Current_District',\n",
       " 'Current_Unit',\n",
       " 'FireNumber',\n",
       " 'FiscalYear',\n",
       " 'FireName',\n",
       " 'Twn',\n",
       " 'Rng',\n",
       " 'Sec',\n",
       " 'Subdiv',\n",
       " 'County',\n",
       " 'CauseByDesc',\n",
       " 'GeneralDesc',\n",
       " 'SpecificDesc',\n",
       " 'Cause_Comments',\n",
       " 'General_Restriction',\n",
       " 'Industrial_Restriction',\n",
       " 'Burn_Index',\n",
       " 'RegulatedUseZone',\n",
       " 'Ign_DateTime',\n",
       " 'ReportDateAndTime',\n",
       " 'Control_DateTime',\n",
       " 'Flame_length',\n",
       " 'Behavior',\n",
       " 'Fuel',\n",
       " 'Topography',\n",
       " 'Aspect',\n",
       " 'Slope',\n",
       " 'Elevation',\n",
       " 'Size_acres',\n",
       " 'Size_prot',\n",
       " 'Location']"
      ]
     },
     "execution_count": 4,
     "metadata": {},
     "output_type": "execute_result"
    }
   ],
   "source": [
    "list(oregon.columns.values)"
   ]
  },
  {
   "cell_type": "code",
   "execution_count": 5,
   "metadata": {},
   "outputs": [
    {
     "name": "stdout",
     "output_type": "stream",
     "text": [
      "<class 'pandas.core.frame.DataFrame'>\n",
      "Int64Index: 28490 entries, 416 to 74223\n",
      "Data columns (total 32 columns):\n",
      "FireYear                  28490 non-null object\n",
      "Current_District          28489 non-null float64\n",
      "Current_Unit              28489 non-null float64\n",
      "FireNumber                28489 non-null float64\n",
      "FiscalYear                28490 non-null object\n",
      "FireName                  28474 non-null object\n",
      "Twn                       25903 non-null object\n",
      "Rng                       25901 non-null object\n",
      "Sec                       25861 non-null float64\n",
      "Subdiv                    22398 non-null object\n",
      "County                    28465 non-null float64\n",
      "CauseByDesc               10987 non-null object\n",
      "GeneralDesc               28030 non-null object\n",
      "SpecificDesc              24867 non-null object\n",
      "Cause_Comments            10276 non-null object\n",
      "General_Restriction       11061 non-null float64\n",
      "Industrial_Restriction    11060 non-null float64\n",
      "Burn_Index                2883 non-null float64\n",
      "RegulatedUseZone          11585 non-null object\n",
      "Ign_DateTime              11065 non-null object\n",
      "ReportDateAndTime         28489 non-null object\n",
      "Control_DateTime          11058 non-null object\n",
      "Flame_length              2337 non-null float64\n",
      "Behavior                  11049 non-null float64\n",
      "Fuel                      11104 non-null object\n",
      "Topography                3233 non-null float64\n",
      "Aspect                    3233 non-null float64\n",
      "Slope                     3233 non-null float64\n",
      "Elevation                 3848 non-null float64\n",
      "Size_acres                14719 non-null float64\n",
      "Size_prot                 25718 non-null float64\n",
      "Location                  23941 non-null object\n",
      "dtypes: float64(16), object(16)\n",
      "memory usage: 7.2+ MB\n"
     ]
    }
   ],
   "source": [
    "#finding observations where all columns are null values\n",
    "null_columns = oregon.columns[oregon.isnull().any()]\n",
    "blanks = oregon[oregon.isnull().all(axis=1)][null_columns]\n",
    "\n",
    "#creating a list of indices with blank rows\n",
    "blank_list=list(blanks.index.values)\n",
    "\n",
    "#filtering out blank rows in new df\n",
    "oregon = oregon[~oregon.index.isin(blank_list)]\n",
    "oregon.info()"
   ]
  },
  {
   "cell_type": "markdown",
   "metadata": {},
   "source": [
    "# By removing the null values\n",
    "\n",
    "1. Dataset is significantly less.  28490 vs 74224 entries.  \n",
    "2. There is location data per the coordinates. \n",
    "3. Create some dictionaries to add some descriptions to County"
   ]
  },
  {
   "cell_type": "code",
   "execution_count": 6,
   "metadata": {
    "collapsed": true
   },
   "outputs": [],
   "source": [
    "#reindexing dataframe by FireNumber\n",
    "oregon = oregon.reset_index(drop=True)"
   ]
  },
  {
   "cell_type": "code",
   "execution_count": 7,
   "metadata": {},
   "outputs": [
    {
     "data": {
      "text/plain": [
       "FireYear                          FireYear\n",
       "Current_District                       NaN\n",
       "Current_Unit                           NaN\n",
       "FireNumber                             NaN\n",
       "FiscalYear                      FiscalYear\n",
       "FireName                          FireName\n",
       "Twn                                    Twn\n",
       "Rng                                    Rng\n",
       "Sec                                    NaN\n",
       "Subdiv                              Subdiv\n",
       "County                                 NaN\n",
       "CauseByDesc                    CauseByDesc\n",
       "GeneralDesc                    GeneralDesc\n",
       "SpecificDesc                  SpecificDesc\n",
       "Cause_Comments              Cause_Comments\n",
       "General_Restriction                    NaN\n",
       "Industrial_Restriction                 NaN\n",
       "Burn_Index                             NaN\n",
       "RegulatedUseZone          RegulatedUseZone\n",
       "Ign_DateTime                           NaN\n",
       "ReportDateAndTime                      NaN\n",
       "Control_DateTime                       NaN\n",
       "Flame_length                           NaN\n",
       "Behavior                               NaN\n",
       "Fuel                                  Fuel\n",
       "Topography                             NaN\n",
       "Aspect                                 NaN\n",
       "Slope                                  NaN\n",
       "Elevation                              NaN\n",
       "Size_acres                             NaN\n",
       "Size_prot                              NaN\n",
       "Location                               NaN\n",
       "Name: 27539, dtype: object"
      ]
     },
     "execution_count": 7,
     "metadata": {},
     "output_type": "execute_result"
    }
   ],
   "source": [
    "oregon[oregon['ReportDateAndTime'].isnull()]\n",
    "oregon.loc[27539,:]"
   ]
  },
  {
   "cell_type": "code",
   "execution_count": 8,
   "metadata": {},
   "outputs": [
    {
     "data": {
      "text/plain": [
       "FireYear                                                        2015\n",
       "Current_District                                                  95\n",
       "Current_Unit                                                       4\n",
       "FireNumber                                                         1\n",
       "FiscalYear                                                      2016\n",
       "FireName                                              Willow Springs\n",
       "Twn                                                               1N\n",
       "Rng                                                              11E\n",
       "Sec                                                               25\n",
       "Subdiv                                                          SWSE\n",
       "County                                                            33\n",
       "CauseByDesc                                          Ruralist-Paying\n",
       "GeneralDesc                                           Debris Burning\n",
       "SpecificDesc                           Burning During Poor Condition\n",
       "Cause_Comments            Landowner burning pile day before burn ban\n",
       "General_Restriction                                                5\n",
       "Industrial_Restriction                                             9\n",
       "Burn_Index                                                       NaN\n",
       "RegulatedUseZone                                                 MH1\n",
       "Ign_DateTime                                  06/30/2015 12:00:00 AM\n",
       "ReportDateAndTime                             07/01/2015 12:00:00 AM\n",
       "Control_DateTime                              07/03/2015 12:00:00 AM\n",
       "Flame_length                                                     NaN\n",
       "Behavior                                                           2\n",
       "Fuel                                                               H\n",
       "Topography                                                       NaN\n",
       "Aspect                                                           NaN\n",
       "Slope                                                            NaN\n",
       "Elevation                                                          2\n",
       "Size_acres                                                         5\n",
       "Size_prot                                                          5\n",
       "Location                                        (45.535, -121.38583)\n",
       "Name: 27540, dtype: object"
      ]
     },
     "execution_count": 8,
     "metadata": {},
     "output_type": "execute_result"
    }
   ],
   "source": [
    "#this row looks like an empty row or a header of some sort.  Exploring rows below and above it.\n",
    "oregon.loc[27540,:]"
   ]
  },
  {
   "cell_type": "code",
   "execution_count": 9,
   "metadata": {},
   "outputs": [
    {
     "data": {
      "text/plain": [
       "FireYear                                    2014\n",
       "Current_District                              71\n",
       "Current_Unit                                   2\n",
       "FireNumber                                   623\n",
       "FiscalYear                                  2014\n",
       "FireName                  NFCA Redwood Hwy 17061\n",
       "Twn                                          37S\n",
       "Rng                                           8W\n",
       "Sec                                           35\n",
       "Subdiv                                      NESW\n",
       "County                                        17\n",
       "CauseByDesc                                  NaN\n",
       "GeneralDesc                     No Fire   (NFCA)\n",
       "SpecificDesc                Violation of ORS 477\n",
       "Cause_Comments                         Open Burn\n",
       "General_Restriction                          NaN\n",
       "Industrial_Restriction                       NaN\n",
       "Burn_Index                                   NaN\n",
       "RegulatedUseZone                             NaN\n",
       "Ign_DateTime                                 NaN\n",
       "ReportDateAndTime         06/30/2014 12:00:00 AM\n",
       "Control_DateTime                             NaN\n",
       "Flame_length                                 NaN\n",
       "Behavior                                     NaN\n",
       "Fuel                                         NaN\n",
       "Topography                                   NaN\n",
       "Aspect                                       NaN\n",
       "Slope                                        NaN\n",
       "Elevation                                    NaN\n",
       "Size_acres                                   NaN\n",
       "Size_prot                                      0\n",
       "Location                  (42.30611, -123.61583)\n",
       "Name: 27538, dtype: object"
      ]
     },
     "execution_count": 9,
     "metadata": {},
     "output_type": "execute_result"
    }
   ],
   "source": [
    "#exploring above potential header row\n",
    "oregon.loc[27538,:]"
   ]
  },
  {
   "cell_type": "code",
   "execution_count": 10,
   "metadata": {
    "collapsed": true
   },
   "outputs": [],
   "source": [
    "#removing header row in the middle of df\n",
    "oregon.drop([27539], inplace=True)"
   ]
  },
  {
   "cell_type": "code",
   "execution_count": 11,
   "metadata": {},
   "outputs": [
    {
     "name": "stdout",
     "output_type": "stream",
     "text": [
      "<class 'pandas.core.frame.DataFrame'>\n",
      "Int64Index: 28489 entries, 0 to 28489\n",
      "Data columns (total 33 columns):\n",
      "FireYear                  28489 non-null object\n",
      "Current_District          28489 non-null float64\n",
      "Current_Unit              28489 non-null float64\n",
      "FireNumber                28489 non-null float64\n",
      "FiscalYear                28489 non-null object\n",
      "FireName                  28473 non-null object\n",
      "Twn                       25902 non-null object\n",
      "Rng                       25900 non-null object\n",
      "Sec                       25861 non-null float64\n",
      "Subdiv                    22397 non-null object\n",
      "County                    28465 non-null float64\n",
      "CauseByDesc               10986 non-null object\n",
      "GeneralDesc               28029 non-null object\n",
      "SpecificDesc              24866 non-null object\n",
      "Cause_Comments            10275 non-null object\n",
      "General_Restriction       11061 non-null float64\n",
      "Industrial_Restriction    11060 non-null float64\n",
      "Burn_Index                2883 non-null float64\n",
      "RegulatedUseZone          11584 non-null object\n",
      "Ign_DateTime              11065 non-null object\n",
      "ReportDateAndTime         28489 non-null datetime64[ns]\n",
      "Control_DateTime          11058 non-null object\n",
      "Flame_length              2337 non-null float64\n",
      "Behavior                  11049 non-null float64\n",
      "Fuel                      11103 non-null object\n",
      "Topography                3233 non-null float64\n",
      "Aspect                    3233 non-null float64\n",
      "Slope                     3233 non-null float64\n",
      "Elevation                 3848 non-null float64\n",
      "Size_acres                14719 non-null float64\n",
      "Size_prot                 25718 non-null float64\n",
      "Location                  23941 non-null object\n",
      "FYear_from_ReportDate     28489 non-null int64\n",
      "dtypes: datetime64[ns](1), float64(16), int64(1), object(15)\n",
      "memory usage: 7.4+ MB\n"
     ]
    }
   ],
   "source": [
    "#creating datetime object from df and inputting new column named FYear_from_ReportDate\n",
    "from datetime import datetime\n",
    "oregon['ReportDateAndTime']=[datetime.strptime(x,'%m/%d/%Y %H:%M:%S %p') for x in oregon['ReportDateAndTime']]\n",
    "oregon['FYear_from_ReportDate']=[x.year for x in oregon['ReportDateAndTime']] \n",
    "oregon.info()"
   ]
  },
  {
   "cell_type": "code",
   "execution_count": 12,
   "metadata": {},
   "outputs": [
    {
     "data": {
      "image/png": "[encoded data removed]",
      "text/plain": [
       "<matplotlib.figure.Figure at 0x112ef75f8>"
      ]
     },
     "metadata": {},
     "output_type": "display_data"
    }
   ],
   "source": [
    "#investigating spread of Burn_Index\n",
    "fig, ax = plt.subplots()\n",
    "fig.set_size_inches(20,8)\n",
    "_ = sns.boxplot(x='FYear_from_ReportDate',y='Burn_Index',data=oregon)\n",
    "sns.plt.show()"
   ]
  },
  {
   "cell_type": "markdown",
   "metadata": {},
   "source": [
    "From this, it appears we are missing data from 2008 to 2012.  With high outliers in 2007 and 2005.  It looks like 2013 was also a strange year. "
   ]
  },
  {
   "cell_type": "markdown",
   "metadata": {},
   "source": [
    "## Outliers\n",
    "\n",
    "First, we take a look at the outliers and from our boxplot, we can see that there are some high burn index outliers in the year 2005 and 2007.  I will take a look at specifically these two years and see what are the highest burn indices and how many of these outliers there are. "
   ]
  },
  {
   "cell_type": "code",
   "execution_count": 13,
   "metadata": {
    "collapsed": true
   },
   "outputs": [],
   "source": [
    "#create two dfs with years 2005 and 2007\n",
    "\n",
    "df_2005 = oregon[oregon['FYear_from_ReportDate']==2005].sort_values('Burn_Index',ascending=False)\n",
    "df_2007 = oregon[oregon['FYear_from_ReportDate']==2007].sort_values('Burn_Index',ascending=False)"
   ]
  },
  {
   "cell_type": "code",
   "execution_count": 14,
   "metadata": {},
   "outputs": [
    {
     "data": {
      "text/plain": [
       "848     113.0\n",
       "1473     84.0\n",
       "2037     84.0\n",
       "1081     78.0\n",
       "940      76.0\n",
       "745      76.0\n",
       "916      76.0\n",
       "1328     76.0\n",
       "1257     76.0\n",
       "723      75.0\n",
       "317      75.0\n",
       "1824     75.0\n",
       "880      75.0\n",
       "752      75.0\n",
       "857      75.0\n",
       "831      75.0\n",
       "1655     75.0\n",
       "1786     74.0\n",
       "1113     74.0\n",
       "1160     74.0\n",
       "1163     74.0\n",
       "722      74.0\n",
       "554      73.0\n",
       "1054     73.0\n",
       "1420     73.0\n",
       "1200     72.0\n",
       "1595     72.0\n",
       "419      72.0\n",
       "498      71.0\n",
       "750      71.0\n",
       "Name: Burn_Index, dtype: float64"
      ]
     },
     "execution_count": 14,
     "metadata": {},
     "output_type": "execute_result"
    }
   ],
   "source": [
    "df_2005['Burn_Index'].head(30)"
   ]
  },
  {
   "cell_type": "code",
   "execution_count": 15,
   "metadata": {},
   "outputs": [
    {
     "data": {
      "text/plain": [
       "43.24431818181818"
      ]
     },
     "execution_count": 15,
     "metadata": {},
     "output_type": "execute_result"
    }
   ],
   "source": [
    "df_2005['Burn_Index'].mean()"
   ]
  },
  {
   "cell_type": "code",
   "execution_count": 16,
   "metadata": {},
   "outputs": [
    {
     "data": {
      "text/plain": [
       "7082    147.0\n",
       "7295     61.0\n",
       "7866     54.0\n",
       "6943     54.0\n",
       "6514     50.0\n",
       "8296     49.0\n",
       "7756     48.0\n",
       "7843     48.0\n",
       "7411     47.0\n",
       "7018     47.0\n",
       "7100     47.0\n",
       "6909     47.0\n",
       "7374     47.0\n",
       "7362     47.0\n",
       "7353     47.0\n",
       "7241     47.0\n",
       "6998     47.0\n",
       "7269     47.0\n",
       "6930     47.0\n",
       "7256     47.0\n",
       "6845     47.0\n",
       "6620     47.0\n",
       "6571     47.0\n",
       "8300     47.0\n",
       "8342     47.0\n",
       "7800     46.0\n",
       "7063     45.0\n",
       "6597     45.0\n",
       "7134     44.0\n",
       "8313     44.0\n",
       "Name: Burn_Index, dtype: float64"
      ]
     },
     "execution_count": 16,
     "metadata": {},
     "output_type": "execute_result"
    }
   ],
   "source": [
    "df_2007['Burn_Index'].head(30)"
   ]
  },
  {
   "cell_type": "code",
   "execution_count": 17,
   "metadata": {},
   "outputs": [
    {
     "data": {
      "text/plain": [
       "34.08247422680412"
      ]
     },
     "execution_count": 17,
     "metadata": {},
     "output_type": "execute_result"
    }
   ],
   "source": [
    "df_2007['Burn_Index'].mean()"
   ]
  },
  {
   "cell_type": "markdown",
   "metadata": {},
   "source": [
    "It looks like the fire index 7082 has a burn index more than twice as high as the next highest burn index.  \n",
    "- It also looks like the mean of 2005 is twice as high as 2007.  "
   ]
  },
  {
   "cell_type": "code",
   "execution_count": 18,
   "metadata": {},
   "outputs": [
    {
     "data": {
      "text/plain": [
       "FireYear                                    2007\n",
       "Current_District                              73\n",
       "Current_Unit                                   3\n",
       "FireNumber                                    56\n",
       "FiscalYear                                  2008\n",
       "FireName                              Pass Creek\n",
       "Twn                                          24S\n",
       "Rng                                          01W\n",
       "Sec                                            9\n",
       "Subdiv                                      SWNE\n",
       "County                                        10\n",
       "CauseByDesc                            Lightning\n",
       "GeneralDesc                            Lightning\n",
       "SpecificDesc                           Lightning\n",
       "Cause_Comments                               NaN\n",
       "General_Restriction                            5\n",
       "Industrial_Restriction                         2\n",
       "Burn_Index                                   147\n",
       "RegulatedUseZone                             DG2\n",
       "Ign_DateTime              07/11/2007 12:00:00 AM\n",
       "ReportDateAndTime            2007-07-11 12:00:00\n",
       "Control_DateTime          07/11/2007 12:00:00 AM\n",
       "Flame_length                                   1\n",
       "Behavior                                       2\n",
       "Fuel                                           G\n",
       "Topography                                     4\n",
       "Aspect                                         4\n",
       "Slope                                          3\n",
       "Elevation                                      2\n",
       "Size_acres                                  0.01\n",
       "Size_prot                                   0.01\n",
       "Location                   (43.50233, -122.8045)\n",
       "FYear_from_ReportDate                       2007\n",
       "Name: 7082, dtype: object"
      ]
     },
     "execution_count": 18,
     "metadata": {},
     "output_type": "execute_result"
    }
   ],
   "source": [
    "df_2007.loc[7082,:]"
   ]
  },
  {
   "cell_type": "code",
   "execution_count": 19,
   "metadata": {},
   "outputs": [
    {
     "data": {
      "text/plain": [
       "42.46153846153846"
      ]
     },
     "execution_count": 19,
     "metadata": {},
     "output_type": "execute_result"
    }
   ],
   "source": [
    "df_2007_lightning = df_2007[df_2007['CauseByDesc']=='Lightning']\n",
    "df_2007_lightning['Burn_Index'].mean()"
   ]
  },
  {
   "cell_type": "code",
   "execution_count": 20,
   "metadata": {},
   "outputs": [
    {
     "data": {
      "text/plain": [
       "array([nan, 'Rancher-Farmer', 'Other-Public', 'Motorist',\n",
       "       'Timber Harvest Worker', 'Ruralist-Non-Paying', 'Lightning',\n",
       "       'Recreationist', 'Ruralist-Paying', 'Other Forest Mgt. Worker',\n",
       "       'Other-Landowner Related', 'Hiker', 'Public Utility', 'Hunter',\n",
       "       'Fisherman'], dtype=object)"
      ]
     },
     "execution_count": 20,
     "metadata": {},
     "output_type": "execute_result"
    }
   ],
   "source": [
    "oregon['CauseByDesc'].unique()"
   ]
  },
  {
   "cell_type": "code",
   "execution_count": 21,
   "metadata": {},
   "outputs": [
    {
     "data": {
      "text/plain": [
       "array(['Unknown', 'Rancher-Farmer', 'Other-Public', 'Motorist',\n",
       "       'Timber Harvest Worker', 'Ruralist-Non-Paying', 'Lightning',\n",
       "       'Recreationist', 'Ruralist-Paying', 'Other Forest Mgt. Worker',\n",
       "       'Other-Landowner Related', 'Hiker', 'Public Utility', 'Hunter',\n",
       "       'Fisherman'], dtype=object)"
      ]
     },
     "execution_count": 21,
     "metadata": {},
     "output_type": "execute_result"
    }
   ],
   "source": [
    "oregon['CauseByDesc'].fillna('Unknown',inplace=True)\n",
    "oregon['CauseByDesc'].unique()"
   ]
  },
  {
   "cell_type": "code",
   "execution_count": 22,
   "metadata": {},
   "outputs": [
    {
     "data": {
      "image/png": "[encoded data removed]",
      "text/plain": [
       "<matplotlib.figure.Figure at 0x1139d9358>"
      ]
     },
     "metadata": {},
     "output_type": "display_data"
    }
   ],
   "source": [
    "#using boxplot to look at causes\n",
    "fig, ax = plt.subplots()\n",
    "fig.set_size_inches(25,10)\n",
    "_ = sns.boxplot(x='CauseByDesc',y='Burn_Index',data=oregon)\n",
    "sns.plt.show()"
   ]
  },
  {
   "cell_type": "markdown",
   "metadata": {},
   "source": [
    "## Missing Data: \n",
    "Now we know we are missing data from 2008 to 2013; we should look at this subgroup of the entire dataset to see what else can be missing and perhaps what other features we can estimate,eliminate,etc.  "
   ]
  },
  {
   "cell_type": "code",
   "execution_count": 23,
   "metadata": {},
   "outputs": [
    {
     "name": "stdout",
     "output_type": "stream",
     "text": [
      "<class 'pandas.core.frame.DataFrame'>\n",
      "Int64Index: 25606 entries, 0 to 28477\n",
      "Data columns (total 33 columns):\n",
      "FireYear                  25606 non-null object\n",
      "Current_District          25606 non-null float64\n",
      "Current_Unit              25606 non-null float64\n",
      "FireNumber                25606 non-null float64\n",
      "FiscalYear                25606 non-null object\n",
      "FireName                  25590 non-null object\n",
      "Twn                       23019 non-null object\n",
      "Rng                       23017 non-null object\n",
      "Sec                       22978 non-null float64\n",
      "Subdiv                    19514 non-null object\n",
      "County                    25582 non-null float64\n",
      "CauseByDesc               25606 non-null object\n",
      "GeneralDesc               25153 non-null object\n",
      "SpecificDesc              21990 non-null object\n",
      "Cause_Comments            9797 non-null object\n",
      "General_Restriction       8178 non-null float64\n",
      "Industrial_Restriction    8178 non-null float64\n",
      "Burn_Index                0 non-null float64\n",
      "RegulatedUseZone          8701 non-null object\n",
      "Ign_DateTime              8186 non-null object\n",
      "ReportDateAndTime         25606 non-null datetime64[ns]\n",
      "Control_DateTime          8180 non-null object\n",
      "Flame_length              319 non-null float64\n",
      "Behavior                  8171 non-null float64\n",
      "Fuel                      8224 non-null object\n",
      "Topography                377 non-null float64\n",
      "Aspect                    376 non-null float64\n",
      "Slope                     377 non-null float64\n",
      "Elevation                 981 non-null float64\n",
      "Size_acres                11837 non-null float64\n",
      "Size_prot                 22835 non-null float64\n",
      "Location                  21058 non-null object\n",
      "FYear_from_ReportDate     25606 non-null int64\n",
      "dtypes: datetime64[ns](1), float64(16), int64(1), object(15)\n",
      "memory usage: 6.6+ MB\n"
     ]
    }
   ],
   "source": [
    "#separating missing BIs to see if we can make any predictions or fill in anything\n",
    "missing_BI = oregon[pd.isnull(oregon['Burn_Index'])]\n",
    "missing_BI.info()"
   ]
  },
  {
   "cell_type": "code",
   "execution_count": 24,
   "metadata": {},
   "outputs": [
    {
     "name": "stdout",
     "output_type": "stream",
     "text": [
      "<class 'pandas.core.frame.DataFrame'>\n",
      "Int64Index: 2883 entries, 29 to 28489\n",
      "Data columns (total 33 columns):\n",
      "FireYear                  2883 non-null object\n",
      "Current_District          2883 non-null float64\n",
      "Current_Unit              2883 non-null float64\n",
      "FireNumber                2883 non-null float64\n",
      "FiscalYear                2883 non-null object\n",
      "FireName                  2883 non-null object\n",
      "Twn                       2883 non-null object\n",
      "Rng                       2883 non-null object\n",
      "Sec                       2883 non-null float64\n",
      "Subdiv                    2883 non-null object\n",
      "County                    2883 non-null float64\n",
      "CauseByDesc               2883 non-null object\n",
      "GeneralDesc               2876 non-null object\n",
      "SpecificDesc              2876 non-null object\n",
      "Cause_Comments            478 non-null object\n",
      "General_Restriction       2883 non-null float64\n",
      "Industrial_Restriction    2882 non-null float64\n",
      "Burn_Index                2883 non-null float64\n",
      "RegulatedUseZone          2883 non-null object\n",
      "Ign_DateTime              2879 non-null object\n",
      "ReportDateAndTime         2883 non-null datetime64[ns]\n",
      "Control_DateTime          2878 non-null object\n",
      "Flame_length              2018 non-null float64\n",
      "Behavior                  2878 non-null float64\n",
      "Fuel                      2879 non-null object\n",
      "Topography                2856 non-null float64\n",
      "Aspect                    2857 non-null float64\n",
      "Slope                     2856 non-null float64\n",
      "Elevation                 2867 non-null float64\n",
      "Size_acres                2882 non-null float64\n",
      "Size_prot                 2883 non-null float64\n",
      "Location                  2883 non-null object\n",
      "FYear_from_ReportDate     2883 non-null int64\n",
      "dtypes: datetime64[ns](1), float64(16), int64(1), object(15)\n",
      "memory usage: 765.8+ KB\n"
     ]
    }
   ],
   "source": [
    "#creating a df where BIs are not missing\n",
    "df = oregon[~pd.isnull(oregon['Burn_Index'])]\n",
    "df.info()"
   ]
  },
  {
   "cell_type": "markdown",
   "metadata": {},
   "source": [
    "From https://gacc.nifc.gov/rmcc/predictive/fuels_fire-danger/drgloss.htm, it looks like BIs can be approximated by 10 times the flame lenght.  It looks like in the missing BIs, there are 319 entries where there are flame lengths.  We can use 10*FlameLength to approximate these 319 observations."
   ]
  },
  {
   "cell_type": "code",
   "execution_count": 25,
   "metadata": {},
   "outputs": [
    {
     "name": "stdout",
     "output_type": "stream",
     "text": [
      "<class 'pandas.core.frame.DataFrame'>\n",
      "Int64Index: 319 entries, 60 to 8636\n",
      "Data columns (total 33 columns):\n",
      "FireYear                  319 non-null object\n",
      "Current_District          319 non-null float64\n",
      "Current_Unit              319 non-null float64\n",
      "FireNumber                319 non-null float64\n",
      "FiscalYear                319 non-null object\n",
      "FireName                  319 non-null object\n",
      "Twn                       319 non-null object\n",
      "Rng                       319 non-null object\n",
      "Sec                       319 non-null float64\n",
      "Subdiv                    319 non-null object\n",
      "County                    319 non-null float64\n",
      "CauseByDesc               319 non-null object\n",
      "GeneralDesc               319 non-null object\n",
      "SpecificDesc              317 non-null object\n",
      "Cause_Comments            2 non-null object\n",
      "General_Restriction       317 non-null float64\n",
      "Industrial_Restriction    317 non-null float64\n",
      "Burn_Index                0 non-null float64\n",
      "RegulatedUseZone          317 non-null object\n",
      "Ign_DateTime              319 non-null object\n",
      "ReportDateAndTime         319 non-null datetime64[ns]\n",
      "Control_DateTime          319 non-null object\n",
      "Flame_length              319 non-null float64\n",
      "Behavior                  319 non-null float64\n",
      "Fuel                      319 non-null object\n",
      "Topography                319 non-null float64\n",
      "Aspect                    319 non-null float64\n",
      "Slope                     319 non-null float64\n",
      "Elevation                 318 non-null float64\n",
      "Size_acres                319 non-null float64\n",
      "Size_prot                 319 non-null float64\n",
      "Location                  319 non-null object\n",
      "FYear_from_ReportDate     319 non-null int64\n",
      "dtypes: datetime64[ns](1), float64(16), int64(1), object(15)\n",
      "memory usage: 84.7+ KB\n"
     ]
    }
   ],
   "source": [
    "flame_length_df = missing_BI[~pd.isnull(missing_BI['Flame_length'])]\n",
    "flame_length_df.info()"
   ]
  },
  {
   "cell_type": "code",
   "execution_count": 26,
   "metadata": {
    "scrolled": true
   },
   "outputs": [
    {
     "name": "stdout",
     "output_type": "stream",
     "text": [
      "<class 'pandas.core.frame.DataFrame'>\n",
      "Int64Index: 319 entries, 60 to 8636\n",
      "Data columns (total 33 columns):\n",
      "FireYear                  319 non-null object\n",
      "Current_District          319 non-null float64\n",
      "Current_Unit              319 non-null float64\n",
      "FireNumber                319 non-null float64\n",
      "FiscalYear                319 non-null object\n",
      "FireName                  319 non-null object\n",
      "Twn                       319 non-null object\n",
      "Rng                       319 non-null object\n",
      "Sec                       319 non-null float64\n",
      "Subdiv                    319 non-null object\n",
      "County                    319 non-null float64\n",
      "CauseByDesc               319 non-null object\n",
      "GeneralDesc               319 non-null object\n",
      "SpecificDesc              317 non-null object\n",
      "Cause_Comments            2 non-null object\n",
      "General_Restriction       317 non-null float64\n",
      "Industrial_Restriction    317 non-null float64\n",
      "Burn_Index                319 non-null float64\n",
      "RegulatedUseZone          317 non-null object\n",
      "Ign_DateTime              319 non-null object\n",
      "ReportDateAndTime         319 non-null datetime64[ns]\n",
      "Control_DateTime          319 non-null object\n",
      "Flame_length              319 non-null float64\n",
      "Behavior                  319 non-null float64\n",
      "Fuel                      319 non-null object\n",
      "Topography                319 non-null float64\n",
      "Aspect                    319 non-null float64\n",
      "Slope                     319 non-null float64\n",
      "Elevation                 318 non-null float64\n",
      "Size_acres                319 non-null float64\n",
      "Size_prot                 319 non-null float64\n",
      "Location                  319 non-null object\n",
      "FYear_from_ReportDate     319 non-null int64\n",
      "dtypes: datetime64[ns](1), float64(16), int64(1), object(15)\n",
      "memory usage: 84.7+ KB\n"
     ]
    },
    {
     "name": "stderr",
     "output_type": "stream",
     "text": [
      "/Users/johnwu/anaconda/lib/python3.6/site-packages/pandas/core/indexing.py:517: SettingWithCopyWarning: \n",
      "A value is trying to be set on a copy of a slice from a DataFrame.\n",
      "Try using .loc[row_indexer,col_indexer] = value instead\n",
      "\n",
      "See the caveats in the documentation: http://pandas.pydata.org/pandas-docs/stable/indexing.html#indexing-view-versus-copy\n",
      "  self.obj[item] = s\n"
     ]
    }
   ],
   "source": [
    "flame_length_df.loc[:,'Burn_Index']=[flame_length * 10 for flame_length in flame_length_df['Flame_length']]\n",
    "flame_length_df.info()"
   ]
  },
  {
   "cell_type": "markdown",
   "metadata": {},
   "source": [
    "Looks like the Burn_index has now been filled.  We should add this set to the final df.  \n",
    "\n",
    "We can also do the same for the df we set to fill out the rest of the flame length set."
   ]
  },
  {
   "cell_type": "code",
   "execution_count": 27,
   "metadata": {},
   "outputs": [
    {
     "name": "stdout",
     "output_type": "stream",
     "text": [
      "<class 'pandas.core.frame.DataFrame'>\n",
      "Int64Index: 3202 entries, 60 to 28489\n",
      "Data columns (total 33 columns):\n",
      "FireYear                  3202 non-null object\n",
      "Current_District          3202 non-null float64\n",
      "Current_Unit              3202 non-null float64\n",
      "FireNumber                3202 non-null float64\n",
      "FiscalYear                3202 non-null object\n",
      "FireName                  3202 non-null object\n",
      "Twn                       3202 non-null object\n",
      "Rng                       3202 non-null object\n",
      "Sec                       3202 non-null float64\n",
      "Subdiv                    3202 non-null object\n",
      "County                    3202 non-null float64\n",
      "CauseByDesc               3202 non-null object\n",
      "GeneralDesc               3195 non-null object\n",
      "SpecificDesc              3193 non-null object\n",
      "Cause_Comments            480 non-null object\n",
      "General_Restriction       3200 non-null float64\n",
      "Industrial_Restriction    3199 non-null float64\n",
      "Burn_Index                3202 non-null float64\n",
      "RegulatedUseZone          3200 non-null object\n",
      "Ign_DateTime              3198 non-null object\n",
      "ReportDateAndTime         3202 non-null datetime64[ns]\n",
      "Control_DateTime          3197 non-null object\n",
      "Flame_length              2337 non-null float64\n",
      "Behavior                  3197 non-null float64\n",
      "Fuel                      3198 non-null object\n",
      "Topography                3175 non-null float64\n",
      "Aspect                    3176 non-null float64\n",
      "Slope                     3175 non-null float64\n",
      "Elevation                 3185 non-null float64\n",
      "Size_acres                3201 non-null float64\n",
      "Size_prot                 3202 non-null float64\n",
      "Location                  3202 non-null object\n",
      "FYear_from_ReportDate     3202 non-null int64\n",
      "dtypes: datetime64[ns](1), float64(16), int64(1), object(15)\n",
      "memory usage: 850.5+ KB\n"
     ]
    }
   ],
   "source": [
    "fulldata = pd.concat([flame_length_df,df])\n",
    "fulldata.info()"
   ]
  },
  {
   "cell_type": "code",
   "execution_count": 51,
   "metadata": {},
   "outputs": [],
   "source": [
    "#adding flame length per calculation\n",
    "fulldata['Flame_length']=[BI/10 if flame==0 else flame for (flame, BI) in zip(fulldata['Flame_length'],fulldata['Burn_Index']) ]"
   ]
  },
  {
   "cell_type": "code",
   "execution_count": 57,
   "metadata": {},
   "outputs": [],
   "source": [
    "#filling in flame length\n",
    "fulldata['Flame_length'].fillna(fulldata['Burn_Index']/10,inplace=True)"
   ]
  },
  {
   "cell_type": "code",
   "execution_count": 58,
   "metadata": {},
   "outputs": [
    {
     "name": "stdout",
     "output_type": "stream",
     "text": [
      "<class 'pandas.core.frame.DataFrame'>\n",
      "Int64Index: 3202 entries, 60 to 28489\n",
      "Data columns (total 33 columns):\n",
      "FireYear                  3202 non-null object\n",
      "Current_District          3202 non-null float64\n",
      "Current_Unit              3202 non-null float64\n",
      "FireNumber                3202 non-null float64\n",
      "FiscalYear                3202 non-null object\n",
      "FireName                  3202 non-null object\n",
      "Twn                       3202 non-null object\n",
      "Rng                       3202 non-null object\n",
      "Sec                       3202 non-null float64\n",
      "Subdiv                    3202 non-null object\n",
      "County                    3202 non-null float64\n",
      "CauseByDesc               3202 non-null object\n",
      "GeneralDesc               3195 non-null object\n",
      "SpecificDesc              3193 non-null object\n",
      "Cause_Comments            480 non-null object\n",
      "General_Restriction       3200 non-null float64\n",
      "Industrial_Restriction    3199 non-null float64\n",
      "Burn_Index                3202 non-null float64\n",
      "RegulatedUseZone          3200 non-null object\n",
      "Ign_DateTime              3198 non-null object\n",
      "ReportDateAndTime         3202 non-null datetime64[ns]\n",
      "Control_DateTime          3197 non-null object\n",
      "Flame_length              3202 non-null float64\n",
      "Behavior                  3197 non-null float64\n",
      "Fuel                      3198 non-null object\n",
      "Topography                3175 non-null float64\n",
      "Aspect                    3176 non-null float64\n",
      "Slope                     3175 non-null float64\n",
      "Elevation                 3185 non-null float64\n",
      "Size_acres                3201 non-null float64\n",
      "Size_prot                 3202 non-null float64\n",
      "Location                  3202 non-null object\n",
      "FYear_from_ReportDate     3202 non-null int64\n",
      "dtypes: datetime64[ns](1), float64(16), int64(1), object(15)\n",
      "memory usage: 1010.5+ KB\n"
     ]
    }
   ],
   "source": [
    "fulldata.info()"
   ]
  },
  {
   "cell_type": "code",
   "execution_count": 29,
   "metadata": {},
   "outputs": [
    {
     "name": "stdout",
     "output_type": "stream",
     "text": [
      "<class 'pandas.core.frame.DataFrame'>\n",
      "Int64Index: 865 entries, 719 to 28489\n",
      "Data columns (total 33 columns):\n",
      "FireYear                  865 non-null object\n",
      "Current_District          865 non-null float64\n",
      "Current_Unit              865 non-null float64\n",
      "FireNumber                865 non-null float64\n",
      "FiscalYear                865 non-null object\n",
      "FireName                  865 non-null object\n",
      "Twn                       865 non-null object\n",
      "Rng                       865 non-null object\n",
      "Sec                       865 non-null float64\n",
      "Subdiv                    865 non-null object\n",
      "County                    865 non-null float64\n",
      "CauseByDesc               865 non-null object\n",
      "GeneralDesc               858 non-null object\n",
      "SpecificDesc              860 non-null object\n",
      "Cause_Comments            471 non-null object\n",
      "General_Restriction       865 non-null float64\n",
      "Industrial_Restriction    865 non-null float64\n",
      "Burn_Index                865 non-null float64\n",
      "RegulatedUseZone          865 non-null object\n",
      "Ign_DateTime              861 non-null object\n",
      "ReportDateAndTime         865 non-null datetime64[ns]\n",
      "Control_DateTime          860 non-null object\n",
      "Flame_length              0 non-null float64\n",
      "Behavior                  860 non-null float64\n",
      "Fuel                      861 non-null object\n",
      "Topography                838 non-null float64\n",
      "Aspect                    840 non-null float64\n",
      "Slope                     839 non-null float64\n",
      "Elevation                 851 non-null float64\n",
      "Size_acres                864 non-null float64\n",
      "Size_prot                 865 non-null float64\n",
      "Location                  865 non-null object\n",
      "FYear_from_ReportDate     865 non-null int64\n",
      "dtypes: datetime64[ns](1), float64(16), int64(1), object(15)\n",
      "memory usage: 229.8+ KB\n"
     ]
    }
   ],
   "source": [
    "missing_flames = fulldata[fulldata['Flame_length'].isnull()]\n",
    "missing_flames.info()"
   ]
  },
  {
   "cell_type": "code",
   "execution_count": 59,
   "metadata": {
    "collapsed": true
   },
   "outputs": [],
   "source": [
    "#exporting as excel\n",
    "writer = pd.ExcelWriter('Capstone1cleaned.xlsx')\n",
    "fulldata.to_excel(writer,'Cleaned Data')\n",
    "writer.save()"
   ]
  },
  {
   "cell_type": "code",
   "execution_count": null,
   "metadata": {
    "collapsed": true
   },
   "outputs": [],
   "source": []
  }
 ],
 "metadata": {
  "kernelspec": {
   "display_name": "Python 3",
   "language": "python",
   "name": "python3"
  },
  "language_info": {
   "codemirror_mode": {
    "name": "ipython",
    "version": 3
   },
   "file_extension": ".py",
   "mimetype": "text/x-python",
   "name": "python",
   "nbconvert_exporter": "python",
   "pygments_lexer": "ipython3",
   "version": "3.6.1"
  }
 },
 "nbformat": 4,
 "nbformat_minor": 2
}
