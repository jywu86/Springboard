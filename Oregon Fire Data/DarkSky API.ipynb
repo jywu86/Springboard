{
 "cells": [
  {
   "cell_type": "code",
   "execution_count": 1,
   "metadata": {
    "collapsed": true
   },
   "outputs": [],
   "source": [
    "#importing packages\n",
    "import pandas as pd\n",
    "import numpy as np\n",
    "import matplotlib.pyplot as plt\n",
    "import seaborn as sns\n",
    "import requests\n",
    "import urllib.request\n",
    "import time\n",
    "import datetime"
   ]
  },
  {
   "cell_type": "code",
   "execution_count": 10,
   "metadata": {
    "collapsed": true
   },
   "outputs": [],
   "source": [
    "def DarkSky(lat,long,time):\n",
    "    api = '7ac628f1882c74578b8f78ea99afaca1'\n",
    "    connection = urllib.request.urlopen('https://api.darksky.net/forecast/'+api+'/'+lat+','+long+','+time)\n",
    "    js = connection.read()\n",
    "    return json.loads(js)"
   ]
  },
  {
   "cell_type": "code",
   "execution_count": 11,
   "metadata": {},
   "outputs": [
    {
     "name": "stdout",
     "output_type": "stream",
     "text": [
      "CPU times: user 17.1 ms, sys: 4.12 ms, total: 21.3 ms\n",
      "Wall time: 888 ms\n"
     ]
    }
   ],
   "source": [
    "%%time\n",
    "import json\n",
    "first = DarkSky('42.47260','-124.36524','1105232400')"
   ]
  },
  {
   "cell_type": "code",
   "execution_count": 12,
   "metadata": {},
   "outputs": [
    {
     "data": {
      "text/plain": [
       "{'currently': {'apparentTemperature': 34.25,\n",
       "  'cloudCover': 0.5,\n",
       "  'cloudCoverError': 0.21,\n",
       "  'dewPoint': 36.87,\n",
       "  'humidity': 0.83,\n",
       "  'icon': 'rain',\n",
       "  'precipIntensity': 0.0699,\n",
       "  'precipProbability': 1,\n",
       "  'precipType': 'rain',\n",
       "  'pressure': 994.11,\n",
       "  'summary': 'Rain',\n",
       "  'temperature': 41.78,\n",
       "  'time': 1105232400,\n",
       "  'uvIndex': 0,\n",
       "  'windBearing': 190,\n",
       "  'windGust': 27.39,\n",
       "  'windSpeed': 14.54},\n",
       " 'daily': {'data': [{'apparentTemperatureHigh': 36.44,\n",
       "    'apparentTemperatureHighTime': 1105239600,\n",
       "    'apparentTemperatureLow': 33.46,\n",
       "    'apparentTemperatureLowTime': 1105246800,\n",
       "    'apparentTemperatureMax': 44.99,\n",
       "    'apparentTemperatureMaxTime': 1105254000,\n",
       "    'apparentTemperatureMin': 30.14,\n",
       "    'apparentTemperatureMinTime': 1105200000,\n",
       "    'cloudCover': 0.54,\n",
       "    'cloudCoverError': 0.21,\n",
       "    'dewPoint': 34.43,\n",
       "    'humidity': 0.76,\n",
       "    'icon': 'rain',\n",
       "    'moonPhase': 0.94,\n",
       "    'precipIntensity': 0.0441,\n",
       "    'precipIntensityMax': 0.17,\n",
       "    'precipIntensityMaxTime': 1105225200,\n",
       "    'precipProbability': 1,\n",
       "    'precipType': 'rain',\n",
       "    'pressure': 997.35,\n",
       "    'summary': 'Rain until evening and breezy in the morning.',\n",
       "    'sunriseTime': 1105199265,\n",
       "    'sunsetTime': 1105232595,\n",
       "    'temperatureHigh': 43.56,\n",
       "    'temperatureHighTime': 1105225200,\n",
       "    'temperatureLow': 42.24,\n",
       "    'temperatureLowTime': 1105246800,\n",
       "    'temperatureMax': 46.44,\n",
       "    'temperatureMaxError': 5.47,\n",
       "    'temperatureMaxTime': 1105254000,\n",
       "    'temperatureMin': 38.24,\n",
       "    'temperatureMinTime': 1105174800,\n",
       "    'time': 1105171200,\n",
       "    'uvIndex': 1,\n",
       "    'uvIndexTime': 1105207200,\n",
       "    'windBearing': 207,\n",
       "    'windGust': 40.58,\n",
       "    'windGustTime': 1105189200,\n",
       "    'windSpeed': 16.62}]},\n",
       " 'flags': {'nearest-station': 3.878,\n",
       "  'sources': ['cmc', 'gfs', 'hrrr', 'icon', 'isd', 'madis', 'nam', 'sref'],\n",
       "  'units': 'us'},\n",
       " 'hourly': {'data': [{'apparentTemperature': 30.95,\n",
       "    'cloudCover': 0.54,\n",
       "    'cloudCoverError': 0.21,\n",
       "    'dewPoint': 34.05,\n",
       "    'humidity': 0.75,\n",
       "    'icon': 'wind',\n",
       "    'precipIntensity': 0,\n",
       "    'precipProbability': 0,\n",
       "    'pressure': 989.7,\n",
       "    'summary': 'Windy and Partly Cloudy',\n",
       "    'temperature': 41.28,\n",
       "    'time': 1105171200,\n",
       "    'uvIndex': 0,\n",
       "    'windBearing': 194,\n",
       "    'windGust': 38.23,\n",
       "    'windSpeed': 25.8},\n",
       "   {'apparentTemperature': 32.99,\n",
       "    'cloudCover': 0.55,\n",
       "    'cloudCoverError': 0.21,\n",
       "    'dewPoint': 32.08,\n",
       "    'humidity': 0.78,\n",
       "    'icon': 'partly-cloudy-night',\n",
       "    'precipIntensity': 0,\n",
       "    'precipProbability': 0,\n",
       "    'pressure': 1019.82,\n",
       "    'pressureError': 70.83,\n",
       "    'summary': 'Partly Cloudy',\n",
       "    'temperature': 38.24,\n",
       "    'time': 1105174800,\n",
       "    'uvIndex': 0,\n",
       "    'windBearing': 189,\n",
       "    'windGust': 24.83,\n",
       "    'windSpeed': 7.05},\n",
       "   {'apparentTemperature': 32.43,\n",
       "    'cloudCover': 0.56,\n",
       "    'cloudCoverError': 0.21,\n",
       "    'dewPoint': 33.51,\n",
       "    'humidity': 0.74,\n",
       "    'icon': 'partly-cloudy-night',\n",
       "    'precipIntensity': 0,\n",
       "    'precipProbability': 0,\n",
       "    'pressure': 1019.68,\n",
       "    'pressureError': 70.84,\n",
       "    'summary': 'Partly Cloudy',\n",
       "    'temperature': 41.3,\n",
       "    'time': 1105178400,\n",
       "    'uvIndex': 0,\n",
       "    'windBearing': 230,\n",
       "    'windGust': 37.72,\n",
       "    'windSpeed': 18.98},\n",
       "   {'apparentTemperature': 32.12,\n",
       "    'cloudCover': 0.57,\n",
       "    'cloudCoverError': 0.21,\n",
       "    'dewPoint': 34.02,\n",
       "    'humidity': 0.76,\n",
       "    'icon': 'partly-cloudy-night',\n",
       "    'precipIntensity': 0,\n",
       "    'precipProbability': 0,\n",
       "    'pressure': 990.6,\n",
       "    'summary': 'Partly Cloudy',\n",
       "    'temperature': 41.16,\n",
       "    'time': 1105182000,\n",
       "    'uvIndex': 0,\n",
       "    'windBearing': 217,\n",
       "    'windGust': 33.07,\n",
       "    'windSpeed': 19.53},\n",
       "   {'apparentTemperature': 31.61,\n",
       "    'cloudCover': 0.58,\n",
       "    'cloudCoverError': 0.21,\n",
       "    'dewPoint': 32.36,\n",
       "    'humidity': 0.75,\n",
       "    'icon': 'rain',\n",
       "    'precipIntensity': 0.05,\n",
       "    'precipProbability': 1,\n",
       "    'precipType': 'rain',\n",
       "    'pressure': 990.51,\n",
       "    'summary': 'Light Rain',\n",
       "    'temperature': 39.52,\n",
       "    'time': 1105185600,\n",
       "    'uvIndex': 0,\n",
       "    'windBearing': 188,\n",
       "    'windGust': 24.6,\n",
       "    'windSpeed': 13.79},\n",
       "   {'apparentTemperature': 31.51,\n",
       "    'cloudCover': 0.59,\n",
       "    'cloudCoverError': 0.21,\n",
       "    'dewPoint': 35.24,\n",
       "    'humidity': 0.79,\n",
       "    'icon': 'rain',\n",
       "    'precipIntensity': 0.09,\n",
       "    'precipProbability': 1,\n",
       "    'precipType': 'rain',\n",
       "    'pressure': 990.51,\n",
       "    'summary': 'Rain and Windy',\n",
       "    'temperature': 41.31,\n",
       "    'time': 1105189200,\n",
       "    'uvIndex': 0,\n",
       "    'windBearing': 199,\n",
       "    'windGust': 40.58,\n",
       "    'windSpeed': 23.16},\n",
       "   {'apparentTemperature': 32.37,\n",
       "    'cloudCover': 0.59,\n",
       "    'cloudCoverError': 0.21,\n",
       "    'dewPoint': 32.97,\n",
       "    'humidity': 0.7,\n",
       "    'icon': 'rain',\n",
       "    'precipIntensity': 0.0399,\n",
       "    'precipProbability': 1,\n",
       "    'precipType': 'rain',\n",
       "    'pressure': 990.6,\n",
       "    'summary': 'Light Rain and Breezy',\n",
       "    'temperature': 42.15,\n",
       "    'time': 1105192800,\n",
       "    'uvIndex': 0,\n",
       "    'windBearing': 199,\n",
       "    'windGust': 36.5,\n",
       "    'windSpeed': 24.4},\n",
       "   {'apparentTemperature': 30.53,\n",
       "    'cloudCover': 0.59,\n",
       "    'cloudCoverError': 0.21,\n",
       "    'dewPoint': 31.81,\n",
       "    'humidity': 0.74,\n",
       "    'icon': 'rain',\n",
       "    'precipIntensity': 0.0699,\n",
       "    'precipProbability': 1,\n",
       "    'precipType': 'rain',\n",
       "    'pressure': 990.6,\n",
       "    'summary': 'Rain',\n",
       "    'temperature': 39.26,\n",
       "    'time': 1105196400,\n",
       "    'uvIndex': 0,\n",
       "    'windBearing': 190,\n",
       "    'windGust': 29.55,\n",
       "    'windSpeed': 16.16},\n",
       "   {'apparentTemperature': 30.14,\n",
       "    'cloudCover': 0.59,\n",
       "    'cloudCoverError': 0.21,\n",
       "    'dewPoint': 35.11,\n",
       "    'humidity': 0.81,\n",
       "    'icon': 'rain',\n",
       "    'precipIntensity': 0.03,\n",
       "    'precipProbability': 1,\n",
       "    'precipType': 'rain',\n",
       "    'pressure': 991.49,\n",
       "    'summary': 'Light Rain and Windy',\n",
       "    'temperature': 40.58,\n",
       "    'time': 1105200000,\n",
       "    'uvIndex': 0,\n",
       "    'windBearing': 219,\n",
       "    'windGust': 36.64,\n",
       "    'windSpeed': 25.1},\n",
       "   {'apparentTemperature': 31.19,\n",
       "    'cloudCover': 0.58,\n",
       "    'cloudCoverError': 0.21,\n",
       "    'dewPoint': 35.12,\n",
       "    'humidity': 0.79,\n",
       "    'icon': 'rain',\n",
       "    'precipIntensity': 0.03,\n",
       "    'precipProbability': 1,\n",
       "    'precipType': 'rain',\n",
       "    'pressure': 992.1,\n",
       "    'summary': 'Light Rain',\n",
       "    'temperature': 41.13,\n",
       "    'time': 1105203600,\n",
       "    'uvIndex': 0,\n",
       "    'windBearing': 195,\n",
       "    'windGust': 36.84,\n",
       "    'windSpeed': 23.56},\n",
       "   {'apparentTemperature': 31.5,\n",
       "    'cloudCover': 0.56,\n",
       "    'cloudCoverError': 0.21,\n",
       "    'dewPoint': 32.27,\n",
       "    'humidity': 0.75,\n",
       "    'icon': 'rain',\n",
       "    'precipIntensity': 0.0399,\n",
       "    'precipProbability': 1,\n",
       "    'precipType': 'rain',\n",
       "    'pressure': 992.1,\n",
       "    'summary': 'Light Rain',\n",
       "    'temperature': 39.42,\n",
       "    'time': 1105207200,\n",
       "    'uvIndex': 1,\n",
       "    'windBearing': 189,\n",
       "    'windGust': 24.55,\n",
       "    'windSpeed': 13.75},\n",
       "   {'apparentTemperature': 33.51,\n",
       "    'cloudCover': 0.55,\n",
       "    'cloudCoverError': 0.21,\n",
       "    'dewPoint': 33.39,\n",
       "    'humidity': 0.71,\n",
       "    'icon': 'rain',\n",
       "    'precipIntensity': 0.09,\n",
       "    'precipProbability': 1,\n",
       "    'precipType': 'rain',\n",
       "    'pressure': 994.21,\n",
       "    'summary': 'Rain',\n",
       "    'temperature': 42.24,\n",
       "    'time': 1105210800,\n",
       "    'uvIndex': 1,\n",
       "    'windBearing': 202,\n",
       "    'windGust': 31.12,\n",
       "    'windSpeed': 19.6},\n",
       "   {'apparentTemperature': 34.95,\n",
       "    'cloudCover': 0.53,\n",
       "    'cloudCoverError': 0.21,\n",
       "    'dewPoint': 32.64,\n",
       "    'humidity': 0.67,\n",
       "    'icon': 'rain',\n",
       "    'precipIntensity': 0.0699,\n",
       "    'precipProbability': 1,\n",
       "    'precipType': 'rain',\n",
       "    'pressure': 993.5,\n",
       "    'summary': 'Rain',\n",
       "    'temperature': 42.63,\n",
       "    'time': 1105214400,\n",
       "    'uvIndex': 1,\n",
       "    'windBearing': 205,\n",
       "    'windGust': 31.39,\n",
       "    'windSpeed': 15.92},\n",
       "   {'apparentTemperature': 33.5,\n",
       "    'cloudCover': 0.52,\n",
       "    'cloudCoverError': 0.21,\n",
       "    'dewPoint': 33.03,\n",
       "    'humidity': 0.76,\n",
       "    'icon': 'rain',\n",
       "    'precipIntensity': 0.0699,\n",
       "    'precipProbability': 1,\n",
       "    'precipType': 'rain',\n",
       "    'pressure': 993.3,\n",
       "    'summary': 'Rain',\n",
       "    'temperature': 40.09,\n",
       "    'time': 1105218000,\n",
       "    'uvIndex': 1,\n",
       "    'windBearing': 194,\n",
       "    'windGust': 20.95,\n",
       "    'windSpeed': 10.62},\n",
       "   {'apparentTemperature': 34.72,\n",
       "    'cloudCover': 0.51,\n",
       "    'cloudCoverError': 0.21,\n",
       "    'dewPoint': 35.54,\n",
       "    'humidity': 0.75,\n",
       "    'icon': 'partly-cloudy-day',\n",
       "    'precipIntensity': 0.0101,\n",
       "    'precipProbability': 1,\n",
       "    'precipType': 'rain',\n",
       "    'pressure': 993.3,\n",
       "    'summary': 'Partly Cloudy',\n",
       "    'temperature': 42.95,\n",
       "    'time': 1105221600,\n",
       "    'uvIndex': 1,\n",
       "    'windBearing': 221,\n",
       "    'windGust': 30.43,\n",
       "    'windSpeed': 18.43},\n",
       "   {'apparentTemperature': 35.91,\n",
       "    'cloudCover': 0.5,\n",
       "    'cloudCoverError': 0.21,\n",
       "    'dewPoint': 36.15,\n",
       "    'humidity': 0.75,\n",
       "    'icon': 'rain',\n",
       "    'precipIntensity': 0.17,\n",
       "    'precipProbability': 1,\n",
       "    'precipType': 'rain',\n",
       "    'pressure': 993.41,\n",
       "    'summary': 'Rain',\n",
       "    'temperature': 43.56,\n",
       "    'time': 1105225200,\n",
       "    'uvIndex': 1,\n",
       "    'windBearing': 207,\n",
       "    'windGust': 30.39,\n",
       "    'windSpeed': 16.83},\n",
       "   {'apparentTemperature': 34.66,\n",
       "    'cloudCover': 0.5,\n",
       "    'cloudCoverError': 0.21,\n",
       "    'dewPoint': 34.37,\n",
       "    'humidity': 0.78,\n",
       "    'icon': 'rain',\n",
       "    'precipIntensity': 0.1099,\n",
       "    'precipProbability': 1,\n",
       "    'precipType': 'rain',\n",
       "    'pressure': 993.41,\n",
       "    'summary': 'Rain',\n",
       "    'temperature': 40.57,\n",
       "    'time': 1105228800,\n",
       "    'uvIndex': 0,\n",
       "    'windBearing': 186,\n",
       "    'windGust': 18.28,\n",
       "    'windSpeed': 9.28},\n",
       "   {'apparentTemperature': 34.25,\n",
       "    'cloudCover': 0.5,\n",
       "    'cloudCoverError': 0.21,\n",
       "    'dewPoint': 36.87,\n",
       "    'humidity': 0.83,\n",
       "    'icon': 'rain',\n",
       "    'precipIntensity': 0.0699,\n",
       "    'precipProbability': 1,\n",
       "    'precipType': 'rain',\n",
       "    'pressure': 994.11,\n",
       "    'summary': 'Rain',\n",
       "    'temperature': 41.78,\n",
       "    'time': 1105232400,\n",
       "    'uvIndex': 0,\n",
       "    'windBearing': 190,\n",
       "    'windGust': 27.39,\n",
       "    'windSpeed': 14.54},\n",
       "   {'apparentTemperature': 31.37,\n",
       "    'cloudCover': 0.5,\n",
       "    'cloudCoverError': 0.21,\n",
       "    'dewPoint': 36.13,\n",
       "    'humidity': 0.8,\n",
       "    'icon': 'rain',\n",
       "    'precipIntensity': 0.0599,\n",
       "    'precipProbability': 1,\n",
       "    'precipType': 'rain',\n",
       "    'pressure': 994.7,\n",
       "    'summary': 'Rain and Windy',\n",
       "    'temperature': 41.68,\n",
       "    'time': 1105236000,\n",
       "    'uvIndex': 0,\n",
       "    'windBearing': 240,\n",
       "    'windGust': 33.69,\n",
       "    'windSpeed': 26.35},\n",
       "   {'apparentTemperature': 36.44,\n",
       "    'cloudCover': 0.51,\n",
       "    'cloudCoverError': 0.21,\n",
       "    'dewPoint': 33.37,\n",
       "    'humidity': 0.77,\n",
       "    'icon': 'rain',\n",
       "    'precipIntensity': 0.03,\n",
       "    'precipProbability': 1,\n",
       "    'precipType': 'rain',\n",
       "    'pressure': 994.7,\n",
       "    'summary': 'Light Rain',\n",
       "    'temperature': 40.02,\n",
       "    'time': 1105239600,\n",
       "    'uvIndex': 0,\n",
       "    'windBearing': 212,\n",
       "    'windGust': 17.85,\n",
       "    'windSpeed': 5.08},\n",
       "   {'apparentTemperature': 34.07,\n",
       "    'cloudCover': 0.51,\n",
       "    'cloudCoverError': 0.21,\n",
       "    'dewPoint': 35.09,\n",
       "    'humidity': 0.75,\n",
       "    'icon': 'partly-cloudy-night',\n",
       "    'precipIntensity': 0,\n",
       "    'precipProbability': 0,\n",
       "    'pressure': 1019.62,\n",
       "    'pressureError': 70.99,\n",
       "    'summary': 'Partly Cloudy',\n",
       "    'temperature': 42.43,\n",
       "    'time': 1105243200,\n",
       "    'uvIndex': 0,\n",
       "    'windBearing': 198,\n",
       "    'windGust': 26.85,\n",
       "    'windSpeed': 18.27},\n",
       "   {'apparentTemperature': 33.46,\n",
       "    'cloudCover': 0.52,\n",
       "    'cloudCoverError': 0.21,\n",
       "    'dewPoint': 33.94,\n",
       "    'humidity': 0.72,\n",
       "    'icon': 'partly-cloudy-night',\n",
       "    'precipIntensity': 0.0199,\n",
       "    'precipProbability': 1,\n",
       "    'precipType': 'rain',\n",
       "    'pressure': 997.3,\n",
       "    'summary': 'Partly Cloudy',\n",
       "    'temperature': 42.24,\n",
       "    'time': 1105246800,\n",
       "    'uvIndex': 0,\n",
       "    'windBearing': 230,\n",
       "    'windGust': 29.28,\n",
       "    'windSpeed': 19.83},\n",
       "   {'apparentTemperature': 35.04,\n",
       "    'cloudCover': 0.52,\n",
       "    'cloudCoverError': 0.21,\n",
       "    'dewPoint': 37.58,\n",
       "    'humidity': 0.77,\n",
       "    'icon': 'wind',\n",
       "    'precipIntensity': 0.0042,\n",
       "    'precipIntensityError': 0.0742,\n",
       "    'precipProbability': 0.8,\n",
       "    'precipProbabilityError': 0.11,\n",
       "    'precipType': 'rain',\n",
       "    'pressure': 997.3,\n",
       "    'summary': 'Breezy and Partly Cloudy',\n",
       "    'temperature': 44.17,\n",
       "    'time': 1105250400,\n",
       "    'uvIndex': 0,\n",
       "    'windBearing': 221,\n",
       "    'windGust': 29.07,\n",
       "    'windSpeed': 24.6},\n",
       "   {'apparentTemperature': 44.99,\n",
       "    'cloudCover': 0.53,\n",
       "    'cloudCoverError': 0.21,\n",
       "    'dewPoint': 39.77,\n",
       "    'humidity': 0.77,\n",
       "    'icon': 'partly-cloudy-night',\n",
       "    'precipIntensity': 0.0042,\n",
       "    'precipIntensityError': 0.0742,\n",
       "    'precipProbability': 0.83,\n",
       "    'precipProbabilityError': 0.11,\n",
       "    'precipType': 'rain',\n",
       "    'pressure': 1019.94,\n",
       "    'pressureError': 71.01,\n",
       "    'summary': 'Partly Cloudy',\n",
       "    'temperature': 46.44,\n",
       "    'temperatureError': 5.47,\n",
       "    'time': 1105254000,\n",
       "    'uvIndex': 0,\n",
       "    'windBearing': 198,\n",
       "    'windBearingError': 74,\n",
       "    'windSpeed': 3.72,\n",
       "    'windSpeedError': 12.96}],\n",
       "  'icon': 'rain',\n",
       "  'summary': 'Rain starting in the morning, continuing until evening, and breezy in the morning.'},\n",
       " 'latitude': 42.4726,\n",
       " 'longitude': -124.36524,\n",
       " 'offset': -8,\n",
       " 'timezone': 'America/Los_Angeles'}"
      ]
     },
     "execution_count": 12,
     "metadata": {},
     "output_type": "execute_result"
    }
   ],
   "source": [
    "first"
   ]
  },
  {
   "cell_type": "code",
   "execution_count": 57,
   "metadata": {},
   "outputs": [
    {
     "data": {
      "text/plain": [
       "{'apparentTemperature': 34.25,\n",
       " 'cloudCover': 0.5,\n",
       " 'cloudCoverError': 0.21,\n",
       " 'dewPoint': 36.87,\n",
       " 'humidity': 0.83,\n",
       " 'icon': 'rain',\n",
       " 'precipIntensity': 0.0699,\n",
       " 'precipProbability': 1,\n",
       " 'precipType': 'rain',\n",
       " 'pressure': 994.11,\n",
       " 'summary': 'Rain',\n",
       " 'temperature': 41.78,\n",
       " 'time': 1105232400,\n",
       " 'uvIndex': 0,\n",
       " 'windBearing': 190,\n",
       " 'windGust': 27.39,\n",
       " 'windSpeed': 14.54}"
      ]
     },
     "execution_count": 57,
     "metadata": {},
     "output_type": "execute_result"
    }
   ],
   "source": [
    "first['currently']"
   ]
  },
  {
   "cell_type": "code",
   "execution_count": 27,
   "metadata": {},
   "outputs": [
    {
     "data": {
      "text/plain": [
       "'rain'"
      ]
     },
     "execution_count": 27,
     "metadata": {},
     "output_type": "execute_result"
    }
   ],
   "source": [
    "first['currently']['icon']"
   ]
  },
  {
   "cell_type": "code",
   "execution_count": 14,
   "metadata": {
    "collapsed": true
   },
   "outputs": [],
   "source": [
    "def extraction(json_obj):\n",
    "    temp = json_obj['currently']['temperature']\n",
    "    dewPoint = json_obj['currently']['dewPoint']\n",
    "    humidity = json_obj['currently']['humidity']\n",
    "    pType = json_obj['currently']['summary']\n",
    "    pProb = json_obj['currently']['precipProbability']\n",
    "    pIntens = json_obj['currently']['precipIntensity']\n",
    "    wind = json_obj['currently']['windSpeed']\n",
    "    time = json_ob['currently']['time']\n",
    "    latitude = json_obj['latitude']\n",
    "    longitude = json_obj['longitude']\n",
    "    \n",
    "    return [temp, dewPoint, humidity, pType, pProb, pIntens, wind, time, latitude, longitude]"
   ]
  },
  {
   "cell_type": "code",
   "execution_count": 36,
   "metadata": {},
   "outputs": [
    {
     "data": {
      "text/plain": [
       "[41.78, 36.87, 0.83, 'rain', 1, 0.0699, 14.54]"
      ]
     },
     "execution_count": 36,
     "metadata": {},
     "output_type": "execute_result"
    }
   ],
   "source": [
    "extraction(first)"
   ]
  },
  {
   "cell_type": "code",
   "execution_count": 87,
   "metadata": {},
   "outputs": [],
   "source": [
    "resp2 = []\n",
    "for r in Response2:\n",
    "    s = r.get('currently').get('temperature')\n",
    "    resp2.append(s)"
   ]
  },
  {
   "cell_type": "code",
   "execution_count": 89,
   "metadata": {},
   "outputs": [],
   "source": [
    "Resp2DF = pd.DataFrame(resp2)"
   ]
  },
  {
   "cell_type": "code",
   "execution_count": 91,
   "metadata": {},
   "outputs": [
    {
     "data": {
      "text/plain": [
       "1866"
      ]
     },
     "execution_count": 91,
     "metadata": {},
     "output_type": "execute_result"
    }
   ],
   "source": [
    "len(Response2)"
   ]
  },
  {
   "cell_type": "code",
   "execution_count": 90,
   "metadata": {},
   "outputs": [
    {
     "name": "stdout",
     "output_type": "stream",
     "text": [
      "<class 'pandas.core.frame.DataFrame'>\n",
      "RangeIndex: 1866 entries, 0 to 1865\n",
      "Data columns (total 1 columns):\n",
      "0    1865 non-null float64\n",
      "dtypes: float64(1)\n",
      "memory usage: 14.7 KB\n"
     ]
    }
   ],
   "source": [
    "Resp2DF.info()"
   ]
  },
  {
   "cell_type": "code",
   "execution_count": null,
   "metadata": {
    "collapsed": true
   },
   "outputs": [],
   "source": [
    "import pickle\n"
   ]
  },
  {
   "cell_type": "code",
   "execution_count": 6,
   "metadata": {},
   "outputs": [],
   "source": [
    "response2 = open('Response2.pickle','rb')\n",
    "Response2 = pickle.load(response2)\n",
    "\n",
    "response3 = open('Response3.pickle','rb')\n",
    "Response3 = pickle.load(response3)\n",
    "\n",
    "response4 = open('Response4.pickle','rb')\n",
    "Response4 = pickle.load(response4)\n",
    "\n",
    "response5 = open('Response5.pickle','rb')\n",
    "Response5 = pickle.load(response5)\n",
    "\n",
    "response6 = open('Response6.pickle','rb')\n",
    "Response6 = pickle.load(response6)\n",
    "\n",
    "response7 = open('Response7.pickle','rb')\n",
    "Response7 = pickle.load(response7)"
   ]
  },
  {
   "cell_type": "code",
   "execution_count": 5,
   "metadata": {
    "collapsed": true
   },
   "outputs": [],
   "source": [
    "pickle_in=open('Response1.pickle','rb')\n",
    "Response1 = pickle.load(pickle_in)"
   ]
  },
  {
   "cell_type": "code",
   "execution_count": 8,
   "metadata": {},
   "outputs": [],
   "source": [
    "Response = Response1 + Response2 + Response3 + Response4 + Response5 + Response6 + Response7"
   ]
  },
  {
   "cell_type": "code",
   "execution_count": 9,
   "metadata": {},
   "outputs": [
    {
     "data": {
      "text/plain": [
       "13412"
      ]
     },
     "execution_count": 9,
     "metadata": {},
     "output_type": "execute_result"
    }
   ],
   "source": [
    "len(Response)"
   ]
  },
  {
   "cell_type": "code",
   "execution_count": 17,
   "metadata": {
    "collapsed": true
   },
   "outputs": [],
   "source": [
    "#giving column labels\n",
    "columns = ['temperature','dewPoint','humidity','summary','precipProbability','precipIntensity','windSpeed','time']"
   ]
  },
  {
   "cell_type": "code",
   "execution_count": 109,
   "metadata": {
    "collapsed": true
   },
   "outputs": [],
   "source": [
    "lat = ['latitude','longitude']"
   ]
  },
  {
   "cell_type": "code",
   "execution_count": 101,
   "metadata": {
    "collapsed": true
   },
   "outputs": [],
   "source": [
    "DSkyO = pd.DataFrame()\n",
    "Res3 = pd.DataFrame()"
   ]
  },
  {
   "cell_type": "code",
   "execution_count": 41,
   "metadata": {
    "collapsed": true
   },
   "outputs": [],
   "source": [
    "Res1 = pd.DataFrame()"
   ]
  },
  {
   "cell_type": "code",
   "execution_count": 98,
   "metadata": {},
   "outputs": [
    {
     "ename": "NameError",
     "evalue": "name 'json_ob' is not defined",
     "output_type": "error",
     "traceback": [
      "\u001b[0;31m---------------------------------------------------------------------------\u001b[0m",
      "\u001b[0;31mNameError\u001b[0m                                 Traceback (most recent call last)",
      "\u001b[0;32m<ipython-input-98-c0ed32f7fa4a>\u001b[0m in \u001b[0;36m<module>\u001b[0;34m()\u001b[0m\n\u001b[1;32m      1\u001b[0m \u001b[0;31m#extracting JSON object into list for all fields\u001b[0m\u001b[0;34m\u001b[0m\u001b[0;34m\u001b[0m\u001b[0m\n\u001b[0;32m----> 2\u001b[0;31m \u001b[0mDSky100\u001b[0m\u001b[0;34m[\u001b[0m\u001b[0;34m'DSky_O'\u001b[0m\u001b[0;34m]\u001b[0m\u001b[0;34m=\u001b[0m \u001b[0;34m[\u001b[0m\u001b[0mextraction\u001b[0m\u001b[0;34m(\u001b[0m\u001b[0mresponse\u001b[0m\u001b[0;34m)\u001b[0m \u001b[0;32mfor\u001b[0m \u001b[0mresponse\u001b[0m \u001b[0;32min\u001b[0m \u001b[0mResponse1\u001b[0m\u001b[0;34m]\u001b[0m\u001b[0;34m\u001b[0m\u001b[0m\n\u001b[0m",
      "\u001b[0;32m<ipython-input-98-c0ed32f7fa4a>\u001b[0m in \u001b[0;36m<listcomp>\u001b[0;34m(.0)\u001b[0m\n\u001b[1;32m      1\u001b[0m \u001b[0;31m#extracting JSON object into list for all fields\u001b[0m\u001b[0;34m\u001b[0m\u001b[0;34m\u001b[0m\u001b[0m\n\u001b[0;32m----> 2\u001b[0;31m \u001b[0mDSky100\u001b[0m\u001b[0;34m[\u001b[0m\u001b[0;34m'DSky_O'\u001b[0m\u001b[0;34m]\u001b[0m\u001b[0;34m=\u001b[0m \u001b[0;34m[\u001b[0m\u001b[0mextraction\u001b[0m\u001b[0;34m(\u001b[0m\u001b[0mresponse\u001b[0m\u001b[0;34m)\u001b[0m \u001b[0;32mfor\u001b[0m \u001b[0mresponse\u001b[0m \u001b[0;32min\u001b[0m \u001b[0mResponse1\u001b[0m\u001b[0;34m]\u001b[0m\u001b[0;34m\u001b[0m\u001b[0m\n\u001b[0m",
      "\u001b[0;32m<ipython-input-14-24aa738aedd0>\u001b[0m in \u001b[0;36mextraction\u001b[0;34m(json_obj)\u001b[0m\n\u001b[1;32m      7\u001b[0m     \u001b[0mpIntens\u001b[0m \u001b[0;34m=\u001b[0m \u001b[0mjson_obj\u001b[0m\u001b[0;34m[\u001b[0m\u001b[0;34m'currently'\u001b[0m\u001b[0;34m]\u001b[0m\u001b[0;34m[\u001b[0m\u001b[0;34m'precipIntensity'\u001b[0m\u001b[0;34m]\u001b[0m\u001b[0;34m\u001b[0m\u001b[0m\n\u001b[1;32m      8\u001b[0m     \u001b[0mwind\u001b[0m \u001b[0;34m=\u001b[0m \u001b[0mjson_obj\u001b[0m\u001b[0;34m[\u001b[0m\u001b[0;34m'currently'\u001b[0m\u001b[0;34m]\u001b[0m\u001b[0;34m[\u001b[0m\u001b[0;34m'windSpeed'\u001b[0m\u001b[0;34m]\u001b[0m\u001b[0;34m\u001b[0m\u001b[0m\n\u001b[0;32m----> 9\u001b[0;31m     \u001b[0mtime\u001b[0m \u001b[0;34m=\u001b[0m \u001b[0mjson_ob\u001b[0m\u001b[0;34m[\u001b[0m\u001b[0;34m'currently'\u001b[0m\u001b[0;34m]\u001b[0m\u001b[0;34m[\u001b[0m\u001b[0;34m'time'\u001b[0m\u001b[0;34m]\u001b[0m\u001b[0;34m\u001b[0m\u001b[0m\n\u001b[0m\u001b[1;32m     10\u001b[0m     \u001b[0mlatitude\u001b[0m \u001b[0;34m=\u001b[0m \u001b[0mjson_obj\u001b[0m\u001b[0;34m[\u001b[0m\u001b[0;34m'latitude'\u001b[0m\u001b[0;34m]\u001b[0m\u001b[0;34m\u001b[0m\u001b[0m\n\u001b[1;32m     11\u001b[0m     \u001b[0mlongitude\u001b[0m \u001b[0;34m=\u001b[0m \u001b[0mjson_obj\u001b[0m\u001b[0;34m[\u001b[0m\u001b[0;34m'longitude'\u001b[0m\u001b[0;34m]\u001b[0m\u001b[0;34m\u001b[0m\u001b[0m\n",
      "\u001b[0;31mNameError\u001b[0m: name 'json_ob' is not defined"
     ]
    }
   ],
   "source": [
    "#extracting JSON object into list for all fields\n",
    "DSky100['DSky_O']= [extraction(response) for response in Response1]"
   ]
  },
  {
   "cell_type": "code",
   "execution_count": 79,
   "metadata": {
    "collapsed": true
   },
   "outputs": [],
   "source": [
    "DList = DSky100['DSky_O']"
   ]
  },
  {
   "cell_type": "code",
   "execution_count": 92,
   "metadata": {
    "collapsed": true
   },
   "outputs": [],
   "source": [
    "def extract(json_obj,key):\n",
    "    res = json_obj.get('currently').get(key)\n",
    "    return res"
   ]
  },
  {
   "cell_type": "code",
   "execution_count": 108,
   "metadata": {
    "collapsed": true
   },
   "outputs": [],
   "source": [
    "def extract2(json_obj,key):\n",
    "    res = json_obj.get(key)\n",
    "    return res"
   ]
  },
  {
   "cell_type": "code",
   "execution_count": 97,
   "metadata": {},
   "outputs": [
    {
     "data": {
      "text/plain": [
       "33.11"
      ]
     },
     "execution_count": 97,
     "metadata": {},
     "output_type": "execute_result"
    }
   ],
   "source": [
    "extract(Response1[0],'temperature')"
   ]
  },
  {
   "cell_type": "code",
   "execution_count": 102,
   "metadata": {},
   "outputs": [],
   "source": [
    "for key in columns: \n",
    "    DSkyO[key] = [extract(obj,key) for obj in Response]"
   ]
  },
  {
   "cell_type": "code",
   "execution_count": 112,
   "metadata": {
    "collapsed": true
   },
   "outputs": [],
   "source": [
    "for key in lat: \n",
    "    DSkyO[key] = [extract2(obj,key) for obj in Response]"
   ]
  },
  {
   "cell_type": "code",
   "execution_count": 113,
   "metadata": {},
   "outputs": [
    {
     "data": {
      "text/html": [
       "<div>\n",
       "<style>\n",
       "    .dataframe thead tr:only-child th {\n",
       "        text-align: right;\n",
       "    }\n",
       "\n",
       "    .dataframe thead th {\n",
       "        text-align: left;\n",
       "    }\n",
       "\n",
       "    .dataframe tbody tr th {\n",
       "        vertical-align: top;\n",
       "    }\n",
       "</style>\n",
       "<table border=\"1\" class=\"dataframe\">\n",
       "  <thead>\n",
       "    <tr style=\"text-align: right;\">\n",
       "      <th></th>\n",
       "      <th>temperature</th>\n",
       "      <th>dewPoint</th>\n",
       "      <th>humidity</th>\n",
       "      <th>summary</th>\n",
       "      <th>precipProbability</th>\n",
       "      <th>precipIntensity</th>\n",
       "      <th>windSpeed</th>\n",
       "      <th>time</th>\n",
       "      <th>latitude</th>\n",
       "      <th>longitude</th>\n",
       "    </tr>\n",
       "  </thead>\n",
       "  <tbody>\n",
       "    <tr>\n",
       "      <th>0</th>\n",
       "      <td>33.11</td>\n",
       "      <td>30.75</td>\n",
       "      <td>0.91</td>\n",
       "      <td>Mostly Cloudy</td>\n",
       "      <td>0.0</td>\n",
       "      <td>0.0000</td>\n",
       "      <td>4.49</td>\n",
       "      <td>1104508800</td>\n",
       "      <td>45.57656</td>\n",
       "      <td>-123.66049</td>\n",
       "    </tr>\n",
       "    <tr>\n",
       "      <th>1</th>\n",
       "      <td>41.78</td>\n",
       "      <td>36.87</td>\n",
       "      <td>0.83</td>\n",
       "      <td>Rain</td>\n",
       "      <td>1.0</td>\n",
       "      <td>0.0699</td>\n",
       "      <td>14.54</td>\n",
       "      <td>1105232400</td>\n",
       "      <td>42.47260</td>\n",
       "      <td>-124.36524</td>\n",
       "    </tr>\n",
       "    <tr>\n",
       "      <th>2</th>\n",
       "      <td>46.59</td>\n",
       "      <td>26.12</td>\n",
       "      <td>0.44</td>\n",
       "      <td>Clear</td>\n",
       "      <td>0.0</td>\n",
       "      <td>0.0000</td>\n",
       "      <td>3.43</td>\n",
       "      <td>1108504800</td>\n",
       "      <td>45.63316</td>\n",
       "      <td>-123.22216</td>\n",
       "    </tr>\n",
       "    <tr>\n",
       "      <th>3</th>\n",
       "      <td>56.84</td>\n",
       "      <td>26.86</td>\n",
       "      <td>0.31</td>\n",
       "      <td>Clear</td>\n",
       "      <td>0.0</td>\n",
       "      <td>0.0000</td>\n",
       "      <td>5.58</td>\n",
       "      <td>1109192400</td>\n",
       "      <td>45.32616</td>\n",
       "      <td>-122.27400</td>\n",
       "    </tr>\n",
       "    <tr>\n",
       "      <th>4</th>\n",
       "      <td>59.47</td>\n",
       "      <td>29.60</td>\n",
       "      <td>0.32</td>\n",
       "      <td>Clear</td>\n",
       "      <td>0.0</td>\n",
       "      <td>0.0000</td>\n",
       "      <td>11.75</td>\n",
       "      <td>1109185200</td>\n",
       "      <td>44.56616</td>\n",
       "      <td>-124.02716</td>\n",
       "    </tr>\n",
       "  </tbody>\n",
       "</table>\n",
       "</div>"
      ],
      "text/plain": [
       "   temperature  dewPoint  humidity        summary  precipProbability  \\\n",
       "0        33.11     30.75      0.91  Mostly Cloudy                0.0   \n",
       "1        41.78     36.87      0.83           Rain                1.0   \n",
       "2        46.59     26.12      0.44          Clear                0.0   \n",
       "3        56.84     26.86      0.31          Clear                0.0   \n",
       "4        59.47     29.60      0.32          Clear                0.0   \n",
       "\n",
       "   precipIntensity  windSpeed        time  latitude  longitude  \n",
       "0           0.0000       4.49  1104508800  45.57656 -123.66049  \n",
       "1           0.0699      14.54  1105232400  42.47260 -124.36524  \n",
       "2           0.0000       3.43  1108504800  45.63316 -123.22216  \n",
       "3           0.0000       5.58  1109192400  45.32616 -122.27400  \n",
       "4           0.0000      11.75  1109185200  44.56616 -124.02716  "
      ]
     },
     "execution_count": 113,
     "metadata": {},
     "output_type": "execute_result"
    }
   ],
   "source": [
    "DSkyO.head()"
   ]
  },
  {
   "cell_type": "code",
   "execution_count": 115,
   "metadata": {
    "collapsed": true
   },
   "outputs": [],
   "source": [
    "#renaming columns\n",
    "colnam = ['Temp','DewPoint','Humidity','Weather','PrecipProb','PrecipInten','Wind','API_Time','Lat_DD','Long_DD']"
   ]
  },
  {
   "cell_type": "code",
   "execution_count": 117,
   "metadata": {},
   "outputs": [],
   "source": [
    "DSkyO.columns = colnam"
   ]
  },
  {
   "cell_type": "code",
   "execution_count": 106,
   "metadata": {
    "collapsed": true
   },
   "outputs": [],
   "source": [
    "OregonDF = open('Oregon.pickle','rb')\n",
    "oregon = pickle.load(OregonDF)"
   ]
  },
  {
   "cell_type": "code",
   "execution_count": 121,
   "metadata": {
    "scrolled": true
   },
   "outputs": [
    {
     "name": "stdout",
     "output_type": "stream",
     "text": [
      "<class 'pandas.core.frame.DataFrame'>\n",
      "RangeIndex: 12874 entries, 0 to 12873\n",
      "Data columns (total 31 columns):\n",
      "ID                   12874 non-null int64\n",
      "CreationDate         12872 non-null datetime64[ns]\n",
      "ModifiedDate         12874 non-null datetime64[ns]\n",
      "FireYear             12874 non-null int64\n",
      "Area                 12874 non-null object\n",
      "District             12874 non-null int64\n",
      "Unit                 12874 non-null int64\n",
      "FireNumber           12874 non-null int64\n",
      "FiscalYear           12874 non-null int64\n",
      "FireName             12874 non-null object\n",
      "LandmarkLocation     12123 non-null object\n",
      "Twn                  12872 non-null object\n",
      "Rng                  12871 non-null object\n",
      "Sec                  12872 non-null float64\n",
      "Subdiv               12858 non-null object\n",
      "Long_DD              12871 non-null float64\n",
      "Lat_DD               12871 non-null float64\n",
      "LO_Name              12866 non-null object\n",
      "HumanOrLightning     12874 non-null object\n",
      "CauseByDesc          12810 non-null object\n",
      "GeneralDesc          12873 non-null object\n",
      "SpecificDesc         12761 non-null object\n",
      "Cause_Comments       5934 non-null object\n",
      "Ign_DateTime         12874 non-null datetime64[ns]\n",
      "ReportDateAndTime    12874 non-null datetime64[ns]\n",
      "Control_DateTime     12822 non-null datetime64[ns]\n",
      "FireTotalAcres       12825 non-null float64\n",
      "ODFProtectedAcres    12874 non-null float64\n",
      "API_Start            12874 non-null float64\n",
      "API_End              12874 non-null float64\n",
      "API_Time             12874 non-null int64\n",
      "dtypes: datetime64[ns](5), float64(7), int64(7), object(12)\n",
      "memory usage: 3.0+ MB\n"
     ]
    }
   ],
   "source": [
    "oregon.info()"
   ]
  },
  {
   "cell_type": "code",
   "execution_count": 118,
   "metadata": {
    "collapsed": true
   },
   "outputs": [],
   "source": [
    "#joining darksky results with original DF\n",
    "df = oregon.merge(DSkyO,how='left',on=['Long_DD','Lat_DD','API_Time'])"
   ]
  },
  {
   "cell_type": "code",
   "execution_count": 123,
   "metadata": {},
   "outputs": [
    {
     "name": "stdout",
     "output_type": "stream",
     "text": [
      "<class 'pandas.core.frame.DataFrame'>\n",
      "RangeIndex: 13412 entries, 0 to 13411\n",
      "Data columns (total 10 columns):\n",
      "Temp           13411 non-null float64\n",
      "DewPoint       13411 non-null float64\n",
      "Humidity       13411 non-null float64\n",
      "Weather        13411 non-null object\n",
      "PrecipProb     13406 non-null float64\n",
      "PrecipInten    13406 non-null float64\n",
      "Wind           13411 non-null float64\n",
      "API_Time       13412 non-null int64\n",
      "Lat_DD         13412 non-null float64\n",
      "Long_DD        13412 non-null float64\n",
      "dtypes: float64(8), int64(1), object(1)\n",
      "memory usage: 1.0+ MB\n"
     ]
    }
   ],
   "source": [
    "DSkyO.info()"
   ]
  },
  {
   "cell_type": "code",
   "execution_count": 125,
   "metadata": {},
   "outputs": [],
   "source": [
    "df = oregon.merge(DSkyO, how='left',on=['Long_DD','Lat_DD','API_Time'])"
   ]
  },
  {
   "cell_type": "code",
   "execution_count": 134,
   "metadata": {},
   "outputs": [],
   "source": [
    "#finding only unique fires\n",
    "df = df.drop_duplicates('ID')"
   ]
  },
  {
   "cell_type": "code",
   "execution_count": 135,
   "metadata": {},
   "outputs": [
    {
     "name": "stdout",
     "output_type": "stream",
     "text": [
      "<class 'pandas.core.frame.DataFrame'>\n",
      "Int64Index: 12874 entries, 0 to 13451\n",
      "Data columns (total 38 columns):\n",
      "ID                   12874 non-null int64\n",
      "CreationDate         12872 non-null datetime64[ns]\n",
      "ModifiedDate         12874 non-null datetime64[ns]\n",
      "FireYear             12874 non-null int64\n",
      "Area                 12874 non-null object\n",
      "District             12874 non-null int64\n",
      "Unit                 12874 non-null int64\n",
      "FireNumber           12874 non-null int64\n",
      "FiscalYear           12874 non-null int64\n",
      "FireName             12874 non-null object\n",
      "LandmarkLocation     12123 non-null object\n",
      "Twn                  12872 non-null object\n",
      "Rng                  12871 non-null object\n",
      "Sec                  12872 non-null float64\n",
      "Subdiv               12858 non-null object\n",
      "Long_DD              12871 non-null float64\n",
      "Lat_DD               12871 non-null float64\n",
      "LO_Name              12866 non-null object\n",
      "HumanOrLightning     12874 non-null object\n",
      "CauseByDesc          12810 non-null object\n",
      "GeneralDesc          12873 non-null object\n",
      "SpecificDesc         12761 non-null object\n",
      "Cause_Comments       5934 non-null object\n",
      "Ign_DateTime         12874 non-null datetime64[ns]\n",
      "ReportDateAndTime    12874 non-null datetime64[ns]\n",
      "Control_DateTime     12822 non-null datetime64[ns]\n",
      "FireTotalAcres       12825 non-null float64\n",
      "ODFProtectedAcres    12874 non-null float64\n",
      "API_Start            12874 non-null float64\n",
      "API_End              12874 non-null float64\n",
      "API_Time             12874 non-null int64\n",
      "Temp                 12870 non-null float64\n",
      "DewPoint             12870 non-null float64\n",
      "Humidity             12870 non-null float64\n",
      "Weather              12870 non-null object\n",
      "PrecipProb           12865 non-null float64\n",
      "PrecipInten          12865 non-null float64\n",
      "Wind                 12870 non-null float64\n",
      "dtypes: datetime64[ns](5), float64(13), int64(7), object(13)\n",
      "memory usage: 3.8+ MB\n"
     ]
    }
   ],
   "source": [
    "df.info()"
   ]
  },
  {
   "cell_type": "code",
   "execution_count": null,
   "metadata": {
    "collapsed": true
   },
   "outputs": [],
   "source": [
    "cleaned = open('oregoncleaned.pickle','rb')\n",
    "cleanedoregon = pickle.load(df)"
   ]
  },
  {
   "cell_type": "code",
   "execution_count": 138,
   "metadata": {},
   "outputs": [],
   "source": [
    "import pickle\n",
    "#saving df as pickle\n",
    "df_out = open('fireCleaned.pickle','wb')\n",
    "pickle.dump(df,df_out)\n",
    "df_out.close()"
   ]
  },
  {
   "cell_type": "code",
   "execution_count": null,
   "metadata": {
    "collapsed": true
   },
   "outputs": [],
   "source": []
  }
 ],
 "metadata": {
  "kernelspec": {
   "display_name": "Python 3",
   "language": "python",
   "name": "python3"
  },
  "language_info": {
   "codemirror_mode": {
    "name": "ipython",
    "version": 3
   },
   "file_extension": ".py",
   "mimetype": "text/x-python",
   "name": "python",
   "nbconvert_exporter": "python",
   "pygments_lexer": "ipython3",
   "version": "3.6.1"
  }
 },
 "nbformat": 4,
 "nbformat_minor": 2
}
