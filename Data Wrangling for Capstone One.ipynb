{
 "cells": [
  {
   "cell_type": "code",
   "execution_count": 1,
   "metadata": {
    "collapsed": true
   },
   "outputs": [],
   "source": [
    "#importing packages\n",
    "import pandas as pd\n",
    "import numpy as np\n",
    "import matplotlib as plt\n",
    "import seaborn as sns"
   ]
  },
  {
   "cell_type": "code",
   "execution_count": 141,
   "metadata": {},
   "outputs": [
    {
     "name": "stderr",
     "output_type": "stream",
     "text": [
      "/Users/johnwu/anaconda/lib/python3.6/site-packages/IPython/core/interactiveshell.py:2717: DtypeWarning: Columns (0,4,11,14,18,19,21,24) have mixed types. Specify dtype option on import or set low_memory=False.\n",
      "  interactivity=interactivity, compiler=compiler, result=result)\n"
     ]
    }
   ],
   "source": [
    "oregon = pd.read_csv('2005_-_2014_Fire_Data.csv')"
   ]
  },
  {
   "cell_type": "code",
   "execution_count": 142,
   "metadata": {},
   "outputs": [
    {
     "name": "stdout",
     "output_type": "stream",
     "text": [
      "<class 'pandas.core.frame.DataFrame'>\n",
      "RangeIndex: 74224 entries, 0 to 74223\n",
      "Data columns (total 32 columns):\n",
      "FireYear                  28490 non-null object\n",
      "Current_District          28489 non-null float64\n",
      "Current_Unit              28489 non-null float64\n",
      "FireNumber                28489 non-null float64\n",
      "FiscalYear                28490 non-null object\n",
      "FireName                  28474 non-null object\n",
      "Twn                       25903 non-null object\n",
      "Rng                       25901 non-null object\n",
      "Sec                       25861 non-null float64\n",
      "Subdiv                    22398 non-null object\n",
      "County                    28465 non-null float64\n",
      "CauseByDesc               10987 non-null object\n",
      "GeneralDesc               28030 non-null object\n",
      "SpecificDesc              24867 non-null object\n",
      "Cause_Comments            10276 non-null object\n",
      "General_Restriction       11061 non-null float64\n",
      "Industrial_Restriction    11060 non-null float64\n",
      "Burn_Index                2883 non-null float64\n",
      "RegulatedUseZone          11585 non-null object\n",
      "Ign_DateTime              11065 non-null object\n",
      "ReportDateAndTime         28489 non-null object\n",
      "Control_DateTime          11058 non-null object\n",
      "Flame_length              2337 non-null float64\n",
      "Behavior                  11049 non-null float64\n",
      "Fuel                      11104 non-null object\n",
      "Topography                3233 non-null float64\n",
      "Aspect                    3233 non-null float64\n",
      "Slope                     3233 non-null float64\n",
      "Elevation                 3848 non-null float64\n",
      "Size_acres                14719 non-null float64\n",
      "Size_prot                 25718 non-null float64\n",
      "Location                  23941 non-null object\n",
      "dtypes: float64(16), object(16)\n",
      "memory usage: 18.1+ MB\n"
     ]
    }
   ],
   "source": [
    "oregon.info()"
   ]
  },
  {
   "cell_type": "markdown",
   "metadata": {},
   "source": [
    "# Initial inspection of dataframe: \n",
    "\n",
    "1. Total of 74224 entries with approximately 28000 entries as the maximum amount of non-null objects.  This means that there must be a lot of rows and entries that have null values.  First step is to remove all rows with complete null values.  \n",
    "\n",
    "2. A lot of these columns are float objects.  Corresponding these columns to the readme file that came with the dataset, many of these are codes.  It may be useful to convert some of these codes into the actual descriptions seeing that the dataframe itself is not extremely large. \n",
    "\n",
    "3. There are a lot of features, however the Burn_Index which is my target feature is rather small (2883 entries).  May need to look elsewhere to gather additional data. "
   ]
  },
  {
   "cell_type": "code",
   "execution_count": 143,
   "metadata": {},
   "outputs": [
    {
     "data": {
      "text/plain": [
       "['FireYear',\n",
       " 'Current_District',\n",
       " 'Current_Unit',\n",
       " 'FireNumber',\n",
       " 'FiscalYear',\n",
       " 'FireName',\n",
       " 'Twn',\n",
       " 'Rng',\n",
       " 'Sec',\n",
       " 'Subdiv',\n",
       " 'County',\n",
       " 'CauseByDesc',\n",
       " 'GeneralDesc',\n",
       " 'SpecificDesc',\n",
       " 'Cause_Comments',\n",
       " 'General_Restriction',\n",
       " 'Industrial_Restriction',\n",
       " 'Burn_Index',\n",
       " 'RegulatedUseZone',\n",
       " 'Ign_DateTime',\n",
       " 'ReportDateAndTime',\n",
       " 'Control_DateTime',\n",
       " 'Flame_length',\n",
       " 'Behavior',\n",
       " 'Fuel',\n",
       " 'Topography',\n",
       " 'Aspect',\n",
       " 'Slope',\n",
       " 'Elevation',\n",
       " 'Size_acres',\n",
       " 'Size_prot',\n",
       " 'Location']"
      ]
     },
     "execution_count": 143,
     "metadata": {},
     "output_type": "execute_result"
    }
   ],
   "source": [
    "list(oregon.columns.values)"
   ]
  },
  {
   "cell_type": "code",
   "execution_count": 144,
   "metadata": {
    "collapsed": true
   },
   "outputs": [],
   "source": [
    "#creating a key for county columns\n",
    "County_dict = {'1':'Baker','2':'Benton','3':'Clackmas','4':'Clatsop','5':'Columbia','6':'Coos','7':'Crook','8':'Curry','9':'Deschutes','10':'Douglas','11':'Gilliam','12':'Grant','13':'Harney','14':'Hood River','15':'Jackson','16':'Jefferson','17':'Josephine','18':'Klamth','19':'Lake','20':'Lane','21':'Lincoln','22':'Linn','23':'Malheur','24':'Marion','25':'Morrow','26':'Multnomah','27':'Polk','28':'Sherman','29':'Tillamook','30':'Umatilla','31':'Union','32':'Wallowa','33':'Wasco','34':'Washington','35':'Wheeler','36':'Yamhill','37':'Other State'}"
   ]
  },
  {
   "cell_type": "code",
   "execution_count": 145,
   "metadata": {
    "collapsed": true
   },
   "outputs": [],
   "source": [
    "#finding observations where all columns are null values\n",
    "null_columns = oregon.columns[oregon.isnull().any()]\n",
    "blanks = oregon[oregon.isnull().all(axis=1)][null_columns]"
   ]
  },
  {
   "cell_type": "code",
   "execution_count": 146,
   "metadata": {
    "collapsed": true
   },
   "outputs": [],
   "source": [
    "#creating a list of indices with blank rows\n",
    "blank_list=list(blanks.index.values)"
   ]
  },
  {
   "cell_type": "code",
   "execution_count": 147,
   "metadata": {
    "collapsed": true
   },
   "outputs": [],
   "source": [
    "#filtering out blank rows in new df\n",
    "oregon = oregon[~oregon.index.isin(blank_list)]"
   ]
  },
  {
   "cell_type": "code",
   "execution_count": 148,
   "metadata": {},
   "outputs": [
    {
     "name": "stdout",
     "output_type": "stream",
     "text": [
      "<class 'pandas.core.frame.DataFrame'>\n",
      "Int64Index: 28490 entries, 416 to 74223\n",
      "Data columns (total 32 columns):\n",
      "FireYear                  28490 non-null object\n",
      "Current_District          28489 non-null float64\n",
      "Current_Unit              28489 non-null float64\n",
      "FireNumber                28489 non-null float64\n",
      "FiscalYear                28490 non-null object\n",
      "FireName                  28474 non-null object\n",
      "Twn                       25903 non-null object\n",
      "Rng                       25901 non-null object\n",
      "Sec                       25861 non-null float64\n",
      "Subdiv                    22398 non-null object\n",
      "County                    28465 non-null float64\n",
      "CauseByDesc               10987 non-null object\n",
      "GeneralDesc               28030 non-null object\n",
      "SpecificDesc              24867 non-null object\n",
      "Cause_Comments            10276 non-null object\n",
      "General_Restriction       11061 non-null float64\n",
      "Industrial_Restriction    11060 non-null float64\n",
      "Burn_Index                2883 non-null float64\n",
      "RegulatedUseZone          11585 non-null object\n",
      "Ign_DateTime              11065 non-null object\n",
      "ReportDateAndTime         28489 non-null object\n",
      "Control_DateTime          11058 non-null object\n",
      "Flame_length              2337 non-null float64\n",
      "Behavior                  11049 non-null float64\n",
      "Fuel                      11104 non-null object\n",
      "Topography                3233 non-null float64\n",
      "Aspect                    3233 non-null float64\n",
      "Slope                     3233 non-null float64\n",
      "Elevation                 3848 non-null float64\n",
      "Size_acres                14719 non-null float64\n",
      "Size_prot                 25718 non-null float64\n",
      "Location                  23941 non-null object\n",
      "dtypes: float64(16), object(16)\n",
      "memory usage: 7.2+ MB\n"
     ]
    }
   ],
   "source": [
    "oregon.info()"
   ]
  },
  {
   "cell_type": "markdown",
   "metadata": {},
   "source": [
    "# By removing the null values\n",
    "\n",
    "1. Dataset is significantly less.  28490 vs 74224 entries.  \n",
    "2. There is location data per the coordinates. \n",
    "3. Create some dictionaries to add some descriptions to County"
   ]
  },
  {
   "cell_type": "code",
   "execution_count": 149,
   "metadata": {
    "collapsed": true
   },
   "outputs": [],
   "source": [
    "#creating a key for county columns\n",
    "County_dict = {'1':'Baker','2':'Benton','3':'Clackmas','4':'Clatsop','5':'Columbia','6':'Coos','7':'Crook','8':'Curry','9':'Deschutes','10':'Douglas','11':'Gilliam','12':'Grant','13':'Harney','14':'Hood River','15':'Jackson','16':'Jefferson','17':'Josephine','18':'Klamth','19':'Lake','20':'Lane','21':'Lincoln','22':'Linn','23':'Malheur','24':'Marion','25':'Morrow','26':'Multnomah','27':'Polk','28':'Sherman','29':'Tillamook','30':'Umatilla','31':'Union','32':'Wallowa','33':'Wasco','34':'Washington','35':'Wheeler','36':'Yamhill','37':'Other State'}"
   ]
  },
  {
   "cell_type": "code",
   "execution_count": 150,
   "metadata": {},
   "outputs": [
    {
     "name": "stdout",
     "output_type": "stream",
     "text": [
      "<class 'pandas.core.frame.DataFrame'>\n",
      "Int64Index: 28490 entries, 416 to 74223\n",
      "Data columns (total 33 columns):\n",
      "FireYear                  28490 non-null object\n",
      "Current_District          28489 non-null float64\n",
      "Current_Unit              28489 non-null float64\n",
      "FireNumber                28489 non-null float64\n",
      "FiscalYear                28490 non-null object\n",
      "FireName                  28474 non-null object\n",
      "Twn                       25903 non-null object\n",
      "Rng                       25901 non-null object\n",
      "Sec                       25861 non-null float64\n",
      "Subdiv                    22398 non-null object\n",
      "County                    28490 non-null object\n",
      "CauseByDesc               10987 non-null object\n",
      "GeneralDesc               28030 non-null object\n",
      "SpecificDesc              24867 non-null object\n",
      "Cause_Comments            10276 non-null object\n",
      "General_Restriction       11061 non-null float64\n",
      "Industrial_Restriction    11060 non-null float64\n",
      "Burn_Index                2883 non-null float64\n",
      "RegulatedUseZone          11585 non-null object\n",
      "Ign_DateTime              11065 non-null object\n",
      "ReportDateAndTime         28489 non-null object\n",
      "Control_DateTime          11058 non-null object\n",
      "Flame_length              2337 non-null float64\n",
      "Behavior                  11049 non-null float64\n",
      "Fuel                      11104 non-null object\n",
      "Topography                3233 non-null float64\n",
      "Aspect                    3233 non-null float64\n",
      "Slope                     3233 non-null float64\n",
      "Elevation                 3848 non-null float64\n",
      "Size_acres                14719 non-null float64\n",
      "Size_prot                 25718 non-null float64\n",
      "Location                  23941 non-null object\n",
      "County_Name               28465 non-null object\n",
      "dtypes: float64(15), object(18)\n",
      "memory usage: 7.4+ MB\n"
     ]
    }
   ],
   "source": [
    "#adding county name to df\n",
    "oregon['County'].fillna(0,inplace=True)\n",
    "oregon['County'] = [int(cell) for cell in oregon['County']]\n",
    "oregon['County']= [str(num) for num in oregon['County']]\n",
    "oregon['County_Name'] = oregon['County'].map(County_dict)\n",
    "oregon.info()"
   ]
  },
  {
   "cell_type": "code",
   "execution_count": 204,
   "metadata": {},
   "outputs": [],
   "source": [
    "#reindexing dataframe by FireNumber\n",
    "oregon = oregon.reset_index(drop=True)"
   ]
  },
  {
   "cell_type": "code",
   "execution_count": 205,
   "metadata": {},
   "outputs": [
    {
     "data": {
      "text/plain": [
       "'07/31/2005 12:00:00 AM'"
      ]
     },
     "execution_count": 205,
     "metadata": {},
     "output_type": "execute_result"
    }
   ],
   "source": [
    "#Before plotting, need to change FireYear to datetime object, first investigate what type of object is the report date and time\n",
    "\n",
    "oregon.loc[0,'ReportDateAndTime']"
   ]
  },
  {
   "cell_type": "code",
   "execution_count": 220,
   "metadata": {},
   "outputs": [
    {
     "data": {
      "text/plain": [
       "str"
      ]
     },
     "execution_count": 220,
     "metadata": {},
     "output_type": "execute_result"
    }
   ],
   "source": [
    "type(oregon.loc[0,'ReportDateAndTime'])"
   ]
  },
  {
   "cell_type": "code",
   "execution_count": 219,
   "metadata": {},
   "outputs": [
    {
     "ename": "TypeError",
     "evalue": "strptime() argument 1 must be str, not float",
     "output_type": "error",
     "traceback": [
      "\u001b[0;31m---------------------------------------------------------------------------\u001b[0m",
      "\u001b[0;31mTypeError\u001b[0m                                 Traceback (most recent call last)",
      "\u001b[0;32m<ipython-input-219-2ccd71605c57>\u001b[0m in \u001b[0;36m<module>\u001b[0;34m()\u001b[0m\n\u001b[1;32m      1\u001b[0m \u001b[0;32mfrom\u001b[0m \u001b[0mdatetime\u001b[0m \u001b[0;32mimport\u001b[0m \u001b[0mdatetime\u001b[0m\u001b[0;34m\u001b[0m\u001b[0m\n\u001b[1;32m      2\u001b[0m \u001b[0;31m#oregon['ReportDateAndTime']= [pd.to_datetime(cell, format='%M%d%Y') for cell in oregon['FireYear']]\u001b[0m\u001b[0;34m\u001b[0m\u001b[0;34m\u001b[0m\u001b[0m\n\u001b[0;32m----> 3\u001b[0;31m \u001b[0moregon\u001b[0m\u001b[0;34m[\u001b[0m\u001b[0;34m'ReportDateAndTime'\u001b[0m\u001b[0;34m]\u001b[0m\u001b[0;34m=\u001b[0m\u001b[0;34m[\u001b[0m\u001b[0mdatetime\u001b[0m\u001b[0;34m.\u001b[0m\u001b[0mstrptime\u001b[0m\u001b[0;34m(\u001b[0m\u001b[0mx\u001b[0m\u001b[0;34m,\u001b[0m\u001b[0;34m'%m/%d/%Y %H:%M:%S %p'\u001b[0m\u001b[0;34m)\u001b[0m \u001b[0;32mfor\u001b[0m \u001b[0mx\u001b[0m \u001b[0;32min\u001b[0m \u001b[0moregon\u001b[0m\u001b[0;34m[\u001b[0m\u001b[0;34m'ReportDateAndTime'\u001b[0m\u001b[0;34m]\u001b[0m\u001b[0;34m]\u001b[0m\u001b[0;34m\u001b[0m\u001b[0m\n\u001b[0m\u001b[1;32m      4\u001b[0m \u001b[0;31m#oregon['ReportDateAndTime']=datetime.strptime(oregon['ReportDateAndTime'],'%m/%d/%Y %H:%M:%S %p')\u001b[0m\u001b[0;34m\u001b[0m\u001b[0;34m\u001b[0m\u001b[0m\n",
      "\u001b[0;32m<ipython-input-219-2ccd71605c57>\u001b[0m in \u001b[0;36m<listcomp>\u001b[0;34m(.0)\u001b[0m\n\u001b[1;32m      1\u001b[0m \u001b[0;32mfrom\u001b[0m \u001b[0mdatetime\u001b[0m \u001b[0;32mimport\u001b[0m \u001b[0mdatetime\u001b[0m\u001b[0;34m\u001b[0m\u001b[0m\n\u001b[1;32m      2\u001b[0m \u001b[0;31m#oregon['ReportDateAndTime']= [pd.to_datetime(cell, format='%M%d%Y') for cell in oregon['FireYear']]\u001b[0m\u001b[0;34m\u001b[0m\u001b[0;34m\u001b[0m\u001b[0m\n\u001b[0;32m----> 3\u001b[0;31m \u001b[0moregon\u001b[0m\u001b[0;34m[\u001b[0m\u001b[0;34m'ReportDateAndTime'\u001b[0m\u001b[0;34m]\u001b[0m\u001b[0;34m=\u001b[0m\u001b[0;34m[\u001b[0m\u001b[0mdatetime\u001b[0m\u001b[0;34m.\u001b[0m\u001b[0mstrptime\u001b[0m\u001b[0;34m(\u001b[0m\u001b[0mx\u001b[0m\u001b[0;34m,\u001b[0m\u001b[0;34m'%m/%d/%Y %H:%M:%S %p'\u001b[0m\u001b[0;34m)\u001b[0m \u001b[0;32mfor\u001b[0m \u001b[0mx\u001b[0m \u001b[0;32min\u001b[0m \u001b[0moregon\u001b[0m\u001b[0;34m[\u001b[0m\u001b[0;34m'ReportDateAndTime'\u001b[0m\u001b[0;34m]\u001b[0m\u001b[0;34m]\u001b[0m\u001b[0;34m\u001b[0m\u001b[0m\n\u001b[0m\u001b[1;32m      4\u001b[0m \u001b[0;31m#oregon['ReportDateAndTime']=datetime.strptime(oregon['ReportDateAndTime'],'%m/%d/%Y %H:%M:%S %p')\u001b[0m\u001b[0;34m\u001b[0m\u001b[0;34m\u001b[0m\u001b[0m\n",
      "\u001b[0;31mTypeError\u001b[0m: strptime() argument 1 must be str, not float"
     ]
    }
   ],
   "source": [
    "from datetime import datetime\n",
    "#oregon['ReportDateAndTime']= [pd.to_datetime(cell, format='%M%d%Y') for cell in oregon['FireYear']]\n",
    "oregon['ReportDateAndTime']=[datetime.strptime(x,'%m/%d/%Y %H:%M:%S %p') for x in oregon['ReportDateAndTime']]\n",
    "#oregon['ReportDateAndTime']=datetime.strptime(oregon['ReportDateAndTime'],'%m/%d/%Y %H:%M:%S %p')"
   ]
  },
  {
   "cell_type": "code",
   "execution_count": 152,
   "metadata": {
    "collapsed": true
   },
   "outputs": [],
   "source": [
    "#creating dfs with different traits\n",
    "location_cols = [['Current_District','FireName','Subdiv','County','Elevation','Location', 'County_Name']]\n",
    "behavior_cols = [['CausebyDesc','GeneralDesc','SpecificDesc','Cause_Comments','Burn_Index','Flame_length','Behavior','Fuel','Topography','Aspect','Slope','Size_acres']]"
   ]
  },
  {
   "cell_type": "code",
   "execution_count": 168,
   "metadata": {},
   "outputs": [
    {
     "data": {
      "image/png": "[encoded data removed]",
      "text/plain": [
       "<matplotlib.figure.Figure at 0x1145d1a58>"
      ]
     },
     "metadata": {},
     "output_type": "display_data"
    }
   ],
   "source": [
    "#investigating spread of Burn_Index\n",
    "fig, ax = plt.pyplot.subplots()\n",
    "fig.set_size_inches(20,8)\n",
    "_ = sns.boxplot(x='FireYear',y='Burn_Index',data=oregon)\n",
    "sns.plt.show()"
   ]
  },
  {
   "cell_type": "markdown",
   "metadata": {},
   "source": [
    "There seeems to be an outlier in 2007 with a extremely high burn index.   "
   ]
  }
 ],
 "metadata": {
  "kernelspec": {
   "display_name": "Python 3",
   "language": "python",
   "name": "python3"
  },
  "language_info": {
   "codemirror_mode": {
    "name": "ipython",
    "version": 3
   },
   "file_extension": ".py",
   "mimetype": "text/x-python",
   "name": "python",
   "nbconvert_exporter": "python",
   "pygments_lexer": "ipython3",
   "version": "3.6.1"
  }
 },
 "nbformat": 4,
 "nbformat_minor": 2
}
