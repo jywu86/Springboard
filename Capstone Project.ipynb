{
 "cells": [
  {
   "cell_type": "code",
   "execution_count": 41,
   "metadata": {
    "collapsed": true
   },
   "outputs": [],
   "source": [
    "import pandas as pd\n",
    "import numpy as np \n",
    "import seaborn as sns\n",
    "import matplotlib as plt\n",
    "\n",
    "\n",
    "#importing dataset\n",
    "models = pd.read_csv('norway_new_car_sales_by_model.csv', encoding = 'latin1')\n",
    "make = pd.read_csv('norway_new_car_sales_by_make.csv', encoding='latin1')\n",
    "month = pd.read_csv('norway_new_car_sales_by_month.csv', encoding='latin1')"
   ]
  },
  {
   "cell_type": "code",
   "execution_count": 16,
   "metadata": {},
   "outputs": [
    {
     "data": {
      "text/html": [
       "<div>\n",
       "<style>\n",
       "    .dataframe thead tr:only-child th {\n",
       "        text-align: right;\n",
       "    }\n",
       "\n",
       "    .dataframe thead th {\n",
       "        text-align: left;\n",
       "    }\n",
       "\n",
       "    .dataframe tbody tr th {\n",
       "        vertical-align: top;\n",
       "    }\n",
       "</style>\n",
       "<table border=\"1\" class=\"dataframe\">\n",
       "  <thead>\n",
       "    <tr style=\"text-align: right;\">\n",
       "      <th></th>\n",
       "      <th>Year</th>\n",
       "      <th>Month</th>\n",
       "      <th>Make</th>\n",
       "      <th>Model</th>\n",
       "      <th>Quantity</th>\n",
       "      <th>Pct</th>\n",
       "    </tr>\n",
       "  </thead>\n",
       "  <tbody>\n",
       "    <tr>\n",
       "      <th>0</th>\n",
       "      <td>2007</td>\n",
       "      <td>1</td>\n",
       "      <td>Volkswagen</td>\n",
       "      <td>Volkswagen Passat</td>\n",
       "      <td>1267</td>\n",
       "      <td>10.0</td>\n",
       "    </tr>\n",
       "    <tr>\n",
       "      <th>1</th>\n",
       "      <td>2007</td>\n",
       "      <td>1</td>\n",
       "      <td>Toyota</td>\n",
       "      <td>Toyota Rav4</td>\n",
       "      <td>819</td>\n",
       "      <td>6.5</td>\n",
       "    </tr>\n",
       "    <tr>\n",
       "      <th>2</th>\n",
       "      <td>2007</td>\n",
       "      <td>1</td>\n",
       "      <td>Toyota</td>\n",
       "      <td>Toyota Avensis</td>\n",
       "      <td>787</td>\n",
       "      <td>6.2</td>\n",
       "    </tr>\n",
       "    <tr>\n",
       "      <th>3</th>\n",
       "      <td>2007</td>\n",
       "      <td>1</td>\n",
       "      <td>Volkswagen</td>\n",
       "      <td>Volkswagen Golf</td>\n",
       "      <td>720</td>\n",
       "      <td>5.7</td>\n",
       "    </tr>\n",
       "    <tr>\n",
       "      <th>4</th>\n",
       "      <td>2007</td>\n",
       "      <td>1</td>\n",
       "      <td>Toyota</td>\n",
       "      <td>Toyota Corolla</td>\n",
       "      <td>691</td>\n",
       "      <td>5.4</td>\n",
       "    </tr>\n",
       "  </tbody>\n",
       "</table>\n",
       "</div>"
      ],
      "text/plain": [
       "   Year  Month         Make              Model  Quantity   Pct\n",
       "0  2007      1  Volkswagen   Volkswagen Passat      1267  10.0\n",
       "1  2007      1      Toyota         Toyota Rav4       819   6.5\n",
       "2  2007      1      Toyota      Toyota Avensis       787   6.2\n",
       "3  2007      1  Volkswagen     Volkswagen Golf       720   5.7\n",
       "4  2007      1      Toyota      Toyota Corolla       691   5.4"
      ]
     },
     "execution_count": 16,
     "metadata": {},
     "output_type": "execute_result"
    }
   ],
   "source": [
    "models.head()"
   ]
  },
  {
   "cell_type": "code",
   "execution_count": 17,
   "metadata": {},
   "outputs": [
    {
     "data": {
      "text/html": [
       "<div>\n",
       "<style>\n",
       "    .dataframe thead tr:only-child th {\n",
       "        text-align: right;\n",
       "    }\n",
       "\n",
       "    .dataframe thead th {\n",
       "        text-align: left;\n",
       "    }\n",
       "\n",
       "    .dataframe tbody tr th {\n",
       "        vertical-align: top;\n",
       "    }\n",
       "</style>\n",
       "<table border=\"1\" class=\"dataframe\">\n",
       "  <thead>\n",
       "    <tr style=\"text-align: right;\">\n",
       "      <th></th>\n",
       "      <th>Year</th>\n",
       "      <th>Month</th>\n",
       "      <th>Make</th>\n",
       "      <th>Quantity</th>\n",
       "      <th>Pct</th>\n",
       "    </tr>\n",
       "  </thead>\n",
       "  <tbody>\n",
       "    <tr>\n",
       "      <th>0</th>\n",
       "      <td>2007</td>\n",
       "      <td>1</td>\n",
       "      <td>Toyota</td>\n",
       "      <td>2884</td>\n",
       "      <td>22.7</td>\n",
       "    </tr>\n",
       "    <tr>\n",
       "      <th>1</th>\n",
       "      <td>2007</td>\n",
       "      <td>1</td>\n",
       "      <td>Volkswagen</td>\n",
       "      <td>2521</td>\n",
       "      <td>19.9</td>\n",
       "    </tr>\n",
       "    <tr>\n",
       "      <th>2</th>\n",
       "      <td>2007</td>\n",
       "      <td>1</td>\n",
       "      <td>Peugeot</td>\n",
       "      <td>1029</td>\n",
       "      <td>8.1</td>\n",
       "    </tr>\n",
       "    <tr>\n",
       "      <th>3</th>\n",
       "      <td>2007</td>\n",
       "      <td>1</td>\n",
       "      <td>Ford</td>\n",
       "      <td>870</td>\n",
       "      <td>6.9</td>\n",
       "    </tr>\n",
       "    <tr>\n",
       "      <th>4</th>\n",
       "      <td>2007</td>\n",
       "      <td>1</td>\n",
       "      <td>Volvo</td>\n",
       "      <td>693</td>\n",
       "      <td>5.5</td>\n",
       "    </tr>\n",
       "  </tbody>\n",
       "</table>\n",
       "</div>"
      ],
      "text/plain": [
       "   Year  Month        Make  Quantity   Pct\n",
       "0  2007      1      Toyota      2884  22.7\n",
       "1  2007      1  Volkswagen      2521  19.9\n",
       "2  2007      1     Peugeot      1029   8.1\n",
       "3  2007      1        Ford       870   6.9\n",
       "4  2007      1       Volvo       693   5.5"
      ]
     },
     "execution_count": 17,
     "metadata": {},
     "output_type": "execute_result"
    }
   ],
   "source": [
    "make.head()"
   ]
  },
  {
   "cell_type": "code",
   "execution_count": 21,
   "metadata": {},
   "outputs": [
    {
     "data": {
      "text/html": [
       "<div>\n",
       "<style>\n",
       "    .dataframe thead tr:only-child th {\n",
       "        text-align: right;\n",
       "    }\n",
       "\n",
       "    .dataframe thead th {\n",
       "        text-align: left;\n",
       "    }\n",
       "\n",
       "    .dataframe tbody tr th {\n",
       "        vertical-align: top;\n",
       "    }\n",
       "</style>\n",
       "<table border=\"1\" class=\"dataframe\">\n",
       "  <thead>\n",
       "    <tr style=\"text-align: right;\">\n",
       "      <th></th>\n",
       "      <th>Year</th>\n",
       "      <th>Month</th>\n",
       "      <th>Make</th>\n",
       "      <th>Quantity</th>\n",
       "      <th>Pct</th>\n",
       "    </tr>\n",
       "  </thead>\n",
       "  <tbody>\n",
       "    <tr>\n",
       "      <th>4372</th>\n",
       "      <td>2017</td>\n",
       "      <td>1</td>\n",
       "      <td>Nilsson</td>\n",
       "      <td>3</td>\n",
       "      <td>0.0</td>\n",
       "    </tr>\n",
       "    <tr>\n",
       "      <th>4373</th>\n",
       "      <td>2017</td>\n",
       "      <td>1</td>\n",
       "      <td>Maserati</td>\n",
       "      <td>2</td>\n",
       "      <td>0.0</td>\n",
       "    </tr>\n",
       "    <tr>\n",
       "      <th>4374</th>\n",
       "      <td>2017</td>\n",
       "      <td>1</td>\n",
       "      <td>Ferrari</td>\n",
       "      <td>1</td>\n",
       "      <td>0.0</td>\n",
       "    </tr>\n",
       "    <tr>\n",
       "      <th>4375</th>\n",
       "      <td>2017</td>\n",
       "      <td>1</td>\n",
       "      <td>Smart</td>\n",
       "      <td>1</td>\n",
       "      <td>0.0</td>\n",
       "    </tr>\n",
       "    <tr>\n",
       "      <th>4376</th>\n",
       "      <td>2017</td>\n",
       "      <td>1</td>\n",
       "      <td>Ssangyong</td>\n",
       "      <td>1</td>\n",
       "      <td>0.0</td>\n",
       "    </tr>\n",
       "  </tbody>\n",
       "</table>\n",
       "</div>"
      ],
      "text/plain": [
       "      Year  Month       Make  Quantity  Pct\n",
       "4372  2017      1    Nilsson         3  0.0\n",
       "4373  2017      1   Maserati         2  0.0\n",
       "4374  2017      1    Ferrari         1  0.0\n",
       "4375  2017      1      Smart         1  0.0\n",
       "4376  2017      1  Ssangyong         1  0.0"
      ]
     },
     "execution_count": 21,
     "metadata": {},
     "output_type": "execute_result"
    }
   ],
   "source": [
    "make.tail()"
   ]
  },
  {
   "cell_type": "code",
   "execution_count": 18,
   "metadata": {},
   "outputs": [
    {
     "data": {
      "text/html": [
       "<div>\n",
       "<style>\n",
       "    .dataframe thead tr:only-child th {\n",
       "        text-align: right;\n",
       "    }\n",
       "\n",
       "    .dataframe thead th {\n",
       "        text-align: left;\n",
       "    }\n",
       "\n",
       "    .dataframe tbody tr th {\n",
       "        vertical-align: top;\n",
       "    }\n",
       "</style>\n",
       "<table border=\"1\" class=\"dataframe\">\n",
       "  <thead>\n",
       "    <tr style=\"text-align: right;\">\n",
       "      <th></th>\n",
       "      <th>Year</th>\n",
       "      <th>Month</th>\n",
       "      <th>Quantity</th>\n",
       "      <th>Quantity_YoY</th>\n",
       "      <th>Import</th>\n",
       "      <th>Import_YoY</th>\n",
       "      <th>Used</th>\n",
       "      <th>Used_YoY</th>\n",
       "      <th>Avg_CO2</th>\n",
       "      <th>Bensin_Co2</th>\n",
       "      <th>Diesel_Co2</th>\n",
       "      <th>Quantity_Diesel</th>\n",
       "      <th>Diesel_Share</th>\n",
       "      <th>Diesel_Share_LY</th>\n",
       "      <th>Quantity_Hybrid</th>\n",
       "      <th>Quantity_Electric</th>\n",
       "      <th>Import_Electric</th>\n",
       "    </tr>\n",
       "  </thead>\n",
       "  <tbody>\n",
       "    <tr>\n",
       "      <th>0</th>\n",
       "      <td>2007</td>\n",
       "      <td>1</td>\n",
       "      <td>12685</td>\n",
       "      <td>5227</td>\n",
       "      <td>2276</td>\n",
       "      <td>257</td>\n",
       "      <td>NaN</td>\n",
       "      <td>NaN</td>\n",
       "      <td>152</td>\n",
       "      <td>155</td>\n",
       "      <td>152</td>\n",
       "      <td>10072</td>\n",
       "      <td>79.4</td>\n",
       "      <td>52.5</td>\n",
       "      <td>NaN</td>\n",
       "      <td>NaN</td>\n",
       "      <td>NaN</td>\n",
       "    </tr>\n",
       "    <tr>\n",
       "      <th>1</th>\n",
       "      <td>2007</td>\n",
       "      <td>2</td>\n",
       "      <td>9793</td>\n",
       "      <td>2448</td>\n",
       "      <td>1992</td>\n",
       "      <td>-89</td>\n",
       "      <td>NaN</td>\n",
       "      <td>NaN</td>\n",
       "      <td>156</td>\n",
       "      <td>159</td>\n",
       "      <td>155</td>\n",
       "      <td>7222</td>\n",
       "      <td>73.7</td>\n",
       "      <td>47.4</td>\n",
       "      <td>NaN</td>\n",
       "      <td>NaN</td>\n",
       "      <td>NaN</td>\n",
       "    </tr>\n",
       "    <tr>\n",
       "      <th>2</th>\n",
       "      <td>2007</td>\n",
       "      <td>3</td>\n",
       "      <td>11264</td>\n",
       "      <td>1445</td>\n",
       "      <td>2626</td>\n",
       "      <td>45</td>\n",
       "      <td>NaN</td>\n",
       "      <td>NaN</td>\n",
       "      <td>159</td>\n",
       "      <td>161</td>\n",
       "      <td>158</td>\n",
       "      <td>7965</td>\n",
       "      <td>70.7</td>\n",
       "      <td>48.1</td>\n",
       "      <td>NaN</td>\n",
       "      <td>NaN</td>\n",
       "      <td>NaN</td>\n",
       "    </tr>\n",
       "    <tr>\n",
       "      <th>3</th>\n",
       "      <td>2007</td>\n",
       "      <td>4</td>\n",
       "      <td>8854</td>\n",
       "      <td>504</td>\n",
       "      <td>2220</td>\n",
       "      <td>-130</td>\n",
       "      <td>NaN</td>\n",
       "      <td>NaN</td>\n",
       "      <td>160</td>\n",
       "      <td>165</td>\n",
       "      <td>158</td>\n",
       "      <td>6116</td>\n",
       "      <td>69.1</td>\n",
       "      <td>48.4</td>\n",
       "      <td>NaN</td>\n",
       "      <td>NaN</td>\n",
       "      <td>NaN</td>\n",
       "    </tr>\n",
       "    <tr>\n",
       "      <th>4</th>\n",
       "      <td>2007</td>\n",
       "      <td>5</td>\n",
       "      <td>12007</td>\n",
       "      <td>1592</td>\n",
       "      <td>2881</td>\n",
       "      <td>7</td>\n",
       "      <td>NaN</td>\n",
       "      <td>NaN</td>\n",
       "      <td>160</td>\n",
       "      <td>163</td>\n",
       "      <td>159</td>\n",
       "      <td>8519</td>\n",
       "      <td>71.0</td>\n",
       "      <td>49.1</td>\n",
       "      <td>NaN</td>\n",
       "      <td>NaN</td>\n",
       "      <td>NaN</td>\n",
       "    </tr>\n",
       "  </tbody>\n",
       "</table>\n",
       "</div>"
      ],
      "text/plain": [
       "   Year  Month  Quantity  Quantity_YoY  Import  Import_YoY  Used  Used_YoY  \\\n",
       "0  2007      1     12685          5227    2276         257   NaN       NaN   \n",
       "1  2007      2      9793          2448    1992         -89   NaN       NaN   \n",
       "2  2007      3     11264          1445    2626          45   NaN       NaN   \n",
       "3  2007      4      8854           504    2220        -130   NaN       NaN   \n",
       "4  2007      5     12007          1592    2881           7   NaN       NaN   \n",
       "\n",
       "   Avg_CO2  Bensin_Co2  Diesel_Co2  Quantity_Diesel  Diesel_Share  \\\n",
       "0      152         155         152            10072          79.4   \n",
       "1      156         159         155             7222          73.7   \n",
       "2      159         161         158             7965          70.7   \n",
       "3      160         165         158             6116          69.1   \n",
       "4      160         163         159             8519          71.0   \n",
       "\n",
       "   Diesel_Share_LY  Quantity_Hybrid  Quantity_Electric  Import_Electric  \n",
       "0             52.5              NaN                NaN              NaN  \n",
       "1             47.4              NaN                NaN              NaN  \n",
       "2             48.1              NaN                NaN              NaN  \n",
       "3             48.4              NaN                NaN              NaN  \n",
       "4             49.1              NaN                NaN              NaN  "
      ]
     },
     "execution_count": 18,
     "metadata": {},
     "output_type": "execute_result"
    }
   ],
   "source": [
    "month.head()"
   ]
  },
  {
   "cell_type": "code",
   "execution_count": 69,
   "metadata": {},
   "outputs": [
    {
     "data": {
      "image/png": "[encoded data removed]",
      "text/plain": [
       "<matplotlib.figure.Figure at 0x10474fb38>"
      ]
     },
     "metadata": {},
     "output_type": "display_data"
    }
   ],
   "source": [
    "_ = sns.boxplot(x='Year',y='Quantity',data=make)\n",
    "sns.plt.show()"
   ]
  },
  {
   "cell_type": "code",
   "execution_count": null,
   "metadata": {
    "collapsed": true
   },
   "outputs": [],
   "source": [
    "#creating ECDF"
   ]
  },
  {
   "cell_type": "code",
   "execution_count": 34,
   "metadata": {},
   "outputs": [
    {
     "data": {
      "text/html": [
       "<div>\n",
       "<style>\n",
       "    .dataframe thead tr:only-child th {\n",
       "        text-align: right;\n",
       "    }\n",
       "\n",
       "    .dataframe thead th {\n",
       "        text-align: left;\n",
       "    }\n",
       "\n",
       "    .dataframe tbody tr th {\n",
       "        vertical-align: top;\n",
       "    }\n",
       "</style>\n",
       "<table border=\"1\" class=\"dataframe\">\n",
       "  <thead>\n",
       "    <tr style=\"text-align: right;\">\n",
       "      <th></th>\n",
       "      <th>Year</th>\n",
       "      <th>Energy</th>\n",
       "      <th>value</th>\n",
       "    </tr>\n",
       "  </thead>\n",
       "  <tbody>\n",
       "    <tr>\n",
       "      <th>474</th>\n",
       "      <td>2016</td>\n",
       "      <td>Quantity_Electric</td>\n",
       "      <td>1993.0</td>\n",
       "    </tr>\n",
       "    <tr>\n",
       "      <th>475</th>\n",
       "      <td>2016</td>\n",
       "      <td>Quantity_Electric</td>\n",
       "      <td>1423.0</td>\n",
       "    </tr>\n",
       "    <tr>\n",
       "      <th>476</th>\n",
       "      <td>2016</td>\n",
       "      <td>Quantity_Electric</td>\n",
       "      <td>1906.0</td>\n",
       "    </tr>\n",
       "    <tr>\n",
       "      <th>477</th>\n",
       "      <td>2016</td>\n",
       "      <td>Quantity_Electric</td>\n",
       "      <td>1103.0</td>\n",
       "    </tr>\n",
       "    <tr>\n",
       "      <th>478</th>\n",
       "      <td>2016</td>\n",
       "      <td>Quantity_Electric</td>\n",
       "      <td>2014.0</td>\n",
       "    </tr>\n",
       "    <tr>\n",
       "      <th>479</th>\n",
       "      <td>2016</td>\n",
       "      <td>Quantity_Electric</td>\n",
       "      <td>2629.0</td>\n",
       "    </tr>\n",
       "    <tr>\n",
       "      <th>480</th>\n",
       "      <td>2016</td>\n",
       "      <td>Quantity_Electric</td>\n",
       "      <td>1861.0</td>\n",
       "    </tr>\n",
       "    <tr>\n",
       "      <th>481</th>\n",
       "      <td>2016</td>\n",
       "      <td>Quantity_Electric</td>\n",
       "      <td>2567.0</td>\n",
       "    </tr>\n",
       "    <tr>\n",
       "      <th>482</th>\n",
       "      <td>2016</td>\n",
       "      <td>Quantity_Electric</td>\n",
       "      <td>2319.0</td>\n",
       "    </tr>\n",
       "    <tr>\n",
       "      <th>483</th>\n",
       "      <td>2017</td>\n",
       "      <td>Quantity_Electric</td>\n",
       "      <td>2295.0</td>\n",
       "    </tr>\n",
       "  </tbody>\n",
       "</table>\n",
       "</div>"
      ],
      "text/plain": [
       "     Year             Energy   value\n",
       "474  2016  Quantity_Electric  1993.0\n",
       "475  2016  Quantity_Electric  1423.0\n",
       "476  2016  Quantity_Electric  1906.0\n",
       "477  2016  Quantity_Electric  1103.0\n",
       "478  2016  Quantity_Electric  2014.0\n",
       "479  2016  Quantity_Electric  2629.0\n",
       "480  2016  Quantity_Electric  1861.0\n",
       "481  2016  Quantity_Electric  2567.0\n",
       "482  2016  Quantity_Electric  2319.0\n",
       "483  2017  Quantity_Electric  2295.0"
      ]
     },
     "execution_count": 34,
     "metadata": {},
     "output_type": "execute_result"
    }
   ],
   "source": [
    "#creating df to plot\n",
    "plotMonth = month[['Year','Quantity','Quantity_Diesel','Quantity_Hybrid','Quantity_Electric']]\n",
    "plotMonth = plotMonth.melt('Year',var_name='Energy')\n",
    "plotMonth.tail(10)"
   ]
  },
  {
   "cell_type": "code",
   "execution_count": 39,
   "metadata": {
    "scrolled": false
   },
   "outputs": [
    {
     "data": {
      "image/png": "[encoded data removed]",
      "text/plain": [
       "<matplotlib.figure.Figure at 0x1137b0438>"
      ]
     },
     "metadata": {},
     "output_type": "display_data"
    },
    {
     "data": {
      "image/png": "[encoded data removed]",
      "text/plain": [
       "<matplotlib.figure.Figure at 0x113a4ef98>"
      ]
     },
     "metadata": {},
     "output_type": "display_data"
    },
    {
     "data": {
      "image/png": "[encoded data removed]",
      "text/plain": [
       "<matplotlib.figure.Figure at 0x113799f98>"
      ]
     },
     "metadata": {},
     "output_type": "display_data"
    }
   ],
   "source": [
    "_ = sns.factorplot(x='Year',y='value',hue='Energy',data=plotMonth)\n",
    "sns.plt.show()\n",
    "#seeing what kind of cars "
   ]
  },
  {
   "cell_type": "code",
   "execution_count": 68,
   "metadata": {
    "collapsed": true
   },
   "outputs": [],
   "source": [
    "#creating a key for labeling different car models\n",
    "nModelsKey = models[['Make','Model']]\n",
    "nModelsKey = nModels.drop_duplicates(subset='Model')\n",
    "#nModelsKey"
   ]
  },
  {
   "cell_type": "code",
   "execution_count": 67,
   "metadata": {},
   "outputs": [
    {
     "ename": "SyntaxError",
     "evalue": "invalid syntax (<ipython-input-67-f3fabf4aa92b>, line 1)",
     "output_type": "error",
     "traceback": [
      "\u001b[0;36m  File \u001b[0;32m\"<ipython-input-67-f3fabf4aa92b>\"\u001b[0;36m, line \u001b[0;32m1\u001b[0m\n\u001b[0;31m    nModelsKey['Fuel-Type']= ['Electric' if make == 'Tesla' for make in nModelsKey.index()]\u001b[0m\n\u001b[0m                                                              ^\u001b[0m\n\u001b[0;31mSyntaxError\u001b[0m\u001b[0;31m:\u001b[0m invalid syntax\n"
     ]
    }
   ],
   "source": []
  },
  {
   "cell_type": "code",
   "execution_count": null,
   "metadata": {
    "collapsed": true
   },
   "outputs": [],
   "source": []
  }
 ],
 "metadata": {
  "kernelspec": {
   "display_name": "Python 3",
   "language": "python",
   "name": "python3"
  },
  "language_info": {
   "codemirror_mode": {
    "name": "ipython",
    "version": 3
   },
   "file_extension": ".py",
   "mimetype": "text/x-python",
   "name": "python",
   "nbconvert_exporter": "python",
   "pygments_lexer": "ipython3",
   "version": "3.6.1"
  }
 },
 "nbformat": 4,
 "nbformat_minor": 2
}
